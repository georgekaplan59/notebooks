{
 "cells": [
  {
   "cell_type": "markdown",
   "metadata": {},
   "source": [
    "# Sistemas electorales proporcionales\n",
    "\n",
    "En España, las elecciones generales, autonómicas y europeas seleccionan a los representantes de los ciudadanos en los parlamentos (Congreso de los Diputados, Senado, Parlamentos autonómicos y Parlamento Europeo). El procedimiento que convierte los votos en puestos parlamentarios se conoce popularmente como [Ley D'Hont](https://es.wikipedia.org/wiki/Sistema_d%27Hondt). El territorio nacional o autónomico se dividen en un número de [circunscripciones](https://es.wikipedia.org/wiki/Circunscripci%C3%B3n_electoral). En el caso de Congreso, Senado y autonómicas, cada provincia es una circunscripción; en las europeas, existe una única circunscripción. El Senado es la única cámara que se configura mediante listas abiertas; cada votante puede seleccionar tres candidatos sin que estos pertenezcan necesariamente al mismo partido. El resto de parlamentos utilizan un sistema de listas cerradas; cada ciudadano vota por una lista de partido.\n",
    "\n",
    "Mucho se ha escrito sobre la justicia y proporcionalidad de la Ley D'Hont. Por ejemplo, en las elecciones al Parlament de Catalunya del año 2015, el grupo de partidos llamados _independentistas_ (Junts Pel Sí o JxSí, Candidatura d'Unitat Popular o CUP) obtuvieron mayor número de diputados que los llamados _no-independentistas_ (Ciutadans-Partido de la Ciudadanía o C's, Partit dels Socialistes de Catalunya-PSOE o PSC, Partit Popular o PP, Catalunya Sí Que Es Pot o CatSíqueesPot _et al._)$^1$. Sin embargo, los segundos obtuvieron mayor número de votos que los primeros.\n",
    "\n",
    "El objetivo de este _notebook_ es tratar de analizar si la aparente desproporcionalidad del sistema de reparto de escaños se debe al algoritmo de asignación (es decir, la Ley D'Hont) o al reparto de escaños entre las distintas circunscripciones. También se probarán otras distribuciones de escaños entre circunscripciones y otros umbrales mínimos de porcentaje de voto. Para ello, se utilizará el caso de las elecciones al Parlament de Catalunya, por su actualidad y por la polarización existente entre dos posiciones claramente opuestas. Los datos utilizados se corresponden a las elecciones de 2015. \n",
    "\n",
    "---\n",
    "$^1$. Las categorías anteriores son polémicas y no se pretende aquí discutir sobre su validez. Se usan simplemente para destacar ciertas paradojas en el sistema electoral vigente. Desde un punto de vista político, no está claro que Catalunya Sí Que Es Pot, unio.cat o PACMA puedan etiquetarse como _no-independentistas_.\n",
    "\n",
    "\n",
    "## Medidas de desproporcionalidad\n",
    "\n",
    "Aunque la proporcionalidad perfecta es inalcanzacle, parece razonable exigir a un sistema electoral, etiquetado como proporcional, la menor discrepancia posible entre el porcentaje de voto popular ($v_i$) y el porcentaje de escaños asignados ($s_i$) a cada partido ($i \\in {1,\\ldots,n}$). \n",
    "\n",
    "Existen varios indicadores que cuantifican _objetivamente_ la desproporcionalidad de un sistema electoral, entre ellos:\n",
    "\n",
    "* __Índice de Rae__: $ I = \\frac{1}{n} \\sum _{i=1}^n |v_i-s_i| $. Desaconsejable, si existen muchos partidos con un porcentaje de voto popular apreciable sin representación parlamentaria. Valor óptimo: 0.\n",
    "* __Índice de Loosemore-Hanby__: $ D = \\frac{1}{2} \\sum _{i=1}^n |v_i-s_i| $. Es la medida más utilizada. Valor óptimo: 0.\n",
    "* __Índice de Gallagher__: $ G = \\sqrt{\\frac{1}{2} \\sum _{i=1}^n (v_i-s_i)^2} $. Penaliza electorales más los sistemas en los que hay partidos con grandes diferencias entre su porcentaje voto popular y su porcentaje de escaños. Suele producir un valor intermedio entre los índices anteriores. Lijphart (1994) characterizes this index as _the most faithful reflection of disproportionality of election results_. Valor óptimo: 0.\n",
    "* __Índice de Loosemore-Hanby ajustado o índice de Grofman__: $ D_{adj} = \\frac{1}{N} \\sum _{i=1}^n |v_i-s_i| $. $N$ es el número efectivo de partidos, y se puede definir de dos maneras: $N_v=\\frac{1}{\\sum {ratio_v}_i^2}$ y $N_s=\\frac{1}{\\sum {ratio_s}_i^2}$. Valor óptimo: 0.\n",
    "* __Índice de Lijphart__: $ \\max{|v_i-s_i|} $. Valor óptimo: 0.\n",
    "* __Índice de Saint-Lague__: $ SL = \\sum_{i=1}^n{\\frac{1}{v_i} (v_i-s_i)^2} $. Valor óptimo: 0.\n",
    "* __Índice de D'Hont__: $ \\max{\\frac{s_i}{v_i}} $. Valor óptimo: 1. Puede ser problemático si algún partido con un pequeño porcentaje de voto popular consigue representación.\n",
    "* __Índice de Cox-Shugart__: $ b = \\frac{\\sum_{i=1}^n v_i s_i}{\\sum_{i=1}^n v_i^2} $. Es la pendiente de la recta de regresión lineal de $s_i$ frente a $v_i$ mediante mínimos cuadrados. En el caso de proporcionalidad perfecta $b=1$. Cuando los partidos grandes tienen mayor representación de la que debieran, se cumple que $b > 1$.\n",
    "\n",
    "El sistema electoral más justo, equitativo o proporcional sería aquel que produzca el valor más próximo al óptimo de cada uno de los índices anteriores. Como valor de referencia del sistema electoral español se puede usar el índice de Gallagher, que asigna Arend Lijphart (2012) a España: 7.28.\n",
    "\n",
    "Otro indicador más cualitativo, intuitivo o político que se utilizará es el total de votos y escaños entre los bloques _independentistas_ y _no-independentistas_. Al darse  una situación real de empate técnico en número de votos en las elecciones al Parlament de Catalunya de 2015, el sistema electoral que reparta los diputados de manera equitativa entre los dos bloques se considerará más justo."
   ]
  },
  {
   "cell_type": "markdown",
   "metadata": {},
   "source": [
    "## Legislación vigente\n",
    "\n",
    "Según consta en el Real Decreto 946/2017 de 27 de octubre, de convocatoria de elecciones al Parlamento de Cataluña:\n",
    "\n",
    "> Las elecciones convocadas mediante este real decreto se regirán por lo establecido en el **artículo 56 y en la disposición transitoria segunda del Estatuto de Autonomía de Cataluña**, que mantiene en vigor la **disposición transitoria cuarta del Estatuto de Autonomía de Cataluña de 1979**; por las normas correspondientes de la **Ley Orgánica 5/1985, de 19 de junio, del Régimen Electoral General**; por el Real Decreto de normas complementarias de estas elecciones; y por las demás disposiciones legales de aplicación a este proceso electoral...\n",
    "\n",
    "El artículo 56 del Estatuto de Autonomía trata sobre la composición y régimen electoral. Entre otras cosas dice:\n",
    "\n",
    "> 1. El Parlamento se compone de un **mínimo de cien Diputados y un máximo de ciento cincuenta**, elegidos para un plazo de cuatro años mediante **sufragio universal, libre, igual, directo y secreto**, de acuerdo con el presente Estatuto y la legislación electoral.\n",
    "> 2. El sistema electoral es de **representación proporcional** y debe asegurar la **representación adecuada de todas las zonas del territorio de Cataluña**... El régimen electoral es regulado por una ley del Parlamento aprobada en una votación final sobre el conjunto del texto por **mayoría de dos terceras partes** de los Diputados.\n",
    "\n",
    "Según la disposición transitoria segunda del actual Estatuto de Autonomía, sigue en vigencia la disposición transitoria cuarta del Estatuto de Autonoía de 1979:\n",
    "\n",
    "> En tanto una Ley de Cataluña no regule el procedimiento para las elecciones al Parlamento, éste será elegido de acuerdo con las normas siguientes:\n",
    "\n",
    "> ... Las **circunscripciones electorales** serán las cuatro provincias de **Barcelona, Gerona, Lérida y Tarragona**. El Parlamento de Cataluña estará integrado por **135 diputados**, de los cuales la circunscripción de **Barcelona elegirá un Diputado por cada 50.000 habitantes, con un máximo de 85 diputados**. Las circunscripciones de **Gerona, Lérida y Tarragona elegirán un mínimo de seis diputados, más uno por cada 40.000 habitantes, atribuyéndose a las mismas 17, 15 y 18 diputados, respectivamente**.\n",
    "\n",
    "> ... En todo aquello que no esté previsto en la presente disposición serán de aplicación las normas vigentes para las elecciones legislativas al Congreso de los Diputados de las Cortes Generales.\n",
    "\n",
    "Como no hay una ley autonómica que regule la asignación de diputados según el número de votos en cada circunscripción se aplica la Ley Orgánica del Régimen Electoral General (LOREG, en adelante), que en su artículo 163 dice:\n",
    "\n",
    "> 1. La atribución de los escaños en función de los resultados del escrutinio se realiza conforme a las siguientes reglas:\n",
    "\n",
    "> a) No se tienen en cuenta aquellas candidaturas que no hubieran obtenido, **al menos, el 3 por 100 de los votos válidos\n",
    "emitidos en la circunscripción**.\n",
    "\n",
    "> b) Se ordenan de mayor a menor, en una columna, las cifras de votos obtenidos por las restantes candidaturas.\n",
    "\n",
    "> c) Se divide el número de votos obtenidos por cada candidatura por 1, 2, 3, etc., hasta un número igual al de escaños correspondientes a la circunscripción... Los escaños se atribuyen a las candidaturas que obtengan los cocientes mayores en el cuadro, atendiendo a un orden decreciente...\n",
    "\n",
    "> d) Cuando en la relación de cocientes coincidan dos correspondientes a distintas candidaturas, el escaño se atribuirá a la que mayor número total de votos hubiese obtenido. Si hubiera dos candidaturas con igual número total de votos, el primer empate se resolverá por sorteo y los sucesivos de forma alternativa.\n",
    "\n",
    "> e) Los escaños correspondientes a cada candidatura se adjudican a los candidatos incluidos en ella, por el orden de colocación en que aparezcan.\n",
    "\n",
    "En el artículo 108 de la misma ley se indica:\n",
    "\n",
    "> ...a cuyos efectos se computarán como **votos válidos los obtenidos por cada candidatura más los votos en blanco**.\n",
    "\n",
    "En resumen, el Parlament está formado por 135 diputados. Cataluña se considera dividida en cuatro circunscripciones electorales. Los diputados dentro de cada circunscripción se reparten, entre las candidaturas que superen el 3% de los votos válidos emitidos, mediante el procedimiento indicado por la LOREG (ley D'Hont). La distribución territorial de diputados es la siguiente:\n",
    "\n",
    "* Barcelona: 85\n",
    "* Girona: 17\n",
    "* Lleida: 15\n",
    "* Tarragona: 18\n",
    "\n",
    "Para cambiar esto hay que aprobar una ley en el Parlament con una mayoría de dos tercios."
   ]
  },
  {
   "cell_type": "markdown",
   "metadata": {},
   "source": [
    "## Accesso a los datos\n",
    "\n",
    "Los datos utilizados son los oficiales suministrados por la Generalitat de Catalunya. El procedimiento de descarga utiliza técnicas de _scraping_ aplicadas al [site de las elecciones autonómicas de 2015](http://www.gencat.cat/governacio/resultatsparlament2015/resu/ini09v_L1.htm)\n",
    "\n",
    "El procesamiento de los datos se realizará mediante el paquete Python [`pandas`](https://pandas.pydata.org/pandas-docs/stable/index.html), en particular mediante la clase [`pandas.DataFrame`](https://pandas.pydata.org/pandas-docs/stable/generated/pandas.DataFrame.html#pandas.DataFrame), diseñada para gestionar datos en formato tabular. \n",
    "\n",
    "El presente análisis no necesita los datos desagregados por municipio. Por ello, se agregan los votos por circunscripción. La estructura del `DataFrame` que se utilzará como base es la siguiente:\n",
    "\n",
    "- Índice doble:\n",
    "    * `Constituency`. Valores posibles: `Barcelona`, `Girona`, `Lleida`, `Tarragona`.\n",
    "    * `Option`. Valores presentes: `Abstención`, `Votos nulos`, `Votos en blanco`, `JxSí`, `CUP`, `C's`, `PP`, `PSC`, `CatSíqueesPot`, `unio.cat`, `RECORTES CERO-ELS VERDS`, `PACMA`, `GANEMOS`, `PIRATA.CAT/XDT`.\n",
    "- Columnas:\n",
    "    * `Votes`: número total de votos correspondiente a una provincia y a una opción política."
   ]
  },
  {
   "cell_type": "code",
   "execution_count": 1,
   "metadata": {
    "collapsed": false
   },
   "outputs": [],
   "source": [
    "import pandas as pd\n",
    "import numpy as np\n",
    "from pprint import pprint\n",
    "from voting.scraping import download_data_by_city\n",
    "from voting.utils import get_constituency_votes\n",
    "from voting.disproportionality import calculate_disproportionality_indexes\n",
    "from voting.dhont import calculate_parliament_by_dhont, assign_constituency_representatives_by_dhont\n",
    "from voting.catalonia import split_parliament, join_govern_parties\n",
    "from voting.constants import *"
   ]
  },
  {
   "cell_type": "code",
   "execution_count": 2,
   "metadata": {
    "collapsed": false
   },
   "outputs": [],
   "source": [
    "# Warning! The code in this cell is based on Scrapy.\n",
    "# Scrapy is based on Twisted, and Twisted has an unfortunate limitation:\n",
    "# functions download_data_by_region and download_data_by_city can just be run \n",
    "# once per kernel session\n",
    "\n",
    "# Downloading data by city (municipio)\n",
    "# Data file path will be './data/parlament_municipis_2015_<timestamp>.csv'\n",
    "# Example of use:\n",
    "#download_data_by_city()\n",
    "#!ls ./data/parlament_municipis_2015*\n",
    "\n",
    "# Downloading data by region (comarca) into data folder\n",
    "# Data file path will be './data/parlament_comarques_2015_<timestamp>.csv'\n",
    "# Example of use:\n",
    "#download_data_by_region()\n",
    "#!ls ./data/parlament_comarques_2015*"
   ]
  },
  {
   "cell_type": "code",
   "execution_count": 3,
   "metadata": {
    "collapsed": false
   },
   "outputs": [
    {
     "data": {
      "text/html": [
       "<div>\n",
       "<style>\n",
       "    .dataframe thead tr:only-child th {\n",
       "        text-align: right;\n",
       "    }\n",
       "\n",
       "    .dataframe thead th {\n",
       "        text-align: left;\n",
       "    }\n",
       "\n",
       "    .dataframe tbody tr th {\n",
       "        vertical-align: top;\n",
       "    }\n",
       "</style>\n",
       "<table border=\"1\" class=\"dataframe\">\n",
       "  <thead>\n",
       "    <tr style=\"text-align: right;\">\n",
       "      <th></th>\n",
       "      <th>City</th>\n",
       "      <th>Constituency</th>\n",
       "      <th>Votes</th>\n",
       "      <th>Option</th>\n",
       "    </tr>\n",
       "  </thead>\n",
       "  <tbody>\n",
       "    <tr>\n",
       "      <th>10496</th>\n",
       "      <td>Abrera</td>\n",
       "      <td>Barcelona</td>\n",
       "      <td>619</td>\n",
       "      <td>PP</td>\n",
       "    </tr>\n",
       "    <tr>\n",
       "      <th>10497</th>\n",
       "      <td>Abrera</td>\n",
       "      <td>Barcelona</td>\n",
       "      <td>453</td>\n",
       "      <td>CUP</td>\n",
       "    </tr>\n",
       "    <tr>\n",
       "      <th>10498</th>\n",
       "      <td>Abrera</td>\n",
       "      <td>Barcelona</td>\n",
       "      <td>131</td>\n",
       "      <td>unio.cat</td>\n",
       "    </tr>\n",
       "    <tr>\n",
       "      <th>10499</th>\n",
       "      <td>Abrera</td>\n",
       "      <td>Barcelona</td>\n",
       "      <td>82</td>\n",
       "      <td>PACMA</td>\n",
       "    </tr>\n",
       "    <tr>\n",
       "      <th>10500</th>\n",
       "      <td>Abrera</td>\n",
       "      <td>Barcelona</td>\n",
       "      <td>51</td>\n",
       "      <td>RECORTES CERO-ELS VERDS</td>\n",
       "    </tr>\n",
       "  </tbody>\n",
       "</table>\n",
       "</div>"
      ],
      "text/plain": [
       "         City Constituency  Votes                   Option\n",
       "10496  Abrera    Barcelona    619                       PP\n",
       "10497  Abrera    Barcelona    453                      CUP\n",
       "10498  Abrera    Barcelona    131                 unio.cat\n",
       "10499  Abrera    Barcelona     82                    PACMA\n",
       "10500  Abrera    Barcelona     51  RECORTES CERO-ELS VERDS"
      ]
     },
     "execution_count": 3,
     "metadata": {},
     "output_type": "execute_result"
    }
   ],
   "source": [
    "# Loading data file into a pandas.Dataframe object\n",
    "df = pd.read_csv('./data/parlament_municipis_2015c.csv')\n",
    "df.tail()"
   ]
  },
  {
   "cell_type": "code",
   "execution_count": 4,
   "metadata": {
    "collapsed": false
   },
   "outputs": [
    {
     "name": "stdout",
     "output_type": "stream",
     "text": [
      "Column names:                       City, Constituency, Votes, Option\n",
      "Data frame shape (#rows, #columns): (10501, 4)\n",
      "Different values in opcion column:  Abstención, Votos nulos, Votos en blanco, JxSí, CUP, PSC, CatSíqueesPot, C's, PP, unio.cat, PACMA, RECORTES CERO-ELS VERDS, PIRATA.CAT/XDT, GANEMOS\n"
     ]
    }
   ],
   "source": [
    "# Some descriptive info about the dataframe\n",
    "print(\"Column names:                       %s\" % ', '.join(list(df.columns)))\n",
    "print(\"Data frame shape (#rows, #columns): %s\" % str(df.shape))\n",
    "print(\"Different values in opcion column:  %s\" % ', '.join(df[OPTION].unique()))"
   ]
  },
  {
   "cell_type": "code",
   "execution_count": 5,
   "metadata": {
    "collapsed": false
   },
   "outputs": [
    {
     "data": {
      "text/html": [
       "<div>\n",
       "<style>\n",
       "    .dataframe thead tr:only-child th {\n",
       "        text-align: right;\n",
       "    }\n",
       "\n",
       "    .dataframe thead th {\n",
       "        text-align: left;\n",
       "    }\n",
       "\n",
       "    .dataframe tbody tr th {\n",
       "        vertical-align: top;\n",
       "    }\n",
       "</style>\n",
       "<table border=\"1\" class=\"dataframe\">\n",
       "  <thead>\n",
       "    <tr style=\"text-align: right;\">\n",
       "      <th></th>\n",
       "      <th></th>\n",
       "      <th>Votes</th>\n",
       "    </tr>\n",
       "    <tr>\n",
       "      <th>Constituency</th>\n",
       "      <th>Option</th>\n",
       "      <th></th>\n",
       "    </tr>\n",
       "  </thead>\n",
       "  <tbody>\n",
       "    <tr>\n",
       "      <th rowspan=\"5\" valign=\"top\">Barcelona</th>\n",
       "      <th>Abstención</th>\n",
       "      <td>1029987</td>\n",
       "    </tr>\n",
       "    <tr>\n",
       "      <th>C's</th>\n",
       "      <td>581032</td>\n",
       "    </tr>\n",
       "    <tr>\n",
       "      <th>CUP</th>\n",
       "      <td>255328</td>\n",
       "    </tr>\n",
       "    <tr>\n",
       "      <th>CatSíqueesPot</th>\n",
       "      <td>312527</td>\n",
       "    </tr>\n",
       "    <tr>\n",
       "      <th>JxSí</th>\n",
       "      <td>1112922</td>\n",
       "    </tr>\n",
       "  </tbody>\n",
       "</table>\n",
       "</div>"
      ],
      "text/plain": [
       "                              Votes\n",
       "Constituency Option                \n",
       "Barcelona    Abstención     1029987\n",
       "             C's             581032\n",
       "             CUP             255328\n",
       "             CatSíqueesPot   312527\n",
       "             JxSí           1112922"
      ]
     },
     "execution_count": 5,
     "metadata": {},
     "output_type": "execute_result"
    }
   ],
   "source": [
    "# Adding votes by constituency (provincia) & partido (opcion)\n",
    "df = df[[CONSTITUENCY, OPTION, VOTES]].groupby([CONSTITUENCY, OPTION]).sum()\n",
    "df.head()"
   ]
  },
  {
   "cell_type": "code",
   "execution_count": 6,
   "metadata": {
    "collapsed": false
   },
   "outputs": [
    {
     "data": {
      "text/html": [
       "<div>\n",
       "<style>\n",
       "    .dataframe thead tr:only-child th {\n",
       "        text-align: right;\n",
       "    }\n",
       "\n",
       "    .dataframe thead th {\n",
       "        text-align: left;\n",
       "    }\n",
       "\n",
       "    .dataframe tbody tr th {\n",
       "        vertical-align: top;\n",
       "    }\n",
       "</style>\n",
       "<table border=\"1\" class=\"dataframe\">\n",
       "  <thead>\n",
       "    <tr style=\"text-align: right;\">\n",
       "      <th></th>\n",
       "      <th>Votes</th>\n",
       "    </tr>\n",
       "    <tr>\n",
       "      <th>Option</th>\n",
       "      <th></th>\n",
       "    </tr>\n",
       "  </thead>\n",
       "  <tbody>\n",
       "    <tr>\n",
       "      <th>Abstención</th>\n",
       "      <td>1380657</td>\n",
       "    </tr>\n",
       "    <tr>\n",
       "      <th>C's</th>\n",
       "      <td>736364</td>\n",
       "    </tr>\n",
       "    <tr>\n",
       "      <th>CUP</th>\n",
       "      <td>337794</td>\n",
       "    </tr>\n",
       "    <tr>\n",
       "      <th>CatSíqueesPot</th>\n",
       "      <td>367613</td>\n",
       "    </tr>\n",
       "    <tr>\n",
       "      <th>GANEMOS</th>\n",
       "      <td>1167</td>\n",
       "    </tr>\n",
       "  </tbody>\n",
       "</table>\n",
       "</div>"
      ],
      "text/plain": [
       "                 Votes\n",
       "Option                \n",
       "Abstención     1380657\n",
       "C's             736364\n",
       "CUP             337794\n",
       "CatSíqueesPot   367613\n",
       "GANEMOS           1167"
      ]
     },
     "execution_count": 6,
     "metadata": {},
     "output_type": "execute_result"
    }
   ],
   "source": [
    "# Adding votes globally (Catalonia as a whole)\n",
    "df_total_votes = df.groupby([OPTION]).sum()\n",
    "df_total_votes.head()"
   ]
  },
  {
   "cell_type": "code",
   "execution_count": 7,
   "metadata": {
    "collapsed": false
   },
   "outputs": [
    {
     "data": {
      "text/html": [
       "<div>\n",
       "<style>\n",
       "    .dataframe thead tr:only-child th {\n",
       "        text-align: right;\n",
       "    }\n",
       "\n",
       "    .dataframe thead th {\n",
       "        text-align: left;\n",
       "    }\n",
       "\n",
       "    .dataframe tbody tr th {\n",
       "        vertical-align: top;\n",
       "    }\n",
       "</style>\n",
       "<table border=\"1\" class=\"dataframe\">\n",
       "  <thead>\n",
       "    <tr style=\"text-align: right;\">\n",
       "      <th></th>\n",
       "      <th>Option</th>\n",
       "      <th>Votes</th>\n",
       "    </tr>\n",
       "  </thead>\n",
       "  <tbody>\n",
       "    <tr>\n",
       "      <th>0</th>\n",
       "      <td>Abstención</td>\n",
       "      <td>1029987</td>\n",
       "    </tr>\n",
       "    <tr>\n",
       "      <th>1</th>\n",
       "      <td>C's</td>\n",
       "      <td>581032</td>\n",
       "    </tr>\n",
       "    <tr>\n",
       "      <th>2</th>\n",
       "      <td>CUP</td>\n",
       "      <td>255328</td>\n",
       "    </tr>\n",
       "    <tr>\n",
       "      <th>3</th>\n",
       "      <td>CatSíqueesPot</td>\n",
       "      <td>312527</td>\n",
       "    </tr>\n",
       "    <tr>\n",
       "      <th>4</th>\n",
       "      <td>JxSí</td>\n",
       "      <td>1112922</td>\n",
       "    </tr>\n",
       "  </tbody>\n",
       "</table>\n",
       "</div>"
      ],
      "text/plain": [
       "          Option    Votes\n",
       "0     Abstención  1029987\n",
       "1            C's   581032\n",
       "2            CUP   255328\n",
       "3  CatSíqueesPot   312527\n",
       "4           JxSí  1112922"
      ]
     },
     "execution_count": 7,
     "metadata": {},
     "output_type": "execute_result"
    }
   ],
   "source": [
    "# Total votes from Barcelona constituency\n",
    "get_constituency_votes(df, 'Barcelona').head()"
   ]
  },
  {
   "cell_type": "markdown",
   "metadata": {},
   "source": [
    "## Reparto según la legislación vigente (ley D'Hont)\n",
    "\n",
    "Aquí se muestra el cálculo necesario para obtener el reparto de diputados de las elecciones autonómicas al Parlament de Catalunya de 2015. Debe coincidir con lo que se muestra en la [página oficinal](http://www.gencat.cat/governacio/resultatsparlament2015/resu/09AU/DAU09999CM_L1.htm)\n",
    "\n",
    "[<img src=\"./img/parlament2015.png\"/>]: <> (This is a comment)"
   ]
  },
  {
   "cell_type": "code",
   "execution_count": 8,
   "metadata": {
    "collapsed": false
   },
   "outputs": [
    {
     "name": "stdout",
     "output_type": "stream",
     "text": [
      "Tarragona: {'CatS\\xc3\\xadqueesPot': 1, 'PP': 1, 'CUP': 1, 'JxS\\xc3\\xad': 9, 'PSC': 2, \"C's\": 4}\n",
      "Girona: {'CatS\\xc3\\xadqueesPot': 1, 'PP': 1, 'CUP': 1, 'JxS\\xc3\\xad': 11, 'PSC': 1, \"C's\": 2}\n",
      "Lleida: {'JxS\\xc3\\xad': 10, 'PSC': 1, \"C's\": 2, 'PP': 1, 'CUP': 1}\n",
      "Barcelona: {'CatS\\xc3\\xadqueesPot': 9, 'PP': 8, 'CUP': 7, 'JxS\\xc3\\xad': 32, 'PSC': 12, \"C's\": 17}\n"
     ]
    },
    {
     "data": {
      "text/html": [
       "<div>\n",
       "<style>\n",
       "    .dataframe thead tr:only-child th {\n",
       "        text-align: right;\n",
       "    }\n",
       "\n",
       "    .dataframe thead th {\n",
       "        text-align: left;\n",
       "    }\n",
       "\n",
       "    .dataframe tbody tr th {\n",
       "        vertical-align: top;\n",
       "    }\n",
       "</style>\n",
       "<table border=\"1\" class=\"dataframe\">\n",
       "  <thead>\n",
       "    <tr style=\"text-align: right;\">\n",
       "      <th></th>\n",
       "      <th>Votes</th>\n",
       "      <th>Seats</th>\n",
       "    </tr>\n",
       "    <tr>\n",
       "      <th>Party</th>\n",
       "      <th></th>\n",
       "      <th></th>\n",
       "    </tr>\n",
       "  </thead>\n",
       "  <tbody>\n",
       "    <tr>\n",
       "      <th>JxSí</th>\n",
       "      <td>1628714</td>\n",
       "      <td>62</td>\n",
       "    </tr>\n",
       "    <tr>\n",
       "      <th>C's</th>\n",
       "      <td>736364</td>\n",
       "      <td>25</td>\n",
       "    </tr>\n",
       "    <tr>\n",
       "      <th>PSC</th>\n",
       "      <td>523283</td>\n",
       "      <td>16</td>\n",
       "    </tr>\n",
       "    <tr>\n",
       "      <th>CatSíqueesPot</th>\n",
       "      <td>367613</td>\n",
       "      <td>11</td>\n",
       "    </tr>\n",
       "    <tr>\n",
       "      <th>PP</th>\n",
       "      <td>349193</td>\n",
       "      <td>11</td>\n",
       "    </tr>\n",
       "    <tr>\n",
       "      <th>CUP</th>\n",
       "      <td>337794</td>\n",
       "      <td>10</td>\n",
       "    </tr>\n",
       "  </tbody>\n",
       "</table>\n",
       "</div>"
      ],
      "text/plain": [
       "                 Votes  Seats\n",
       "Party                        \n",
       "JxSí           1628714     62\n",
       "C's             736364     25\n",
       "PSC             523283     16\n",
       "CatSíqueesPot   367613     11\n",
       "PP              349193     11\n",
       "CUP             337794     10"
      ]
     },
     "execution_count": 8,
     "metadata": {},
     "output_type": "execute_result"
    }
   ],
   "source": [
    "catalonia_now = {'Barcelona': 85, 'Girona': 17, 'Lleida': 15, 'Tarragona': 18}\n",
    "parliament = calculate_parliament_by_dhont(df, catalonia_now)\n",
    "parliament"
   ]
  },
  {
   "cell_type": "code",
   "execution_count": 9,
   "metadata": {
    "collapsed": false
   },
   "outputs": [
    {
     "name": "stdout",
     "output_type": "stream",
     "text": [
      "Índice de Rae:             1.217\n",
      "Índice de Loosemore-Hanby: 6.693\n",
      "Índice de Gallagher:       4.983\n",
      "Índice de Grofman:         3.046\n",
      "Índice de Lijphart:        6.339\n",
      "Índice de Saint-Lague:     4.888\n",
      "Índice de D'Hont:          1.160\n",
      "Índice de Cox-Shugart:     1.100\n",
      "#diputados (indepes):      72\n",
      "#diputados (no-indepes):   63\n",
      "#votos     (indepes):      1966508\n",
      "#votos     (no-indepes):   1976453\n"
     ]
    }
   ],
   "source": [
    "# Measures of proportionality\n",
    "d = calculate_disproportionality_indexes(parliament, df_total_votes, include_catalan=True)"
   ]
  },
  {
   "cell_type": "code",
   "execution_count": 10,
   "metadata": {
    "collapsed": true
   },
   "outputs": [],
   "source": [
    "# Storing results into a dictionary to compare all of them at the end\n",
    "# key -> a 4-tuple:\n",
    "#  - 0-element (threshold_percentage):          0, 3 \n",
    "#  - 1-element (single_constituency):           True, False\n",
    "#  - 2-element (number_of_seats):               135, 150\n",
    "#  - 3-element (proportional_constituencies):   True, False\n",
    "results = {}\n",
    "results[(3,False,135,False)] = d"
   ]
  },
  {
   "cell_type": "markdown",
   "metadata": {},
   "source": [
    "En resumen, **la opción menos votada (solo por 9945 votos, 0,25% en porcentaje del total de votos a candidaturas con representación) obtiene, sin embargo, 9 diputados más (6,7% del total de diputados)**. Si solo se tienen en cuenta los votos recibidos en las circunscripciones en las que se supera el límite del 3% que marca la LOREG, la diferencia de votos sería de 66 (0,002% en porcentaje del total de votos a candidaturas con representación) a favor de los no independentistas.\n",
    "\n",
    "Aunque es cierto que no existe el sistema electoral perfecto, es difícil imaginar una situación más anómala. "
   ]
  },
  {
   "cell_type": "markdown",
   "metadata": {},
   "source": [
    "## Reparto según una distribución proporcional de diputados por circunscripción (ley D'Hont)\n",
    "\n",
    "Es curioso que la distribución territorial de escaños que se sigue utilizando sea de 1979; se podría decir que es casi predemocrática. Comparemos algunos datos demográficos del año 1979 con los correspondientes al último año del que disponemos de datos cerrados, 2016. El Instituto Nacional de Estadística (INE) ofrece datos poblacionales por semestres. Como el [Estatuto de Cataluña de 1979](https://es.wikipedia.org/wiki/Estatuto_de_autonom%C3%ADa_de_Catalu%C3%B1a_de_1979) se aprobó en referendum el 25 de octubre, se usarán los datos provinciales del INE de 1 de enero de 1980:\n",
    "\n",
    "| Provincia |   Población 1979   | Habitantes por diputado 1979 |   Población 2016   | Habitantes por diputado 1979 |\n",
    "| --------- | -----------------: | ---------------------------: | -----------------: | ---------------------------: |\n",
    "| Barcelona | 4.562.249 (77,52%) | 53.674                       | 5.542.680 (73,68%) | 65.208                       |\n",
    "| Girona    | 462.849   ( 7,86%) | 27.226                       | 753.576   (10,02%) | 44.328                       |\n",
    "| Lleida    | 353.773   ( 6,01%) | 23.585                       | 434.041   ( 5,77%) | 28.936                       |\n",
    "| Tarragona | 506.395   ( 8,60%) | 28.133                       | 792.299   (10,53%) | 44.017                       |\n",
    "| Total     | 5.885.266          |                              | 7.522.596          |                              |\n",
    "\n",
    "Uno de los argumentos que se suelen emplear para no repartir los diputados de manera proporcional entre las circunscripciones es que Barcelona tendría practicamente todos los escaños. Sin embargo, Barcelona acoge un porcentaje de población inferior al del año 1979. Además esto sería una razón de peso si los diputados representaran los intereses de los territorios por los que son elegidos. En un sistema mayoritario como el estadounidense puede tener sentido. Pero incluso allí hay voces autorizadas discordantes. En palabras del juez de la Corte Suprema Earl Warren:\n",
    "> _Legislators represent people, not trees or acres. Legislators are elected by voters, not farms or cities or economic interests... neither history alone, nor economic or other sorts of group interests, could justify giving one person a greater voice in government than any other person... the overriding objective must be substantial equality among the various districts, so that the vote of any citizen is approximately equal in weight to that of any other citizen in the state_.\n",
    "\n",
    "Como demuestran los últimos cuarenta años, los diputados defienden los intereses de sus partidos. En casos de extrema valentía, un diputado del partido gobernante puede abstenerse en una votación que pueda perjudicar a su circunscripción. Y aun así, es probable que esté hipotecando su futuro político dentro del partido al que pertenece. Sin embargo, si actúa conforme a lo que dicta su partido, es probable que el castigo electoral que sufra en su circunscripción sea mínimo.\n",
    "\n",
    "El reparto proporcional de los diputados por circunscripción con el número actual de diputados en el Parlament sería:\n",
    "\n",
    "* Barcelona:  99 (redondeando a la baja)\n",
    "* Girona:     14\n",
    "* Lleida:     8\n",
    "* Tarragona:  14\n",
    "\n",
    "El Estatuto de Autonomía vigente fija el número máximo de diputados en 150. Esto permitiría ampliar el número de escaños. Su distribuirían proporcional según la población de cada provincia sería:\n",
    "\n",
    "* Barcelona:  110 (redondeando a la baja)\n",
    "* Girona:     15\n",
    "* Lleida:     9\n",
    "* Tarragona:  16\n",
    "\n",
    "Con esta distribución de escaños, el parlamento quedaría compuesto como se muestra abajo:"
   ]
  },
  {
   "cell_type": "code",
   "execution_count": 11,
   "metadata": {
    "collapsed": false
   },
   "outputs": [
    {
     "name": "stdout",
     "output_type": "stream",
     "text": [
      "Tarragona: {'CatS\\xc3\\xadqueesPot': 1, 'PP': 1, 'CUP': 1, 'JxS\\xc3\\xad': 7, 'PSC': 1, \"C's\": 3}\n",
      "Girona: {'JxS\\xc3\\xad': 9, 'PSC': 1, \"C's\": 2, 'PP': 1, 'CUP': 1}\n",
      "Lleida: {'JxS\\xc3\\xad': 6, 'PSC': 1, \"C's\": 1}\n",
      "Barcelona: {'CatS\\xc3\\xadqueesPot': 10, 'PP': 9, 'CUP': 8, 'JxS\\xc3\\xad': 38, 'PSC': 14, \"C's\": 20}\n"
     ]
    },
    {
     "data": {
      "text/html": [
       "<div>\n",
       "<style>\n",
       "    .dataframe thead tr:only-child th {\n",
       "        text-align: right;\n",
       "    }\n",
       "\n",
       "    .dataframe thead th {\n",
       "        text-align: left;\n",
       "    }\n",
       "\n",
       "    .dataframe tbody tr th {\n",
       "        vertical-align: top;\n",
       "    }\n",
       "</style>\n",
       "<table border=\"1\" class=\"dataframe\">\n",
       "  <thead>\n",
       "    <tr style=\"text-align: right;\">\n",
       "      <th></th>\n",
       "      <th>Votes</th>\n",
       "      <th>Seats</th>\n",
       "    </tr>\n",
       "    <tr>\n",
       "      <th>Party</th>\n",
       "      <th></th>\n",
       "      <th></th>\n",
       "    </tr>\n",
       "  </thead>\n",
       "  <tbody>\n",
       "    <tr>\n",
       "      <th>JxSí</th>\n",
       "      <td>1628714</td>\n",
       "      <td>60</td>\n",
       "    </tr>\n",
       "    <tr>\n",
       "      <th>C's</th>\n",
       "      <td>736364</td>\n",
       "      <td>26</td>\n",
       "    </tr>\n",
       "    <tr>\n",
       "      <th>PSC</th>\n",
       "      <td>523283</td>\n",
       "      <td>17</td>\n",
       "    </tr>\n",
       "    <tr>\n",
       "      <th>CatSíqueesPot</th>\n",
       "      <td>367613</td>\n",
       "      <td>11</td>\n",
       "    </tr>\n",
       "    <tr>\n",
       "      <th>PP</th>\n",
       "      <td>349193</td>\n",
       "      <td>11</td>\n",
       "    </tr>\n",
       "    <tr>\n",
       "      <th>CUP</th>\n",
       "      <td>337794</td>\n",
       "      <td>10</td>\n",
       "    </tr>\n",
       "  </tbody>\n",
       "</table>\n",
       "</div>"
      ],
      "text/plain": [
       "                 Votes  Seats\n",
       "Party                        \n",
       "JxSí           1628714     60\n",
       "C's             736364     26\n",
       "PSC             523283     17\n",
       "CatSíqueesPot   367613     11\n",
       "PP              349193     11\n",
       "CUP             337794     10"
      ]
     },
     "execution_count": 11,
     "metadata": {},
     "output_type": "execute_result"
    }
   ],
   "source": [
    "# Parlamient: 135 seats\n",
    "catalonia_135_pr = {'Barcelona': 99, 'Girona': 14, 'Lleida': 8, 'Tarragona': 14}\n",
    "parliament = calculate_parliament_by_dhont(df, catalonia_135_pr)\n",
    "parliament"
   ]
  },
  {
   "cell_type": "code",
   "execution_count": 12,
   "metadata": {
    "collapsed": false
   },
   "outputs": [
    {
     "name": "stdout",
     "output_type": "stream",
     "text": [
      "Índice de Rae:             1.082\n",
      "Índice de Loosemore-Hanby: 5.952\n",
      "Índice de Gallagher:       4.111\n",
      "Índice de Grofman:         2.709\n",
      "Índice de Lijphart:        4.857\n",
      "Índice de Saint-Lague:     4.493\n",
      "Índice de D'Hont:          1.123\n",
      "Índice de Cox-Shugart:     1.084\n",
      "#diputados (indepes):      70\n",
      "#diputados (no-indepes):   65\n",
      "#votos     (indepes):      1966508\n",
      "#votos     (no-indepes):   1976453\n"
     ]
    }
   ],
   "source": [
    "# Measures of proportionality\n",
    "d = calculate_disproportionality_indexes(parliament, df_total_votes, include_catalan=True)\n",
    "results[(3,False,135,True)] = d"
   ]
  },
  {
   "cell_type": "markdown",
   "metadata": {},
   "source": [
    "### Parlament de 150 diputados"
   ]
  },
  {
   "cell_type": "code",
   "execution_count": 13,
   "metadata": {
    "collapsed": false
   },
   "outputs": [
    {
     "name": "stdout",
     "output_type": "stream",
     "text": [
      "Tarragona: {'CatS\\xc3\\xadqueesPot': 1, 'PP': 1, 'CUP': 1, 'JxS\\xc3\\xad': 8, 'PSC': 2, \"C's\": 3}\n",
      "Girona: {'JxS\\xc3\\xad': 10, 'PSC': 1, \"C's\": 2, 'PP': 1, 'CUP': 1}\n",
      "Lleida: {'JxS\\xc3\\xad': 6, 'PSC': 1, \"C's\": 1, 'CUP': 1}\n",
      "Barcelona: {'CatS\\xc3\\xadqueesPot': 11, 'PP': 10, 'CUP': 9, 'JxS\\xc3\\xad': 42, 'PSC': 16, \"C's\": 22}\n"
     ]
    },
    {
     "data": {
      "text/html": [
       "<div>\n",
       "<style>\n",
       "    .dataframe thead tr:only-child th {\n",
       "        text-align: right;\n",
       "    }\n",
       "\n",
       "    .dataframe thead th {\n",
       "        text-align: left;\n",
       "    }\n",
       "\n",
       "    .dataframe tbody tr th {\n",
       "        vertical-align: top;\n",
       "    }\n",
       "</style>\n",
       "<table border=\"1\" class=\"dataframe\">\n",
       "  <thead>\n",
       "    <tr style=\"text-align: right;\">\n",
       "      <th></th>\n",
       "      <th>Votes</th>\n",
       "      <th>Seats</th>\n",
       "    </tr>\n",
       "    <tr>\n",
       "      <th>Party</th>\n",
       "      <th></th>\n",
       "      <th></th>\n",
       "    </tr>\n",
       "  </thead>\n",
       "  <tbody>\n",
       "    <tr>\n",
       "      <th>JxSí</th>\n",
       "      <td>1628714</td>\n",
       "      <td>66</td>\n",
       "    </tr>\n",
       "    <tr>\n",
       "      <th>C's</th>\n",
       "      <td>736364</td>\n",
       "      <td>28</td>\n",
       "    </tr>\n",
       "    <tr>\n",
       "      <th>PSC</th>\n",
       "      <td>523283</td>\n",
       "      <td>20</td>\n",
       "    </tr>\n",
       "    <tr>\n",
       "      <th>CUP</th>\n",
       "      <td>337794</td>\n",
       "      <td>12</td>\n",
       "    </tr>\n",
       "    <tr>\n",
       "      <th>CatSíqueesPot</th>\n",
       "      <td>367613</td>\n",
       "      <td>12</td>\n",
       "    </tr>\n",
       "    <tr>\n",
       "      <th>PP</th>\n",
       "      <td>349193</td>\n",
       "      <td>12</td>\n",
       "    </tr>\n",
       "  </tbody>\n",
       "</table>\n",
       "</div>"
      ],
      "text/plain": [
       "                 Votes  Seats\n",
       "Party                        \n",
       "JxSí           1628714     66\n",
       "C's             736364     28\n",
       "PSC             523283     20\n",
       "CUP             337794     12\n",
       "CatSíqueesPot   367613     12\n",
       "PP              349193     12"
      ]
     },
     "execution_count": 13,
     "metadata": {},
     "output_type": "execute_result"
    }
   ],
   "source": [
    "# Parlamient: 150 seats\n",
    "catalonia_150_pr = {'Barcelona': 110, 'Girona': 15, 'Lleida': 9, 'Tarragona': 16}\n",
    "parliament = calculate_parliament_by_dhont(df, catalonia_150_pr)\n",
    "parliament"
   ]
  },
  {
   "cell_type": "code",
   "execution_count": 14,
   "metadata": {
    "collapsed": false
   },
   "outputs": [
    {
     "name": "stdout",
     "output_type": "stream",
     "text": [
      "Índice de Rae:             1.005\n",
      "Índice de Loosemore-Hanby: 5.530\n",
      "Índice de Gallagher:       3.779\n",
      "Índice de Grofman:         2.517\n",
      "Índice de Lijphart:        4.413\n",
      "Índice de Saint-Lague:     4.317\n",
      "Índice de D'Hont:          1.111\n",
      "Índice de Cox-Shugart:     1.077\n",
      "#diputados (indepes):      78\n",
      "#diputados (no-indepes):   72\n",
      "#votos     (indepes):      1966508\n",
      "#votos     (no-indepes):   1976453\n"
     ]
    }
   ],
   "source": [
    "# Measures of proportionality\n",
    "d = calculate_disproportionality_indexes(parliament, df_total_votes, include_catalan=True)\n",
    "results[(3,False,150,True)] = d"
   ]
  },
  {
   "cell_type": "markdown",
   "metadata": {},
   "source": [
    "En este caso, la ideología menos votada obtiene solo 5 ó 6 diputados más (en lugar de 9). Por lo tanto, **no es la sobreponderación de las provincias claramente independentistas la que produce el contraste entre número de votos y número de escaños asignados**. Un reparto proporcional de diputados por circunscripción según su población no elimina este desequilibrio, solo lo atenúa."
   ]
  },
  {
   "cell_type": "markdown",
   "metadata": {},
   "source": [
    "## Reparto según una circunscripción única (ley D'Hont)\n",
    "\n",
    "Dado que en el punto anterior se hizo un reparto proporcional del número de diputados por circunscripción según su población, utilizar una única circunscripción no debería modificar el resultado significativamente. Sólo dos partidos (PP y CatSíqueesPot) redujeron su número de votos _útiles_ por no alcanzar el límite del 3% de los votos válidos emitidos en algunas circunscripciones. Comprobemos si la circunscripción única no tiene efecto sobre el reparto de escaños:"
   ]
  },
  {
   "cell_type": "code",
   "execution_count": 15,
   "metadata": {
    "collapsed": false
   },
   "outputs": [
    {
     "data": {
      "text/html": [
       "<div>\n",
       "<style>\n",
       "    .dataframe thead tr:only-child th {\n",
       "        text-align: right;\n",
       "    }\n",
       "\n",
       "    .dataframe thead th {\n",
       "        text-align: left;\n",
       "    }\n",
       "\n",
       "    .dataframe tbody tr th {\n",
       "        vertical-align: top;\n",
       "    }\n",
       "</style>\n",
       "<table border=\"1\" class=\"dataframe\">\n",
       "  <thead>\n",
       "    <tr style=\"text-align: right;\">\n",
       "      <th></th>\n",
       "      <th>Votes</th>\n",
       "      <th>Seats</th>\n",
       "    </tr>\n",
       "    <tr>\n",
       "      <th>Option</th>\n",
       "      <th></th>\n",
       "      <th></th>\n",
       "    </tr>\n",
       "  </thead>\n",
       "  <tbody>\n",
       "    <tr>\n",
       "      <th>JxSí</th>\n",
       "      <td>1628714</td>\n",
       "      <td>57</td>\n",
       "    </tr>\n",
       "    <tr>\n",
       "      <th>C's</th>\n",
       "      <td>736364</td>\n",
       "      <td>25</td>\n",
       "    </tr>\n",
       "    <tr>\n",
       "      <th>PSC</th>\n",
       "      <td>523283</td>\n",
       "      <td>18</td>\n",
       "    </tr>\n",
       "    <tr>\n",
       "      <th>CatSíqueesPot</th>\n",
       "      <td>367613</td>\n",
       "      <td>12</td>\n",
       "    </tr>\n",
       "    <tr>\n",
       "      <th>PP</th>\n",
       "      <td>349193</td>\n",
       "      <td>12</td>\n",
       "    </tr>\n",
       "    <tr>\n",
       "      <th>CUP</th>\n",
       "      <td>337794</td>\n",
       "      <td>11</td>\n",
       "    </tr>\n",
       "  </tbody>\n",
       "</table>\n",
       "</div>"
      ],
      "text/plain": [
       "                 Votes  Seats\n",
       "Option                       \n",
       "JxSí           1628714     57\n",
       "C's             736364     25\n",
       "PSC             523283     18\n",
       "CatSíqueesPot   367613     12\n",
       "PP              349193     12\n",
       "CUP             337794     11"
      ]
     },
     "execution_count": 15,
     "metadata": {},
     "output_type": "execute_result"
    }
   ],
   "source": [
    "# Parliament: 135 seats\n",
    "catalonia_df = df.groupby([OPTION]).sum().reset_index()\n",
    "parliament = assign_constituency_representatives_by_dhont(catalonia_df, 135)\n",
    "parliament"
   ]
  },
  {
   "cell_type": "code",
   "execution_count": 16,
   "metadata": {
    "collapsed": false
   },
   "outputs": [
    {
     "name": "stdout",
     "output_type": "stream",
     "text": [
      "Índice de Rae:             0.728\n",
      "Índice de Loosemore-Hanby: 4.006\n",
      "Índice de Gallagher:       2.724\n",
      "Índice de Grofman:         1.823\n",
      "Índice de Lijphart:        2.635\n",
      "Índice de Saint-Lague:     3.877\n",
      "Índice de D'Hont:          1.067\n",
      "Índice de Cox-Shugart:     1.052\n",
      "#diputados (indepes):      68\n",
      "#diputados (no-indepes):   67\n",
      "#votos     (indepes):      1966508\n",
      "#votos     (no-indepes):   1976453\n"
     ]
    }
   ],
   "source": [
    "# Measures of proportionality\n",
    "d = calculate_disproportionality_indexes(parliament, df_total_votes, include_catalan=True)\n",
    "results[(3,True,135,True)] = d"
   ]
  },
  {
   "cell_type": "markdown",
   "metadata": {},
   "source": [
    "La diferencia de diputados a favor de la opción con menos voto popular es de un único escaño."
   ]
  },
  {
   "cell_type": "markdown",
   "metadata": {},
   "source": [
    "### Parlament de 150 diputados"
   ]
  },
  {
   "cell_type": "code",
   "execution_count": 17,
   "metadata": {
    "collapsed": false
   },
   "outputs": [
    {
     "data": {
      "text/html": [
       "<div>\n",
       "<style>\n",
       "    .dataframe thead tr:only-child th {\n",
       "        text-align: right;\n",
       "    }\n",
       "\n",
       "    .dataframe thead th {\n",
       "        text-align: left;\n",
       "    }\n",
       "\n",
       "    .dataframe tbody tr th {\n",
       "        vertical-align: top;\n",
       "    }\n",
       "</style>\n",
       "<table border=\"1\" class=\"dataframe\">\n",
       "  <thead>\n",
       "    <tr style=\"text-align: right;\">\n",
       "      <th></th>\n",
       "      <th>Votes</th>\n",
       "      <th>Seats</th>\n",
       "    </tr>\n",
       "    <tr>\n",
       "      <th>Option</th>\n",
       "      <th></th>\n",
       "      <th></th>\n",
       "    </tr>\n",
       "  </thead>\n",
       "  <tbody>\n",
       "    <tr>\n",
       "      <th>JxSí</th>\n",
       "      <td>1628714</td>\n",
       "      <td>62</td>\n",
       "    </tr>\n",
       "    <tr>\n",
       "      <th>C's</th>\n",
       "      <td>736364</td>\n",
       "      <td>28</td>\n",
       "    </tr>\n",
       "    <tr>\n",
       "      <th>PSC</th>\n",
       "      <td>523283</td>\n",
       "      <td>20</td>\n",
       "    </tr>\n",
       "    <tr>\n",
       "      <th>CatSíqueesPot</th>\n",
       "      <td>367613</td>\n",
       "      <td>14</td>\n",
       "    </tr>\n",
       "    <tr>\n",
       "      <th>CUP</th>\n",
       "      <td>337794</td>\n",
       "      <td>13</td>\n",
       "    </tr>\n",
       "    <tr>\n",
       "      <th>PP</th>\n",
       "      <td>349193</td>\n",
       "      <td>13</td>\n",
       "    </tr>\n",
       "  </tbody>\n",
       "</table>\n",
       "</div>"
      ],
      "text/plain": [
       "                 Votes  Seats\n",
       "Option                       \n",
       "JxSí           1628714     62\n",
       "C's             736364     28\n",
       "PSC             523283     20\n",
       "CatSíqueesPot   367613     14\n",
       "CUP             337794     13\n",
       "PP              349193     13"
      ]
     },
     "execution_count": 17,
     "metadata": {},
     "output_type": "execute_result"
    }
   ],
   "source": [
    "# Parliament: 150 seats\n",
    "parliament = assign_constituency_representatives_by_dhont(catalonia_df, 150)\n",
    "parliament"
   ]
  },
  {
   "cell_type": "code",
   "execution_count": 18,
   "metadata": {
    "collapsed": false
   },
   "outputs": [
    {
     "name": "stdout",
     "output_type": "stream",
     "text": [
      "Índice de Rae:             0.709\n",
      "Índice de Loosemore-Hanby: 3.897\n",
      "Índice de Gallagher:       2.385\n",
      "Índice de Grofman:         1.774\n",
      "Índice de Lijphart:        2.511\n",
      "Índice de Saint-Lague:     3.818\n",
      "Índice de D'Hont:          1.056\n",
      "Índice de Cox-Shugart:     1.041\n",
      "#diputados (indepes):      75\n",
      "#diputados (no-indepes):   75\n",
      "#votos     (indepes):      1966508\n",
      "#votos     (no-indepes):   1976453\n"
     ]
    }
   ],
   "source": [
    "# Measures of proportionality\n",
    "d = calculate_disproportionality_indexes(parliament, df_total_votes, include_catalan=True)\n",
    "results[(3,True,150,True)] = d"
   ]
  },
  {
   "cell_type": "markdown",
   "metadata": {},
   "source": [
    "Con esta configuración se obtiene un reparto equitativo de diputados según los votos recibidos. En resumen, por si solas, ni la ley D'Hont ni la representación desproporcionada de las circunscripciones pro-independentistas, son suficientes para que una situación de empate técnico en voto popular se traduzca en una diferencia de 9 escaños. El hecho de que los votos recibidos en circunscripciones en las que no se alcanza el 3% del voto válido emitido sean inservibles en el reparto de escaños puede tener más influencia. \n",
    "\n",
    "Una circunscripción única eliminaría la distorsión entre voto popular y escaños y convertiría al sufragio en lo que exige el Estatuto de Autonomía: _\"sufragio universal, libre, **igual**, directo y secreto\"_. El voto de cada ciudadano tendría el mismo peso en la configuración del Parlament. Esto no deja de ser una frase hecha, y desde un punto de vista económico o de la teoría de la decisión, cualquier voto es casi con certeza inútil. Sin embargo, si el Estatuto de Autonomía exige una _\"representación adecuada de todas las zonas del territorio de Cataluña\"_, no parece que la actual desproporción entre el número de votos necesarios para conseguir un escaño en cada territorio sea la forma de conseguirlo."
   ]
  },
  {
   "cell_type": "markdown",
   "metadata": {},
   "source": [
    "## Reparto sin exigir un porcentaje mínimo de voto\n",
    "\n",
    "Es sorprendente el efecto que tiene no considerar un porcentaje mínimo de voto para entrar en el reparto de diputados según la ley D'Hont. Claramente el partido más beneficiado es aquel que tiene un porcentaje de voto significativo, pero pequeño, repartido entre las circunscripciones. En este caso, __unio.cat__ entra en el Parlament gracias a sus votos en la provincia de Barcelona."
   ]
  },
  {
   "cell_type": "code",
   "execution_count": 19,
   "metadata": {
    "collapsed": false
   },
   "outputs": [
    {
     "name": "stdout",
     "output_type": "stream",
     "text": [
      "Tarragona: {'CatS\\xc3\\xadqueesPot': 1, 'PP': 1, 'CUP': 1, 'JxS\\xc3\\xad': 9, 'PSC': 2, \"C's\": 4}\n",
      "Girona: {'CatS\\xc3\\xadqueesPot': 1, 'PP': 1, 'CUP': 1, 'JxS\\xc3\\xad': 11, 'PSC': 1, \"C's\": 2}\n",
      "Lleida: {'JxS\\xc3\\xad': 10, 'PSC': 1, \"C's\": 2, 'PP': 1, 'CUP': 1}\n",
      "Barcelona: {'CatS\\xc3\\xadqueesPot': 9, 'PP': 7, 'CUP': 7, 'JxS\\xc3\\xad': 32, 'PSC': 12, \"C's\": 16, 'unio.cat': 2}\n"
     ]
    },
    {
     "data": {
      "text/html": [
       "<div>\n",
       "<style>\n",
       "    .dataframe thead tr:only-child th {\n",
       "        text-align: right;\n",
       "    }\n",
       "\n",
       "    .dataframe thead th {\n",
       "        text-align: left;\n",
       "    }\n",
       "\n",
       "    .dataframe tbody tr th {\n",
       "        vertical-align: top;\n",
       "    }\n",
       "</style>\n",
       "<table border=\"1\" class=\"dataframe\">\n",
       "  <thead>\n",
       "    <tr style=\"text-align: right;\">\n",
       "      <th></th>\n",
       "      <th>Votes</th>\n",
       "      <th>Seats</th>\n",
       "    </tr>\n",
       "    <tr>\n",
       "      <th>Party</th>\n",
       "      <th></th>\n",
       "      <th></th>\n",
       "    </tr>\n",
       "  </thead>\n",
       "  <tbody>\n",
       "    <tr>\n",
       "      <th>JxSí</th>\n",
       "      <td>1628714</td>\n",
       "      <td>62</td>\n",
       "    </tr>\n",
       "    <tr>\n",
       "      <th>C's</th>\n",
       "      <td>736364</td>\n",
       "      <td>24</td>\n",
       "    </tr>\n",
       "    <tr>\n",
       "      <th>PSC</th>\n",
       "      <td>523283</td>\n",
       "      <td>16</td>\n",
       "    </tr>\n",
       "    <tr>\n",
       "      <th>CatSíqueesPot</th>\n",
       "      <td>367613</td>\n",
       "      <td>11</td>\n",
       "    </tr>\n",
       "    <tr>\n",
       "      <th>CUP</th>\n",
       "      <td>337794</td>\n",
       "      <td>10</td>\n",
       "    </tr>\n",
       "    <tr>\n",
       "      <th>PP</th>\n",
       "      <td>349193</td>\n",
       "      <td>10</td>\n",
       "    </tr>\n",
       "    <tr>\n",
       "      <th>unio.cat</th>\n",
       "      <td>103293</td>\n",
       "      <td>2</td>\n",
       "    </tr>\n",
       "  </tbody>\n",
       "</table>\n",
       "</div>"
      ],
      "text/plain": [
       "                 Votes  Seats\n",
       "Party                        \n",
       "JxSí           1628714     62\n",
       "C's             736364     24\n",
       "PSC             523283     16\n",
       "CatSíqueesPot   367613     11\n",
       "CUP             337794     10\n",
       "PP              349193     10\n",
       "unio.cat        103293      2"
      ]
     },
     "execution_count": 19,
     "metadata": {},
     "output_type": "execute_result"
    }
   ],
   "source": [
    "parliament = calculate_parliament_by_dhont(df, catalonia_now, 0)\n",
    "parliament"
   ]
  },
  {
   "cell_type": "code",
   "execution_count": 20,
   "metadata": {
    "collapsed": false
   },
   "outputs": [
    {
     "name": "stdout",
     "output_type": "stream",
     "text": [
      "Índice de Rae:             1.104\n",
      "Índice de Loosemore-Hanby: 6.073\n",
      "Índice de Gallagher:       4.748\n",
      "Índice de Grofman:         2.764\n",
      "Índice de Lijphart:        6.339\n",
      "Índice de Saint-Lague:     2.902\n",
      "Índice de D'Hont:          1.160\n",
      "Índice de Cox-Shugart:     1.093\n",
      "#diputados (indepes):      72\n",
      "#diputados (no-indepes):   63\n",
      "#votos     (indepes):      1966508\n",
      "#votos     (no-indepes):   2079746\n"
     ]
    }
   ],
   "source": [
    "# Measures of proportionality\n",
    "d = calculate_disproportionality_indexes(parliament, df_total_votes, include_catalan=True)\n",
    "results[(0,False,135,False)] = d"
   ]
  },
  {
   "cell_type": "markdown",
   "metadata": {},
   "source": [
    "### Distribución proporcional de diputados entre circunscripciones"
   ]
  },
  {
   "cell_type": "code",
   "execution_count": 21,
   "metadata": {
    "collapsed": false
   },
   "outputs": [
    {
     "name": "stdout",
     "output_type": "stream",
     "text": [
      "Tarragona: {'CatS\\xc3\\xadqueesPot': 1, 'PP': 1, 'CUP': 1, 'JxS\\xc3\\xad': 7, 'PSC': 1, \"C's\": 3}\n",
      "Girona: {'JxS\\xc3\\xad': 9, 'PSC': 1, \"C's\": 2, 'PP': 1, 'CUP': 1}\n",
      "Lleida: {'JxS\\xc3\\xad': 6, 'PSC': 1, \"C's\": 1}\n",
      "Barcelona: {'CatS\\xc3\\xadqueesPot': 10, 'PP': 9, 'CUP': 8, 'JxS\\xc3\\xad': 37, 'PSC': 14, \"C's\": 19, 'unio.cat': 2}\n"
     ]
    },
    {
     "data": {
      "text/html": [
       "<div>\n",
       "<style>\n",
       "    .dataframe thead tr:only-child th {\n",
       "        text-align: right;\n",
       "    }\n",
       "\n",
       "    .dataframe thead th {\n",
       "        text-align: left;\n",
       "    }\n",
       "\n",
       "    .dataframe tbody tr th {\n",
       "        vertical-align: top;\n",
       "    }\n",
       "</style>\n",
       "<table border=\"1\" class=\"dataframe\">\n",
       "  <thead>\n",
       "    <tr style=\"text-align: right;\">\n",
       "      <th></th>\n",
       "      <th>Votes</th>\n",
       "      <th>Seats</th>\n",
       "    </tr>\n",
       "    <tr>\n",
       "      <th>Party</th>\n",
       "      <th></th>\n",
       "      <th></th>\n",
       "    </tr>\n",
       "  </thead>\n",
       "  <tbody>\n",
       "    <tr>\n",
       "      <th>JxSí</th>\n",
       "      <td>1628714</td>\n",
       "      <td>59</td>\n",
       "    </tr>\n",
       "    <tr>\n",
       "      <th>C's</th>\n",
       "      <td>736364</td>\n",
       "      <td>25</td>\n",
       "    </tr>\n",
       "    <tr>\n",
       "      <th>PSC</th>\n",
       "      <td>523283</td>\n",
       "      <td>17</td>\n",
       "    </tr>\n",
       "    <tr>\n",
       "      <th>CatSíqueesPot</th>\n",
       "      <td>367613</td>\n",
       "      <td>11</td>\n",
       "    </tr>\n",
       "    <tr>\n",
       "      <th>PP</th>\n",
       "      <td>349193</td>\n",
       "      <td>11</td>\n",
       "    </tr>\n",
       "    <tr>\n",
       "      <th>CUP</th>\n",
       "      <td>337794</td>\n",
       "      <td>10</td>\n",
       "    </tr>\n",
       "    <tr>\n",
       "      <th>unio.cat</th>\n",
       "      <td>103293</td>\n",
       "      <td>2</td>\n",
       "    </tr>\n",
       "  </tbody>\n",
       "</table>\n",
       "</div>"
      ],
      "text/plain": [
       "                 Votes  Seats\n",
       "Party                        \n",
       "JxSí           1628714     59\n",
       "C's             736364     25\n",
       "PSC             523283     17\n",
       "CatSíqueesPot   367613     11\n",
       "PP              349193     11\n",
       "CUP             337794     10\n",
       "unio.cat        103293      2"
      ]
     },
     "execution_count": 21,
     "metadata": {},
     "output_type": "execute_result"
    }
   ],
   "source": [
    "parliament = calculate_parliament_by_dhont(df, catalonia_135_pr, 0)\n",
    "parliament"
   ]
  },
  {
   "cell_type": "code",
   "execution_count": 22,
   "metadata": {
    "collapsed": false
   },
   "outputs": [
    {
     "name": "stdout",
     "output_type": "stream",
     "text": [
      "Índice de Rae:             0.813\n",
      "Índice de Loosemore-Hanby: 4.471\n",
      "Índice de Gallagher:       3.197\n",
      "Índice de Grofman:         2.035\n",
      "Índice de Lijphart:        4.117\n",
      "Índice de Saint-Lague:     2.154\n",
      "Índice de D'Hont:          1.104\n",
      "Índice de Cox-Shugart:     1.067\n",
      "#diputados (indepes):      69\n",
      "#diputados (no-indepes):   66\n",
      "#votos     (indepes):      1966508\n",
      "#votos     (no-indepes):   2079746\n"
     ]
    }
   ],
   "source": [
    "# Measures of proportionality\n",
    "d = calculate_disproportionality_indexes(parliament, df_total_votes, include_catalan=True)\n",
    "results[(0,False,135,True)] = d"
   ]
  },
  {
   "cell_type": "markdown",
   "metadata": {},
   "source": [
    "### Parlament de 150 diputados"
   ]
  },
  {
   "cell_type": "code",
   "execution_count": 23,
   "metadata": {
    "collapsed": false
   },
   "outputs": [
    {
     "name": "stdout",
     "output_type": "stream",
     "text": [
      "Tarragona: {'CatS\\xc3\\xadqueesPot': 1, 'PP': 1, 'CUP': 1, 'JxS\\xc3\\xad': 8, 'PSC': 2, \"C's\": 3}\n",
      "Girona: {'JxS\\xc3\\xad': 10, 'PSC': 1, \"C's\": 2, 'PP': 1, 'CUP': 1}\n",
      "Lleida: {'JxS\\xc3\\xad': 6, 'PSC': 1, \"C's\": 1, 'CUP': 1}\n",
      "Barcelona: {'CatS\\xc3\\xadqueesPot': 11, 'PP': 10, 'CUP': 9, 'JxS\\xc3\\xad': 42, 'PSC': 15, \"C's\": 21, 'unio.cat': 2}\n"
     ]
    },
    {
     "data": {
      "text/html": [
       "<div>\n",
       "<style>\n",
       "    .dataframe thead tr:only-child th {\n",
       "        text-align: right;\n",
       "    }\n",
       "\n",
       "    .dataframe thead th {\n",
       "        text-align: left;\n",
       "    }\n",
       "\n",
       "    .dataframe tbody tr th {\n",
       "        vertical-align: top;\n",
       "    }\n",
       "</style>\n",
       "<table border=\"1\" class=\"dataframe\">\n",
       "  <thead>\n",
       "    <tr style=\"text-align: right;\">\n",
       "      <th></th>\n",
       "      <th>Votes</th>\n",
       "      <th>Seats</th>\n",
       "    </tr>\n",
       "    <tr>\n",
       "      <th>Party</th>\n",
       "      <th></th>\n",
       "      <th></th>\n",
       "    </tr>\n",
       "  </thead>\n",
       "  <tbody>\n",
       "    <tr>\n",
       "      <th>JxSí</th>\n",
       "      <td>1628714</td>\n",
       "      <td>66</td>\n",
       "    </tr>\n",
       "    <tr>\n",
       "      <th>C's</th>\n",
       "      <td>736364</td>\n",
       "      <td>27</td>\n",
       "    </tr>\n",
       "    <tr>\n",
       "      <th>PSC</th>\n",
       "      <td>523283</td>\n",
       "      <td>19</td>\n",
       "    </tr>\n",
       "    <tr>\n",
       "      <th>CUP</th>\n",
       "      <td>337794</td>\n",
       "      <td>12</td>\n",
       "    </tr>\n",
       "    <tr>\n",
       "      <th>CatSíqueesPot</th>\n",
       "      <td>367613</td>\n",
       "      <td>12</td>\n",
       "    </tr>\n",
       "    <tr>\n",
       "      <th>PP</th>\n",
       "      <td>349193</td>\n",
       "      <td>12</td>\n",
       "    </tr>\n",
       "    <tr>\n",
       "      <th>unio.cat</th>\n",
       "      <td>103293</td>\n",
       "      <td>2</td>\n",
       "    </tr>\n",
       "  </tbody>\n",
       "</table>\n",
       "</div>"
      ],
      "text/plain": [
       "                 Votes  Seats\n",
       "Party                        \n",
       "JxSí           1628714     66\n",
       "C's             736364     27\n",
       "PSC             523283     19\n",
       "CUP             337794     12\n",
       "CatSíqueesPot   367613     12\n",
       "PP              349193     12\n",
       "unio.cat        103293      2"
      ]
     },
     "execution_count": 23,
     "metadata": {},
     "output_type": "execute_result"
    }
   ],
   "source": [
    "parliament = calculate_parliament_by_dhont(df, catalonia_150_pr, 0)\n",
    "parliament"
   ]
  },
  {
   "cell_type": "code",
   "execution_count": 24,
   "metadata": {
    "collapsed": false
   },
   "outputs": [
    {
     "name": "stdout",
     "output_type": "stream",
     "text": [
      "Índice de Rae:             0.773\n",
      "Índice de Loosemore-Hanby: 4.249\n",
      "Índice de Gallagher:       3.368\n",
      "Índice de Grofman:         1.934\n",
      "Índice de Lijphart:        4.413\n",
      "Índice de Saint-Lague:     2.296\n",
      "Índice de D'Hont:          1.111\n",
      "Índice de Cox-Shugart:     1.069\n",
      "#diputados (indepes):      78\n",
      "#diputados (no-indepes):   72\n",
      "#votos     (indepes):      1966508\n",
      "#votos     (no-indepes):   2079746\n"
     ]
    }
   ],
   "source": [
    "# Measures of proportionality\n",
    "d = calculate_disproportionality_indexes(parliament, df_total_votes, include_catalan=True)\n",
    "results[(0,False,150,True)] = d"
   ]
  },
  {
   "cell_type": "markdown",
   "metadata": {},
   "source": [
    "### Circunscripción única\n",
    "\n",
    "Ahora son dos partidos minoritarios los que consiguen representación: __unio.cat__ y __PACMA__."
   ]
  },
  {
   "cell_type": "code",
   "execution_count": 25,
   "metadata": {
    "collapsed": false
   },
   "outputs": [
    {
     "data": {
      "text/html": [
       "<div>\n",
       "<style>\n",
       "    .dataframe thead tr:only-child th {\n",
       "        text-align: right;\n",
       "    }\n",
       "\n",
       "    .dataframe thead th {\n",
       "        text-align: left;\n",
       "    }\n",
       "\n",
       "    .dataframe tbody tr th {\n",
       "        vertical-align: top;\n",
       "    }\n",
       "</style>\n",
       "<table border=\"1\" class=\"dataframe\">\n",
       "  <thead>\n",
       "    <tr style=\"text-align: right;\">\n",
       "      <th></th>\n",
       "      <th>Votes</th>\n",
       "      <th>Seats</th>\n",
       "    </tr>\n",
       "    <tr>\n",
       "      <th>Option</th>\n",
       "      <th></th>\n",
       "      <th></th>\n",
       "    </tr>\n",
       "  </thead>\n",
       "  <tbody>\n",
       "    <tr>\n",
       "      <th>JxSí</th>\n",
       "      <td>1628714</td>\n",
       "      <td>55</td>\n",
       "    </tr>\n",
       "    <tr>\n",
       "      <th>C's</th>\n",
       "      <td>736364</td>\n",
       "      <td>25</td>\n",
       "    </tr>\n",
       "    <tr>\n",
       "      <th>PSC</th>\n",
       "      <td>523283</td>\n",
       "      <td>17</td>\n",
       "    </tr>\n",
       "    <tr>\n",
       "      <th>CatSíqueesPot</th>\n",
       "      <td>367613</td>\n",
       "      <td>12</td>\n",
       "    </tr>\n",
       "    <tr>\n",
       "      <th>CUP</th>\n",
       "      <td>337794</td>\n",
       "      <td>11</td>\n",
       "    </tr>\n",
       "    <tr>\n",
       "      <th>PP</th>\n",
       "      <td>349193</td>\n",
       "      <td>11</td>\n",
       "    </tr>\n",
       "    <tr>\n",
       "      <th>unio.cat</th>\n",
       "      <td>103293</td>\n",
       "      <td>3</td>\n",
       "    </tr>\n",
       "    <tr>\n",
       "      <th>PACMA</th>\n",
       "      <td>30157</td>\n",
       "      <td>1</td>\n",
       "    </tr>\n",
       "  </tbody>\n",
       "</table>\n",
       "</div>"
      ],
      "text/plain": [
       "                 Votes  Seats\n",
       "Option                       \n",
       "JxSí           1628714     55\n",
       "C's             736364     25\n",
       "PSC             523283     17\n",
       "CatSíqueesPot   367613     12\n",
       "CUP             337794     11\n",
       "PP              349193     11\n",
       "unio.cat        103293      3\n",
       "PACMA            30157      1"
      ]
     },
     "execution_count": 25,
     "metadata": {},
     "output_type": "execute_result"
    }
   ],
   "source": [
    "# Parliament 135 seats\n",
    "parliament = assign_constituency_representatives_by_dhont(catalonia_df, 135, 0)\n",
    "parliament"
   ]
  },
  {
   "cell_type": "code",
   "execution_count": 26,
   "metadata": {
    "collapsed": false
   },
   "outputs": [
    {
     "name": "stdout",
     "output_type": "stream",
     "text": [
      "Índice de Rae:             0.276\n",
      "Índice de Loosemore-Hanby: 1.516\n",
      "Índice de Gallagher:       1.015\n",
      "Índice de Grofman:         0.690\n",
      "Índice de Lijphart:        1.154\n",
      "Índice de Saint-Lague:     0.491\n",
      "Índice de D'Hont:          1.035\n",
      "Índice de Cox-Shugart:     1.022\n",
      "#diputados (indepes):      66\n",
      "#diputados (no-indepes):   69\n",
      "#votos     (indepes):      1966508\n",
      "#votos     (no-indepes):   2109903\n"
     ]
    }
   ],
   "source": [
    "# Measures of proportionality\n",
    "d = calculate_disproportionality_indexes(parliament, df_total_votes, include_catalan=True)\n",
    "results[(0,True,135,True)] = d"
   ]
  },
  {
   "cell_type": "code",
   "execution_count": 27,
   "metadata": {
    "collapsed": false
   },
   "outputs": [
    {
     "data": {
      "text/html": [
       "<div>\n",
       "<style>\n",
       "    .dataframe thead tr:only-child th {\n",
       "        text-align: right;\n",
       "    }\n",
       "\n",
       "    .dataframe thead th {\n",
       "        text-align: left;\n",
       "    }\n",
       "\n",
       "    .dataframe tbody tr th {\n",
       "        vertical-align: top;\n",
       "    }\n",
       "</style>\n",
       "<table border=\"1\" class=\"dataframe\">\n",
       "  <thead>\n",
       "    <tr style=\"text-align: right;\">\n",
       "      <th></th>\n",
       "      <th>Votes</th>\n",
       "      <th>Seats</th>\n",
       "    </tr>\n",
       "    <tr>\n",
       "      <th>Option</th>\n",
       "      <th></th>\n",
       "      <th></th>\n",
       "    </tr>\n",
       "  </thead>\n",
       "  <tbody>\n",
       "    <tr>\n",
       "      <th>JxSí</th>\n",
       "      <td>1628714</td>\n",
       "      <td>61</td>\n",
       "    </tr>\n",
       "    <tr>\n",
       "      <th>C's</th>\n",
       "      <td>736364</td>\n",
       "      <td>28</td>\n",
       "    </tr>\n",
       "    <tr>\n",
       "      <th>PSC</th>\n",
       "      <td>523283</td>\n",
       "      <td>19</td>\n",
       "    </tr>\n",
       "    <tr>\n",
       "      <th>CatSíqueesPot</th>\n",
       "      <td>367613</td>\n",
       "      <td>13</td>\n",
       "    </tr>\n",
       "    <tr>\n",
       "      <th>PP</th>\n",
       "      <td>349193</td>\n",
       "      <td>13</td>\n",
       "    </tr>\n",
       "    <tr>\n",
       "      <th>CUP</th>\n",
       "      <td>337794</td>\n",
       "      <td>12</td>\n",
       "    </tr>\n",
       "    <tr>\n",
       "      <th>unio.cat</th>\n",
       "      <td>103293</td>\n",
       "      <td>3</td>\n",
       "    </tr>\n",
       "    <tr>\n",
       "      <th>PACMA</th>\n",
       "      <td>30157</td>\n",
       "      <td>1</td>\n",
       "    </tr>\n",
       "  </tbody>\n",
       "</table>\n",
       "</div>"
      ],
      "text/plain": [
       "                 Votes  Seats\n",
       "Option                       \n",
       "JxSí           1628714     61\n",
       "C's             736364     28\n",
       "PSC             523283     19\n",
       "CatSíqueesPot   367613     13\n",
       "PP              349193     13\n",
       "CUP             337794     12\n",
       "unio.cat        103293      3\n",
       "PACMA            30157      1"
      ]
     },
     "execution_count": 27,
     "metadata": {},
     "output_type": "execute_result"
    }
   ],
   "source": [
    "# Parliament 150 seats\n",
    "parliament = assign_constituency_representatives_by_dhont(catalonia_df, 150, 0)\n",
    "parliament"
   ]
  },
  {
   "cell_type": "code",
   "execution_count": 28,
   "metadata": {
    "collapsed": false
   },
   "outputs": [
    {
     "name": "stdout",
     "output_type": "stream",
     "text": [
      "Índice de Rae:             0.320\n",
      "Índice de Loosemore-Hanby: 1.761\n",
      "Índice de Gallagher:       1.072\n",
      "Índice de Grofman:         0.802\n",
      "Índice de Lijphart:        1.079\n",
      "Índice de Saint-Lague:     0.577\n",
      "Índice de D'Hont:          1.043\n",
      "Índice de Cox-Shugart:     1.023\n",
      "#diputados (indepes):      73\n",
      "#diputados (no-indepes):   77\n",
      "#votos     (indepes):      1966508\n",
      "#votos     (no-indepes):   2109903\n"
     ]
    }
   ],
   "source": [
    "# Measures of proportionality\n",
    "d = calculate_disproportionality_indexes(parliament, df_total_votes, include_catalan=True)\n",
    "results[(0,True,150,True)] = d"
   ]
  },
  {
   "cell_type": "markdown",
   "metadata": {},
   "source": [
    "## Conclusiones\n",
    "\n",
    "El sistema electoral que consigue claramente el valor óptimo en todos los indicadores _objetivos_ de proporcionalidad (menos en uno) es el que no utiliza ningún porcentaje mínimo de voto, usa una circunscripción única y configura un Parlament de 135 diputados. Solo la configuración equivalente con un Parlament de 150 escaños obtiene un valor menor en uno de los indicadores.\n",
    "\n",
    "Por tanto, antes de que los políticos españoles se dediquen a abrir la caja de Pandora de la reforma constitucional sería preferible que empezaran por reformar la ley electoral. Si realmente nuestro sistema es proporcional y no mayoritario, entonces habría que eliminar el requisito de superar un porcentaje mínimo de voto para acceder al reparto de escaños y configurar una circunscripción única. Solo parlamentos así configurados (los autonómicos y, por supuesto, el Congreso de los Diputados) pueden ser realmente representativos de los ciudadanos y no, como diría el juez Earl Warren, de los árboles y de las hectáreas."
   ]
  },
  {
   "cell_type": "code",
   "execution_count": 29,
   "metadata": {
    "collapsed": false
   },
   "outputs": [
    {
     "data": {
      "text/html": [
       "<div>\n",
       "<style>\n",
       "    .dataframe thead tr:only-child th {\n",
       "        text-align: right;\n",
       "    }\n",
       "\n",
       "    .dataframe thead th {\n",
       "        text-align: left;\n",
       "    }\n",
       "\n",
       "    .dataframe tbody tr th {\n",
       "        vertical-align: top;\n",
       "    }\n",
       "</style>\n",
       "<table border=\"1\" class=\"dataframe\">\n",
       "  <thead>\n",
       "    <tr style=\"text-align: right;\">\n",
       "      <th></th>\n",
       "      <th></th>\n",
       "      <th></th>\n",
       "      <th></th>\n",
       "      <th>indep_s</th>\n",
       "      <th>no_indep_s</th>\n",
       "      <th>indep_v</th>\n",
       "      <th>no_indep_v</th>\n",
       "      <th>rae</th>\n",
       "      <th>loosemore_hanby</th>\n",
       "      <th>gallagher</th>\n",
       "      <th>grofman</th>\n",
       "      <th>lijphart</th>\n",
       "      <th>saint_lague</th>\n",
       "      <th>dhont</th>\n",
       "      <th>cox_shugart</th>\n",
       "    </tr>\n",
       "    <tr>\n",
       "      <th>p_t</th>\n",
       "      <th>s_c</th>\n",
       "      <th>n_s</th>\n",
       "      <th>pr</th>\n",
       "      <th></th>\n",
       "      <th></th>\n",
       "      <th></th>\n",
       "      <th></th>\n",
       "      <th></th>\n",
       "      <th></th>\n",
       "      <th></th>\n",
       "      <th></th>\n",
       "      <th></th>\n",
       "      <th></th>\n",
       "      <th></th>\n",
       "      <th></th>\n",
       "    </tr>\n",
       "  </thead>\n",
       "  <tbody>\n",
       "    <tr>\n",
       "      <th rowspan=\"5\" valign=\"top\">0</th>\n",
       "      <th rowspan=\"3\" valign=\"top\">False</th>\n",
       "      <th rowspan=\"2\" valign=\"top\">135</th>\n",
       "      <th>False</th>\n",
       "      <td>72</td>\n",
       "      <td>63</td>\n",
       "      <td>1966508</td>\n",
       "      <td>2079746</td>\n",
       "      <td>1.104</td>\n",
       "      <td>6.073</td>\n",
       "      <td>4.748</td>\n",
       "      <td>2.764</td>\n",
       "      <td>6.339</td>\n",
       "      <td>2.902</td>\n",
       "      <td>1.160</td>\n",
       "      <td>1.093</td>\n",
       "    </tr>\n",
       "    <tr>\n",
       "      <th>True</th>\n",
       "      <td>69</td>\n",
       "      <td>66</td>\n",
       "      <td>1966508</td>\n",
       "      <td>2079746</td>\n",
       "      <td>0.813</td>\n",
       "      <td>4.471</td>\n",
       "      <td>3.197</td>\n",
       "      <td>2.035</td>\n",
       "      <td>4.117</td>\n",
       "      <td>2.154</td>\n",
       "      <td>1.104</td>\n",
       "      <td>1.067</td>\n",
       "    </tr>\n",
       "    <tr>\n",
       "      <th>150</th>\n",
       "      <th>True</th>\n",
       "      <td>78</td>\n",
       "      <td>72</td>\n",
       "      <td>1966508</td>\n",
       "      <td>2079746</td>\n",
       "      <td>0.773</td>\n",
       "      <td>4.249</td>\n",
       "      <td>3.368</td>\n",
       "      <td>1.934</td>\n",
       "      <td>4.413</td>\n",
       "      <td>2.296</td>\n",
       "      <td>1.111</td>\n",
       "      <td>1.069</td>\n",
       "    </tr>\n",
       "    <tr>\n",
       "      <th rowspan=\"2\" valign=\"top\">True</th>\n",
       "      <th>135</th>\n",
       "      <th>True</th>\n",
       "      <td>66</td>\n",
       "      <td>69</td>\n",
       "      <td>1966508</td>\n",
       "      <td>2109903</td>\n",
       "      <td>0.276</td>\n",
       "      <td>1.516</td>\n",
       "      <td>1.015</td>\n",
       "      <td>0.690</td>\n",
       "      <td>1.154</td>\n",
       "      <td>0.491</td>\n",
       "      <td>1.035</td>\n",
       "      <td>1.022</td>\n",
       "    </tr>\n",
       "    <tr>\n",
       "      <th>150</th>\n",
       "      <th>True</th>\n",
       "      <td>73</td>\n",
       "      <td>77</td>\n",
       "      <td>1966508</td>\n",
       "      <td>2109903</td>\n",
       "      <td>0.320</td>\n",
       "      <td>1.761</td>\n",
       "      <td>1.072</td>\n",
       "      <td>0.802</td>\n",
       "      <td>1.079</td>\n",
       "      <td>0.577</td>\n",
       "      <td>1.043</td>\n",
       "      <td>1.023</td>\n",
       "    </tr>\n",
       "    <tr>\n",
       "      <th rowspan=\"5\" valign=\"top\">3</th>\n",
       "      <th rowspan=\"3\" valign=\"top\">False</th>\n",
       "      <th rowspan=\"2\" valign=\"top\">135</th>\n",
       "      <th>False</th>\n",
       "      <td>72</td>\n",
       "      <td>63</td>\n",
       "      <td>1966508</td>\n",
       "      <td>1976453</td>\n",
       "      <td>1.217</td>\n",
       "      <td>6.693</td>\n",
       "      <td>4.983</td>\n",
       "      <td>3.046</td>\n",
       "      <td>6.339</td>\n",
       "      <td>4.888</td>\n",
       "      <td>1.160</td>\n",
       "      <td>1.100</td>\n",
       "    </tr>\n",
       "    <tr>\n",
       "      <th>True</th>\n",
       "      <td>70</td>\n",
       "      <td>65</td>\n",
       "      <td>1966508</td>\n",
       "      <td>1976453</td>\n",
       "      <td>1.082</td>\n",
       "      <td>5.952</td>\n",
       "      <td>4.111</td>\n",
       "      <td>2.709</td>\n",
       "      <td>4.857</td>\n",
       "      <td>4.493</td>\n",
       "      <td>1.123</td>\n",
       "      <td>1.084</td>\n",
       "    </tr>\n",
       "    <tr>\n",
       "      <th>150</th>\n",
       "      <th>True</th>\n",
       "      <td>78</td>\n",
       "      <td>72</td>\n",
       "      <td>1966508</td>\n",
       "      <td>1976453</td>\n",
       "      <td>1.005</td>\n",
       "      <td>5.530</td>\n",
       "      <td>3.779</td>\n",
       "      <td>2.517</td>\n",
       "      <td>4.413</td>\n",
       "      <td>4.317</td>\n",
       "      <td>1.111</td>\n",
       "      <td>1.077</td>\n",
       "    </tr>\n",
       "    <tr>\n",
       "      <th rowspan=\"2\" valign=\"top\">True</th>\n",
       "      <th>135</th>\n",
       "      <th>True</th>\n",
       "      <td>68</td>\n",
       "      <td>67</td>\n",
       "      <td>1966508</td>\n",
       "      <td>1976453</td>\n",
       "      <td>0.728</td>\n",
       "      <td>4.006</td>\n",
       "      <td>2.724</td>\n",
       "      <td>1.823</td>\n",
       "      <td>2.635</td>\n",
       "      <td>3.877</td>\n",
       "      <td>1.067</td>\n",
       "      <td>1.052</td>\n",
       "    </tr>\n",
       "    <tr>\n",
       "      <th>150</th>\n",
       "      <th>True</th>\n",
       "      <td>75</td>\n",
       "      <td>75</td>\n",
       "      <td>1966508</td>\n",
       "      <td>1976453</td>\n",
       "      <td>0.709</td>\n",
       "      <td>3.897</td>\n",
       "      <td>2.385</td>\n",
       "      <td>1.774</td>\n",
       "      <td>2.511</td>\n",
       "      <td>3.818</td>\n",
       "      <td>1.056</td>\n",
       "      <td>1.041</td>\n",
       "    </tr>\n",
       "  </tbody>\n",
       "</table>\n",
       "</div>"
      ],
      "text/plain": [
       "                     indep_s  no_indep_s  indep_v  no_indep_v    rae  \\\n",
       "p_t s_c   n_s pr                                                       \n",
       "0   False 135 False       72          63  1966508     2079746  1.104   \n",
       "              True        69          66  1966508     2079746  0.813   \n",
       "          150 True        78          72  1966508     2079746  0.773   \n",
       "    True  135 True        66          69  1966508     2109903  0.276   \n",
       "          150 True        73          77  1966508     2109903  0.320   \n",
       "3   False 135 False       72          63  1966508     1976453  1.217   \n",
       "              True        70          65  1966508     1976453  1.082   \n",
       "          150 True        78          72  1966508     1976453  1.005   \n",
       "    True  135 True        68          67  1966508     1976453  0.728   \n",
       "          150 True        75          75  1966508     1976453  0.709   \n",
       "\n",
       "                     loosemore_hanby  gallagher  grofman  lijphart  \\\n",
       "p_t s_c   n_s pr                                                     \n",
       "0   False 135 False            6.073      4.748    2.764     6.339   \n",
       "              True             4.471      3.197    2.035     4.117   \n",
       "          150 True             4.249      3.368    1.934     4.413   \n",
       "    True  135 True             1.516      1.015    0.690     1.154   \n",
       "          150 True             1.761      1.072    0.802     1.079   \n",
       "3   False 135 False            6.693      4.983    3.046     6.339   \n",
       "              True             5.952      4.111    2.709     4.857   \n",
       "          150 True             5.530      3.779    2.517     4.413   \n",
       "    True  135 True             4.006      2.724    1.823     2.635   \n",
       "          150 True             3.897      2.385    1.774     2.511   \n",
       "\n",
       "                     saint_lague  dhont  cox_shugart  \n",
       "p_t s_c   n_s pr                                      \n",
       "0   False 135 False        2.902  1.160        1.093  \n",
       "              True         2.154  1.104        1.067  \n",
       "          150 True         2.296  1.111        1.069  \n",
       "    True  135 True         0.491  1.035        1.022  \n",
       "          150 True         0.577  1.043        1.023  \n",
       "3   False 135 False        4.888  1.160        1.100  \n",
       "              True         4.493  1.123        1.084  \n",
       "          150 True         4.317  1.111        1.077  \n",
       "    True  135 True         3.877  1.067        1.052  \n",
       "          150 True         3.818  1.056        1.041  "
      ]
     },
     "execution_count": 29,
     "metadata": {},
     "output_type": "execute_result"
    }
   ],
   "source": [
    "# p_t (threshold percentage):         porcentaje minimo de votos en circunscripcion para repartir diputados. \n",
    "#                                     Valores: 0%, 3%\n",
    "# s_c (single constituency):          circunscripcion unica. Valores: True (Si), False (No)\n",
    "# n_s (number of seats):              numero de diputados en el Parlament. Valores: 135, 150\n",
    "# pr  (proportial constituencies):    reparto proporcional de diputados por circunscripcion. \n",
    "#                                     Valores: True (Si), False (No)\n",
    "# indep_s (proindependence seats):    numero de diputados asignados al bloque independentista\n",
    "# no_indep_s (no independence seats): numero de diputados asignados al bloque no-independentista\n",
    "# indep_v (proindependence votes):    numero de votos recibidos por el bloque independentista\n",
    "# no_indep_v (no independence votes): numero de votos recibidos por el bloque no-independentista\n",
    "result_df = pd.DataFrame.from_dict(results, orient='index')\n",
    "result_df.index.names = ['p_t','s_c','n_s','pr']\n",
    "result_df[['indep_s', 'no_indep_s', 'indep_v', 'no_indep_v', \n",
    "           'rae', 'loosemore_hanby', 'gallagher', 'grofman', \n",
    "           'lijphart', 'saint_lague', 'dhont', 'cox_shugart']].round(3)"
   ]
  },
  {
   "cell_type": "markdown",
   "metadata": {},
   "source": [
    "## Actualización: Elecciones al Parlament del 21-diciembre-2017\n",
    "\n",
    "Se analizan un conjunto de escenarios cambiando los siguientes parámetros (siempre con un Parlament de 135 escaños):\n",
    "\n",
    "- Reparto actual de diputados vs Reparto proporcional de diputados por circunscripción.\n",
    "- Cuatro circunscripciones vs Circunscripción única.\n",
    "- 3% de voto válido para entrar en el reparto de escaños vs Sin porcentaje mínimo de voto válido.\n",
    "\n",
    "Por último, se calcula cómo hubiese resultado la composición del Parlament si JxC y ERC hubiesen presentado una candidatura conjunta."
   ]
  },
  {
   "cell_type": "markdown",
   "metadata": {},
   "source": [
    "### Acceso a los datos"
   ]
  },
  {
   "cell_type": "code",
   "execution_count": 30,
   "metadata": {
    "collapsed": false
   },
   "outputs": [
    {
     "data": {
      "text/html": [
       "<div>\n",
       "<style>\n",
       "    .dataframe thead tr:only-child th {\n",
       "        text-align: right;\n",
       "    }\n",
       "\n",
       "    .dataframe thead th {\n",
       "        text-align: left;\n",
       "    }\n",
       "\n",
       "    .dataframe tbody tr th {\n",
       "        vertical-align: top;\n",
       "    }\n",
       "</style>\n",
       "<table border=\"1\" class=\"dataframe\">\n",
       "  <thead>\n",
       "    <tr style=\"text-align: right;\">\n",
       "      <th></th>\n",
       "      <th>City</th>\n",
       "      <th>Constituency</th>\n",
       "      <th>Votes</th>\n",
       "      <th>Option</th>\n",
       "    </tr>\n",
       "  </thead>\n",
       "  <tbody>\n",
       "    <tr>\n",
       "      <th>10224</th>\n",
       "      <td>Alella</td>\n",
       "      <td>Barcelona</td>\n",
       "      <td>331</td>\n",
       "      <td>CatComú-Podem</td>\n",
       "    </tr>\n",
       "    <tr>\n",
       "      <th>10225</th>\n",
       "      <td>Alella</td>\n",
       "      <td>Barcelona</td>\n",
       "      <td>235</td>\n",
       "      <td>CUP</td>\n",
       "    </tr>\n",
       "    <tr>\n",
       "      <th>10226</th>\n",
       "      <td>Alella</td>\n",
       "      <td>Barcelona</td>\n",
       "      <td>211</td>\n",
       "      <td>PP</td>\n",
       "    </tr>\n",
       "    <tr>\n",
       "      <th>10227</th>\n",
       "      <td>Alella</td>\n",
       "      <td>Barcelona</td>\n",
       "      <td>44</td>\n",
       "      <td>PACMA</td>\n",
       "    </tr>\n",
       "    <tr>\n",
       "      <th>10228</th>\n",
       "      <td>Alella</td>\n",
       "      <td>Barcelona</td>\n",
       "      <td>12</td>\n",
       "      <td>RECORTES CERO-GRUPO VERDE</td>\n",
       "    </tr>\n",
       "  </tbody>\n",
       "</table>\n",
       "</div>"
      ],
      "text/plain": [
       "         City Constituency  Votes                     Option\n",
       "10224  Alella    Barcelona    331              CatComú-Podem\n",
       "10225  Alella    Barcelona    235                        CUP\n",
       "10226  Alella    Barcelona    211                         PP\n",
       "10227  Alella    Barcelona     44                      PACMA\n",
       "10228  Alella    Barcelona     12  RECORTES CERO-GRUPO VERDE"
      ]
     },
     "execution_count": 30,
     "metadata": {},
     "output_type": "execute_result"
    }
   ],
   "source": [
    "# Warning! The code in this cell is based on Scrapy.\n",
    "# Scrapy is based on Twisted, and Twisted has an unfortunate limitation:\n",
    "# functions download_data_by_region and download_data_by_city can just be run \n",
    "# once per kernel session\n",
    "\n",
    "# Downloading data by city (municipio)\n",
    "# Data file path will be './data/parlament_municipis_2017_<timestamp>.csv'\n",
    "# Example of use:\n",
    "#download_data_by_city(year=2017)\n",
    "#!ls ./data/parlament_municipis_2017*\n",
    "\n",
    "# Loading data file into a pandas.Dataframe object\n",
    "df = pd.read_csv('./data/parlament_municipis_2017.csv')\n",
    "df.tail()"
   ]
  },
  {
   "cell_type": "code",
   "execution_count": 31,
   "metadata": {
    "collapsed": false
   },
   "outputs": [
    {
     "name": "stdout",
     "output_type": "stream",
     "text": [
      "Column names:                       City, Constituency, Votes, Option\n",
      "Data frame shape (#rows, #columns): (10229, 4)\n",
      "Different values in opcion column:  Abstención, Votos nulos, Votos en blanco, C's, PSC, ERC-CatSí, CatComú-Podem, JUNTSxCAT, PP, CUP, PACMA, RECORTES CERO-GRUPO VERDE, PU M+J\n"
     ]
    }
   ],
   "source": [
    "# Some descriptive info about the dataframe\n",
    "print(\"Column names:                       %s\" % ', '.join(list(df.columns)))\n",
    "print(\"Data frame shape (#rows, #columns): %s\" % str(df.shape))\n",
    "print(\"Different values in opcion column:  %s\" % ', '.join(df[OPTION].unique()))"
   ]
  },
  {
   "cell_type": "code",
   "execution_count": 32,
   "metadata": {
    "collapsed": false
   },
   "outputs": [
    {
     "data": {
      "text/html": [
       "<div>\n",
       "<style>\n",
       "    .dataframe thead tr:only-child th {\n",
       "        text-align: right;\n",
       "    }\n",
       "\n",
       "    .dataframe thead th {\n",
       "        text-align: left;\n",
       "    }\n",
       "\n",
       "    .dataframe tbody tr th {\n",
       "        vertical-align: top;\n",
       "    }\n",
       "</style>\n",
       "<table border=\"1\" class=\"dataframe\">\n",
       "  <thead>\n",
       "    <tr style=\"text-align: right;\">\n",
       "      <th></th>\n",
       "      <th></th>\n",
       "      <th>Votes</th>\n",
       "    </tr>\n",
       "    <tr>\n",
       "      <th>Constituency</th>\n",
       "      <th>Option</th>\n",
       "      <th></th>\n",
       "    </tr>\n",
       "  </thead>\n",
       "  <tbody>\n",
       "    <tr>\n",
       "      <th rowspan=\"5\" valign=\"top\">Barcelona</th>\n",
       "      <th>Abstención</th>\n",
       "      <td>703787</td>\n",
       "    </tr>\n",
       "    <tr>\n",
       "      <th>C's</th>\n",
       "      <td>862300</td>\n",
       "    </tr>\n",
       "    <tr>\n",
       "      <th>CUP</th>\n",
       "      <td>142195</td>\n",
       "    </tr>\n",
       "    <tr>\n",
       "      <th>CatComú-Podem</th>\n",
       "      <td>274565</td>\n",
       "    </tr>\n",
       "    <tr>\n",
       "      <th>ERC-CatSí</th>\n",
       "      <td>673285</td>\n",
       "    </tr>\n",
       "  </tbody>\n",
       "</table>\n",
       "</div>"
      ],
      "text/plain": [
       "                             Votes\n",
       "Constituency Option               \n",
       "Barcelona    Abstención     703787\n",
       "             C's            862300\n",
       "             CUP            142195\n",
       "             CatComú-Podem  274565\n",
       "             ERC-CatSí      673285"
      ]
     },
     "execution_count": 32,
     "metadata": {},
     "output_type": "execute_result"
    }
   ],
   "source": [
    "# Adding votes by constituency (provincia) & partido (opcion)\n",
    "df = df[[CONSTITUENCY, OPTION, VOTES]].groupby([CONSTITUENCY, OPTION]).sum()\n",
    "df.head()"
   ]
  },
  {
   "cell_type": "code",
   "execution_count": 33,
   "metadata": {
    "collapsed": false
   },
   "outputs": [
    {
     "data": {
      "text/html": [
       "<div>\n",
       "<style>\n",
       "    .dataframe thead tr:only-child th {\n",
       "        text-align: right;\n",
       "    }\n",
       "\n",
       "    .dataframe thead th {\n",
       "        text-align: left;\n",
       "    }\n",
       "\n",
       "    .dataframe tbody tr th {\n",
       "        vertical-align: top;\n",
       "    }\n",
       "</style>\n",
       "<table border=\"1\" class=\"dataframe\">\n",
       "  <thead>\n",
       "    <tr style=\"text-align: right;\">\n",
       "      <th></th>\n",
       "      <th>Votes</th>\n",
       "    </tr>\n",
       "    <tr>\n",
       "      <th>Option</th>\n",
       "      <th></th>\n",
       "    </tr>\n",
       "  </thead>\n",
       "  <tbody>\n",
       "    <tr>\n",
       "      <th>C's</th>\n",
       "      <td>1102099</td>\n",
       "    </tr>\n",
       "    <tr>\n",
       "      <th>Abstención</th>\n",
       "      <td>961426</td>\n",
       "    </tr>\n",
       "    <tr>\n",
       "      <th>JUNTSxCAT</th>\n",
       "      <td>940602</td>\n",
       "    </tr>\n",
       "    <tr>\n",
       "      <th>ERC-CatSí</th>\n",
       "      <td>929407</td>\n",
       "    </tr>\n",
       "    <tr>\n",
       "      <th>PSC</th>\n",
       "      <td>602969</td>\n",
       "    </tr>\n",
       "    <tr>\n",
       "      <th>CatComú-Podem</th>\n",
       "      <td>323695</td>\n",
       "    </tr>\n",
       "    <tr>\n",
       "      <th>CUP</th>\n",
       "      <td>193352</td>\n",
       "    </tr>\n",
       "    <tr>\n",
       "      <th>PP</th>\n",
       "      <td>184108</td>\n",
       "    </tr>\n",
       "    <tr>\n",
       "      <th>PACMA</th>\n",
       "      <td>38520</td>\n",
       "    </tr>\n",
       "    <tr>\n",
       "      <th>Votos en blanco</th>\n",
       "      <td>19377</td>\n",
       "    </tr>\n",
       "    <tr>\n",
       "      <th>Votos nulos</th>\n",
       "      <td>16027</td>\n",
       "    </tr>\n",
       "    <tr>\n",
       "      <th>RECORTES CERO-GRUPO VERDE</th>\n",
       "      <td>10114</td>\n",
       "    </tr>\n",
       "    <tr>\n",
       "      <th>PU M+J</th>\n",
       "      <td>573</td>\n",
       "    </tr>\n",
       "  </tbody>\n",
       "</table>\n",
       "</div>"
      ],
      "text/plain": [
       "                             Votes\n",
       "Option                            \n",
       "C's                        1102099\n",
       "Abstención                  961426\n",
       "JUNTSxCAT                   940602\n",
       "ERC-CatSí                   929407\n",
       "PSC                         602969\n",
       "CatComú-Podem               323695\n",
       "CUP                         193352\n",
       "PP                          184108\n",
       "PACMA                        38520\n",
       "Votos en blanco              19377\n",
       "Votos nulos                  16027\n",
       "RECORTES CERO-GRUPO VERDE    10114\n",
       "PU M+J                         573"
      ]
     },
     "execution_count": 33,
     "metadata": {},
     "output_type": "execute_result"
    }
   ],
   "source": [
    "# Adding votes globally (Catalonia as a whole)\n",
    "df_total_votes = df.groupby([OPTION]).sum()\n",
    "df_total_votes.sort_values([VOTES], ascending=False)"
   ]
  },
  {
   "cell_type": "markdown",
   "metadata": {},
   "source": [
    "### Reparto según la legislación vigente"
   ]
  },
  {
   "cell_type": "code",
   "execution_count": 34,
   "metadata": {
    "collapsed": false
   },
   "outputs": [
    {
     "name": "stdout",
     "output_type": "stream",
     "text": [
      "Tarragona: {'PSC': 2, \"C's\": 6, 'ERC-CatS\\xc3\\xad': 5, 'JUNTSxCAT': 4, 'CatCom\\xc3\\xba-Podem': 1}\n",
      "Girona: {'PSC': 1, \"C's\": 4, 'ERC-CatS\\xc3\\xad': 4, 'JUNTSxCAT': 7, 'CUP': 1}\n",
      "Lleida: {'PSC': 1, \"C's\": 3, 'ERC-CatS\\xc3\\xad': 5, 'JUNTSxCAT': 6}\n",
      "Barcelona: {'PP': 3, 'CatCom\\xc3\\xba-Podem': 7, 'CUP': 3, 'PSC': 13, 'ERC-CatS\\xc3\\xad': 18, 'JUNTSxCAT': 17, \"C's\": 24}\n"
     ]
    },
    {
     "data": {
      "text/html": [
       "<div>\n",
       "<style>\n",
       "    .dataframe thead tr:only-child th {\n",
       "        text-align: right;\n",
       "    }\n",
       "\n",
       "    .dataframe thead th {\n",
       "        text-align: left;\n",
       "    }\n",
       "\n",
       "    .dataframe tbody tr th {\n",
       "        vertical-align: top;\n",
       "    }\n",
       "</style>\n",
       "<table border=\"1\" class=\"dataframe\">\n",
       "  <thead>\n",
       "    <tr style=\"text-align: right;\">\n",
       "      <th></th>\n",
       "      <th>Votes</th>\n",
       "      <th>Seats</th>\n",
       "    </tr>\n",
       "    <tr>\n",
       "      <th>Party</th>\n",
       "      <th></th>\n",
       "      <th></th>\n",
       "    </tr>\n",
       "  </thead>\n",
       "  <tbody>\n",
       "    <tr>\n",
       "      <th>C's</th>\n",
       "      <td>1102099</td>\n",
       "      <td>37</td>\n",
       "    </tr>\n",
       "    <tr>\n",
       "      <th>JUNTSxCAT</th>\n",
       "      <td>940602</td>\n",
       "      <td>34</td>\n",
       "    </tr>\n",
       "    <tr>\n",
       "      <th>ERC-CatSí</th>\n",
       "      <td>929407</td>\n",
       "      <td>32</td>\n",
       "    </tr>\n",
       "    <tr>\n",
       "      <th>PSC</th>\n",
       "      <td>602969</td>\n",
       "      <td>17</td>\n",
       "    </tr>\n",
       "    <tr>\n",
       "      <th>CatComú-Podem</th>\n",
       "      <td>323695</td>\n",
       "      <td>8</td>\n",
       "    </tr>\n",
       "    <tr>\n",
       "      <th>CUP</th>\n",
       "      <td>193352</td>\n",
       "      <td>4</td>\n",
       "    </tr>\n",
       "    <tr>\n",
       "      <th>PP</th>\n",
       "      <td>184108</td>\n",
       "      <td>3</td>\n",
       "    </tr>\n",
       "  </tbody>\n",
       "</table>\n",
       "</div>"
      ],
      "text/plain": [
       "                 Votes  Seats\n",
       "Party                        \n",
       "C's            1102099     37\n",
       "JUNTSxCAT       940602     34\n",
       "ERC-CatSí       929407     32\n",
       "PSC             602969     17\n",
       "CatComú-Podem   323695      8\n",
       "CUP             193352      4\n",
       "PP              184108      3"
      ]
     },
     "execution_count": 34,
     "metadata": {},
     "output_type": "execute_result"
    }
   ],
   "source": [
    "catalonia_now = {'Barcelona': 85, 'Girona': 17, 'Lleida': 15, 'Tarragona': 18}\n",
    "parliament = calculate_parliament_by_dhont(df, catalonia_now)\n",
    "parliament"
   ]
  },
  {
   "cell_type": "code",
   "execution_count": 35,
   "metadata": {
    "collapsed": false
   },
   "outputs": [
    {
     "name": "stdout",
     "output_type": "stream",
     "text": [
      "Índice de Rae:             1.533\n",
      "Índice de Loosemore-Hanby: 7.667\n",
      "Índice de Gallagher:       4.069\n",
      "Índice de Grofman:         2.847\n",
      "Índice de Lijphart:        3.536\n",
      "Índice de Saint-Lague:     4.011\n",
      "Índice de D'Hont:          1.163\n",
      "Índice de Cox-Shugart:     1.071\n",
      "#diputados (indepes):      70\n",
      "#diputados (no-indepes):   65\n",
      "#votos     (indepes):      2063361\n",
      "#votos     (no-indepes):   2212871\n"
     ]
    }
   ],
   "source": [
    "# Storing results into a dictionary to compare all of them at the end\n",
    "# key -> a 3-tuple:\n",
    "#  - 0-element (threshold_percentage):          0, 3 \n",
    "#  - 1-element (single_constituency):           True, False\n",
    "#  - 2-element (proportional_constituencies):   True, False\n",
    "results = {}\n",
    "\n",
    "# Measures of proportionality\n",
    "d = calculate_disproportionality_indexes(parliament, df_total_votes, include_catalan=True)\n",
    "results[(3, False, False)] = d"
   ]
  },
  {
   "cell_type": "markdown",
   "metadata": {},
   "source": [
    "### Reparto sin porcentaje mínimo de voto válido\n",
    "\n",
    "La supresión del porcentaje mínimo del voto válido emitido para entrar en el reparto de escaños no tiene ningún impacto en la formación del Parlament en estas elecciones."
   ]
  },
  {
   "cell_type": "code",
   "execution_count": 36,
   "metadata": {
    "collapsed": false
   },
   "outputs": [
    {
     "name": "stdout",
     "output_type": "stream",
     "text": [
      "Tarragona: {'PSC': 2, \"C's\": 6, 'ERC-CatS\\xc3\\xad': 5, 'JUNTSxCAT': 4, 'CatCom\\xc3\\xba-Podem': 1}\n",
      "Girona: {'PSC': 1, \"C's\": 4, 'ERC-CatS\\xc3\\xad': 4, 'JUNTSxCAT': 7, 'CUP': 1}\n",
      "Lleida: {'PSC': 1, \"C's\": 3, 'ERC-CatS\\xc3\\xad': 5, 'JUNTSxCAT': 6}\n",
      "Barcelona: {'PP': 3, 'CatCom\\xc3\\xba-Podem': 7, 'CUP': 3, 'PSC': 13, 'ERC-CatS\\xc3\\xad': 18, 'JUNTSxCAT': 17, \"C's\": 24}\n"
     ]
    },
    {
     "data": {
      "text/html": [
       "<div>\n",
       "<style>\n",
       "    .dataframe thead tr:only-child th {\n",
       "        text-align: right;\n",
       "    }\n",
       "\n",
       "    .dataframe thead th {\n",
       "        text-align: left;\n",
       "    }\n",
       "\n",
       "    .dataframe tbody tr th {\n",
       "        vertical-align: top;\n",
       "    }\n",
       "</style>\n",
       "<table border=\"1\" class=\"dataframe\">\n",
       "  <thead>\n",
       "    <tr style=\"text-align: right;\">\n",
       "      <th></th>\n",
       "      <th>Votes</th>\n",
       "      <th>Seats</th>\n",
       "    </tr>\n",
       "    <tr>\n",
       "      <th>Party</th>\n",
       "      <th></th>\n",
       "      <th></th>\n",
       "    </tr>\n",
       "  </thead>\n",
       "  <tbody>\n",
       "    <tr>\n",
       "      <th>C's</th>\n",
       "      <td>1102099</td>\n",
       "      <td>37</td>\n",
       "    </tr>\n",
       "    <tr>\n",
       "      <th>JUNTSxCAT</th>\n",
       "      <td>940602</td>\n",
       "      <td>34</td>\n",
       "    </tr>\n",
       "    <tr>\n",
       "      <th>ERC-CatSí</th>\n",
       "      <td>929407</td>\n",
       "      <td>32</td>\n",
       "    </tr>\n",
       "    <tr>\n",
       "      <th>PSC</th>\n",
       "      <td>602969</td>\n",
       "      <td>17</td>\n",
       "    </tr>\n",
       "    <tr>\n",
       "      <th>CatComú-Podem</th>\n",
       "      <td>323695</td>\n",
       "      <td>8</td>\n",
       "    </tr>\n",
       "    <tr>\n",
       "      <th>CUP</th>\n",
       "      <td>193352</td>\n",
       "      <td>4</td>\n",
       "    </tr>\n",
       "    <tr>\n",
       "      <th>PP</th>\n",
       "      <td>184108</td>\n",
       "      <td>3</td>\n",
       "    </tr>\n",
       "  </tbody>\n",
       "</table>\n",
       "</div>"
      ],
      "text/plain": [
       "                 Votes  Seats\n",
       "Party                        \n",
       "C's            1102099     37\n",
       "JUNTSxCAT       940602     34\n",
       "ERC-CatSí       929407     32\n",
       "PSC             602969     17\n",
       "CatComú-Podem   323695      8\n",
       "CUP             193352      4\n",
       "PP              184108      3"
      ]
     },
     "execution_count": 36,
     "metadata": {},
     "output_type": "execute_result"
    }
   ],
   "source": [
    "parliament = calculate_parliament_by_dhont(df, catalonia_now, 0)\n",
    "parliament"
   ]
  },
  {
   "cell_type": "code",
   "execution_count": 37,
   "metadata": {
    "collapsed": false
   },
   "outputs": [
    {
     "name": "stdout",
     "output_type": "stream",
     "text": [
      "Índice de Rae:             1.533\n",
      "Índice de Loosemore-Hanby: 7.667\n",
      "Índice de Gallagher:       4.069\n",
      "Índice de Grofman:         2.847\n",
      "Índice de Lijphart:        3.536\n",
      "Índice de Saint-Lague:     4.011\n",
      "Índice de D'Hont:          1.163\n",
      "Índice de Cox-Shugart:     1.071\n",
      "#diputados (indepes):      70\n",
      "#diputados (no-indepes):   65\n",
      "#votos     (indepes):      2063361\n",
      "#votos     (no-indepes):   2212871\n"
     ]
    }
   ],
   "source": [
    "# Measures of proportionality\n",
    "d = calculate_disproportionality_indexes(parliament, df_total_votes, include_catalan=True)\n",
    "results[(0, False, False)] = d"
   ]
  },
  {
   "cell_type": "markdown",
   "metadata": {},
   "source": [
    "### Reparto suponiendo una distribución proporcional de diputados por provincia"
   ]
  },
  {
   "cell_type": "code",
   "execution_count": 38,
   "metadata": {
    "collapsed": false
   },
   "outputs": [
    {
     "name": "stdout",
     "output_type": "stream",
     "text": [
      "Tarragona: {'PSC': 2, \"C's\": 5, 'ERC-CatS\\xc3\\xad': 4, 'JUNTSxCAT': 3}\n",
      "Girona: {'PSC': 1, \"C's\": 3, 'ERC-CatS\\xc3\\xad': 4, 'JUNTSxCAT': 6}\n",
      "Lleida: {'PSC': 1, \"C's\": 1, 'ERC-CatS\\xc3\\xad': 3, 'JUNTSxCAT': 3}\n",
      "Barcelona: {'PP': 4, 'CatCom\\xc3\\xba-Podem': 8, 'CUP': 4, 'PSC': 15, 'ERC-CatS\\xc3\\xad': 21, 'JUNTSxCAT': 20, \"C's\": 27}\n"
     ]
    },
    {
     "data": {
      "text/html": [
       "<div>\n",
       "<style>\n",
       "    .dataframe thead tr:only-child th {\n",
       "        text-align: right;\n",
       "    }\n",
       "\n",
       "    .dataframe thead th {\n",
       "        text-align: left;\n",
       "    }\n",
       "\n",
       "    .dataframe tbody tr th {\n",
       "        vertical-align: top;\n",
       "    }\n",
       "</style>\n",
       "<table border=\"1\" class=\"dataframe\">\n",
       "  <thead>\n",
       "    <tr style=\"text-align: right;\">\n",
       "      <th></th>\n",
       "      <th>Votes</th>\n",
       "      <th>Seats</th>\n",
       "    </tr>\n",
       "    <tr>\n",
       "      <th>Party</th>\n",
       "      <th></th>\n",
       "      <th></th>\n",
       "    </tr>\n",
       "  </thead>\n",
       "  <tbody>\n",
       "    <tr>\n",
       "      <th>C's</th>\n",
       "      <td>1102099</td>\n",
       "      <td>36</td>\n",
       "    </tr>\n",
       "    <tr>\n",
       "      <th>ERC-CatSí</th>\n",
       "      <td>929407</td>\n",
       "      <td>32</td>\n",
       "    </tr>\n",
       "    <tr>\n",
       "      <th>JUNTSxCAT</th>\n",
       "      <td>940602</td>\n",
       "      <td>32</td>\n",
       "    </tr>\n",
       "    <tr>\n",
       "      <th>PSC</th>\n",
       "      <td>602969</td>\n",
       "      <td>19</td>\n",
       "    </tr>\n",
       "    <tr>\n",
       "      <th>CatComú-Podem</th>\n",
       "      <td>323695</td>\n",
       "      <td>8</td>\n",
       "    </tr>\n",
       "    <tr>\n",
       "      <th>CUP</th>\n",
       "      <td>193352</td>\n",
       "      <td>4</td>\n",
       "    </tr>\n",
       "    <tr>\n",
       "      <th>PP</th>\n",
       "      <td>184108</td>\n",
       "      <td>4</td>\n",
       "    </tr>\n",
       "  </tbody>\n",
       "</table>\n",
       "</div>"
      ],
      "text/plain": [
       "                 Votes  Seats\n",
       "Party                        \n",
       "C's            1102099     36\n",
       "ERC-CatSí       929407     32\n",
       "JUNTSxCAT       940602     32\n",
       "PSC             602969     19\n",
       "CatComú-Podem   323695      8\n",
       "CUP             193352      4\n",
       "PP              184108      4"
      ]
     },
     "execution_count": 38,
     "metadata": {},
     "output_type": "execute_result"
    }
   ],
   "source": [
    "catalonia_135_pr = {'Barcelona': 99, 'Girona': 14, 'Lleida': 8, 'Tarragona': 14}\n",
    "parliament = calculate_parliament_by_dhont(df, catalonia_135_pr)\n",
    "parliament"
   ]
  },
  {
   "cell_type": "code",
   "execution_count": 39,
   "metadata": {
    "collapsed": false
   },
   "outputs": [
    {
     "name": "stdout",
     "output_type": "stream",
     "text": [
      "Índice de Rae:             1.128\n",
      "Índice de Loosemore-Hanby: 5.641\n",
      "Índice de Gallagher:       3.025\n",
      "Índice de Grofman:         2.095\n",
      "Índice de Lijphart:        2.313\n",
      "Índice de Saint-Lague:     2.839\n",
      "Índice de D'Hont:          1.108\n",
      "Índice de Cox-Shugart:     1.057\n",
      "#diputados (indepes):      68\n",
      "#diputados (no-indepes):   67\n",
      "#votos     (indepes):      2063361\n",
      "#votos     (no-indepes):   2212871\n"
     ]
    }
   ],
   "source": [
    "# Measures of proportionality\n",
    "d = calculate_disproportionality_indexes(parliament, df_total_votes, include_catalan=True)\n",
    "results[(3, False, True)] = d"
   ]
  },
  {
   "cell_type": "markdown",
   "metadata": {},
   "source": [
    "### Reparto suponiendo una distribución proporcional de diputados por provincia y sin porcentaje mínimo de voto válido"
   ]
  },
  {
   "cell_type": "code",
   "execution_count": 40,
   "metadata": {
    "collapsed": false
   },
   "outputs": [
    {
     "name": "stdout",
     "output_type": "stream",
     "text": [
      "Tarragona: {'PSC': 2, \"C's\": 5, 'ERC-CatS\\xc3\\xad': 4, 'JUNTSxCAT': 3}\n",
      "Girona: {'PSC': 1, \"C's\": 3, 'ERC-CatS\\xc3\\xad': 4, 'JUNTSxCAT': 6}\n",
      "Lleida: {'PSC': 1, \"C's\": 1, 'ERC-CatS\\xc3\\xad': 3, 'JUNTSxCAT': 3}\n",
      "Barcelona: {'PP': 4, 'CatCom\\xc3\\xba-Podem': 8, 'CUP': 4, 'PSC': 15, 'PACMA': 1, 'ERC-CatS\\xc3\\xad': 21, 'JUNTSxCAT': 19, \"C's\": 27}\n"
     ]
    },
    {
     "data": {
      "text/html": [
       "<div>\n",
       "<style>\n",
       "    .dataframe thead tr:only-child th {\n",
       "        text-align: right;\n",
       "    }\n",
       "\n",
       "    .dataframe thead th {\n",
       "        text-align: left;\n",
       "    }\n",
       "\n",
       "    .dataframe tbody tr th {\n",
       "        vertical-align: top;\n",
       "    }\n",
       "</style>\n",
       "<table border=\"1\" class=\"dataframe\">\n",
       "  <thead>\n",
       "    <tr style=\"text-align: right;\">\n",
       "      <th></th>\n",
       "      <th>Votes</th>\n",
       "      <th>Seats</th>\n",
       "    </tr>\n",
       "    <tr>\n",
       "      <th>Party</th>\n",
       "      <th></th>\n",
       "      <th></th>\n",
       "    </tr>\n",
       "  </thead>\n",
       "  <tbody>\n",
       "    <tr>\n",
       "      <th>C's</th>\n",
       "      <td>1102099</td>\n",
       "      <td>36</td>\n",
       "    </tr>\n",
       "    <tr>\n",
       "      <th>ERC-CatSí</th>\n",
       "      <td>929407</td>\n",
       "      <td>32</td>\n",
       "    </tr>\n",
       "    <tr>\n",
       "      <th>JUNTSxCAT</th>\n",
       "      <td>940602</td>\n",
       "      <td>31</td>\n",
       "    </tr>\n",
       "    <tr>\n",
       "      <th>PSC</th>\n",
       "      <td>602969</td>\n",
       "      <td>19</td>\n",
       "    </tr>\n",
       "    <tr>\n",
       "      <th>CatComú-Podem</th>\n",
       "      <td>323695</td>\n",
       "      <td>8</td>\n",
       "    </tr>\n",
       "    <tr>\n",
       "      <th>CUP</th>\n",
       "      <td>193352</td>\n",
       "      <td>4</td>\n",
       "    </tr>\n",
       "    <tr>\n",
       "      <th>PP</th>\n",
       "      <td>184108</td>\n",
       "      <td>4</td>\n",
       "    </tr>\n",
       "    <tr>\n",
       "      <th>PACMA</th>\n",
       "      <td>38520</td>\n",
       "      <td>1</td>\n",
       "    </tr>\n",
       "  </tbody>\n",
       "</table>\n",
       "</div>"
      ],
      "text/plain": [
       "                 Votes  Seats\n",
       "Party                        \n",
       "C's            1102099     36\n",
       "ERC-CatSí       929407     32\n",
       "JUNTSxCAT       940602     31\n",
       "PSC             602969     19\n",
       "CatComú-Podem   323695      8\n",
       "CUP             193352      4\n",
       "PP              184108      4\n",
       "PACMA            38520      1"
      ]
     },
     "execution_count": 40,
     "metadata": {},
     "output_type": "execute_result"
    }
   ],
   "source": [
    "parliament = calculate_parliament_by_dhont(df, catalonia_135_pr, 0)\n",
    "parliament"
   ]
  },
  {
   "cell_type": "code",
   "execution_count": 41,
   "metadata": {
    "collapsed": false
   },
   "outputs": [
    {
     "name": "stdout",
     "output_type": "stream",
     "text": [
      "Índice de Rae:             0.980\n",
      "Índice de Loosemore-Hanby: 4.901\n",
      "Índice de Gallagher:       2.742\n",
      "Índice de Grofman:         1.820\n",
      "Índice de Lijphart:        2.313\n",
      "Índice de Saint-Lague:     1.861\n",
      "Índice de D'Hont:          1.108\n",
      "Índice de Cox-Shugart:     1.049\n",
      "#diputados (indepes):      67\n",
      "#diputados (no-indepes):   68\n",
      "#votos     (indepes):      2063361\n",
      "#votos     (no-indepes):   2251391\n"
     ]
    }
   ],
   "source": [
    "# Measures of proportionality\n",
    "d = calculate_disproportionality_indexes(parliament, df_total_votes, include_catalan=True)\n",
    "results[(0, False, True)] = d"
   ]
  },
  {
   "cell_type": "markdown",
   "metadata": {},
   "source": [
    "### Reparto según una circunscripción única"
   ]
  },
  {
   "cell_type": "code",
   "execution_count": 42,
   "metadata": {
    "collapsed": false
   },
   "outputs": [
    {
     "data": {
      "text/html": [
       "<div>\n",
       "<style>\n",
       "    .dataframe thead tr:only-child th {\n",
       "        text-align: right;\n",
       "    }\n",
       "\n",
       "    .dataframe thead th {\n",
       "        text-align: left;\n",
       "    }\n",
       "\n",
       "    .dataframe tbody tr th {\n",
       "        vertical-align: top;\n",
       "    }\n",
       "</style>\n",
       "<table border=\"1\" class=\"dataframe\">\n",
       "  <thead>\n",
       "    <tr style=\"text-align: right;\">\n",
       "      <th></th>\n",
       "      <th>Votes</th>\n",
       "      <th>Seats</th>\n",
       "    </tr>\n",
       "    <tr>\n",
       "      <th>Option</th>\n",
       "      <th></th>\n",
       "      <th></th>\n",
       "    </tr>\n",
       "  </thead>\n",
       "  <tbody>\n",
       "    <tr>\n",
       "      <th>C's</th>\n",
       "      <td>1102099</td>\n",
       "      <td>35</td>\n",
       "    </tr>\n",
       "    <tr>\n",
       "      <th>ERC-CatSí</th>\n",
       "      <td>929407</td>\n",
       "      <td>30</td>\n",
       "    </tr>\n",
       "    <tr>\n",
       "      <th>JUNTSxCAT</th>\n",
       "      <td>940602</td>\n",
       "      <td>30</td>\n",
       "    </tr>\n",
       "    <tr>\n",
       "      <th>PSC</th>\n",
       "      <td>602969</td>\n",
       "      <td>19</td>\n",
       "    </tr>\n",
       "    <tr>\n",
       "      <th>CatComú-Podem</th>\n",
       "      <td>323695</td>\n",
       "      <td>10</td>\n",
       "    </tr>\n",
       "    <tr>\n",
       "      <th>CUP</th>\n",
       "      <td>193352</td>\n",
       "      <td>6</td>\n",
       "    </tr>\n",
       "    <tr>\n",
       "      <th>PP</th>\n",
       "      <td>184108</td>\n",
       "      <td>5</td>\n",
       "    </tr>\n",
       "  </tbody>\n",
       "</table>\n",
       "</div>"
      ],
      "text/plain": [
       "                 Votes  Seats\n",
       "Option                       \n",
       "C's            1102099     35\n",
       "ERC-CatSí       929407     30\n",
       "JUNTSxCAT       940602     30\n",
       "PSC             602969     19\n",
       "CatComú-Podem   323695     10\n",
       "CUP             193352      6\n",
       "PP              184108      5"
      ]
     },
     "execution_count": 42,
     "metadata": {},
     "output_type": "execute_result"
    }
   ],
   "source": [
    "# 3% threshold\n",
    "catalonia_df = df.groupby([OPTION]).sum().reset_index()\n",
    "parliament = assign_constituency_representatives_by_dhont(catalonia_df, 135)\n",
    "parliament"
   ]
  },
  {
   "cell_type": "code",
   "execution_count": 43,
   "metadata": {
    "collapsed": false
   },
   "outputs": [
    {
     "name": "stdout",
     "output_type": "stream",
     "text": [
      "Índice de Rae:             0.388\n",
      "Índice de Loosemore-Hanby: 1.938\n",
      "Índice de Gallagher:       1.118\n",
      "Índice de Grofman:         0.719\n",
      "Índice de Lijphart:        0.887\n",
      "Índice de Saint-Lague:     1.263\n",
      "Índice de D'Hont:          1.039\n",
      "Índice de Cox-Shugart:     1.024\n",
      "#diputados (indepes):      66\n",
      "#diputados (no-indepes):   69\n",
      "#votos     (indepes):      2063361\n",
      "#votos     (no-indepes):   2212871\n"
     ]
    }
   ],
   "source": [
    "# Measures of proportionality\n",
    "d = calculate_disproportionality_indexes(parliament, df_total_votes, include_catalan=True)\n",
    "results[(3, True, True)] = d"
   ]
  },
  {
   "cell_type": "markdown",
   "metadata": {},
   "source": [
    "### Reparto según una circunscripción única y sin porcentaje mínimo de voto válido"
   ]
  },
  {
   "cell_type": "code",
   "execution_count": 44,
   "metadata": {
    "collapsed": false
   },
   "outputs": [
    {
     "data": {
      "text/html": [
       "<div>\n",
       "<style>\n",
       "    .dataframe thead tr:only-child th {\n",
       "        text-align: right;\n",
       "    }\n",
       "\n",
       "    .dataframe thead th {\n",
       "        text-align: left;\n",
       "    }\n",
       "\n",
       "    .dataframe tbody tr th {\n",
       "        vertical-align: top;\n",
       "    }\n",
       "</style>\n",
       "<table border=\"1\" class=\"dataframe\">\n",
       "  <thead>\n",
       "    <tr style=\"text-align: right;\">\n",
       "      <th></th>\n",
       "      <th>Votes</th>\n",
       "      <th>Seats</th>\n",
       "    </tr>\n",
       "    <tr>\n",
       "      <th>Option</th>\n",
       "      <th></th>\n",
       "      <th></th>\n",
       "    </tr>\n",
       "  </thead>\n",
       "  <tbody>\n",
       "    <tr>\n",
       "      <th>C's</th>\n",
       "      <td>1102099</td>\n",
       "      <td>35</td>\n",
       "    </tr>\n",
       "    <tr>\n",
       "      <th>JUNTSxCAT</th>\n",
       "      <td>940602</td>\n",
       "      <td>30</td>\n",
       "    </tr>\n",
       "    <tr>\n",
       "      <th>ERC-CatSí</th>\n",
       "      <td>929407</td>\n",
       "      <td>29</td>\n",
       "    </tr>\n",
       "    <tr>\n",
       "      <th>PSC</th>\n",
       "      <td>602969</td>\n",
       "      <td>19</td>\n",
       "    </tr>\n",
       "    <tr>\n",
       "      <th>CatComú-Podem</th>\n",
       "      <td>323695</td>\n",
       "      <td>10</td>\n",
       "    </tr>\n",
       "    <tr>\n",
       "      <th>CUP</th>\n",
       "      <td>193352</td>\n",
       "      <td>6</td>\n",
       "    </tr>\n",
       "    <tr>\n",
       "      <th>PP</th>\n",
       "      <td>184108</td>\n",
       "      <td>5</td>\n",
       "    </tr>\n",
       "    <tr>\n",
       "      <th>PACMA</th>\n",
       "      <td>38520</td>\n",
       "      <td>1</td>\n",
       "    </tr>\n",
       "  </tbody>\n",
       "</table>\n",
       "</div>"
      ],
      "text/plain": [
       "                 Votes  Seats\n",
       "Option                       \n",
       "C's            1102099     35\n",
       "JUNTSxCAT       940602     30\n",
       "ERC-CatSí       929407     29\n",
       "PSC             602969     19\n",
       "CatComú-Podem   323695     10\n",
       "CUP             193352      6\n",
       "PP              184108      5\n",
       "PACMA            38520      1"
      ]
     },
     "execution_count": 44,
     "metadata": {},
     "output_type": "execute_result"
    }
   ],
   "source": [
    "# No threshold\n",
    "parliament = assign_constituency_representatives_by_dhont(catalonia_df, 135, 0)\n",
    "parliament"
   ]
  },
  {
   "cell_type": "code",
   "execution_count": 45,
   "metadata": {
    "collapsed": false
   },
   "outputs": [
    {
     "name": "stdout",
     "output_type": "stream",
     "text": [
      "Índice de Rae:             0.239\n",
      "Índice de Loosemore-Hanby: 1.197\n",
      "Índice de Gallagher:       0.725\n",
      "Índice de Grofman:         0.444\n",
      "Índice de Lijphart:        0.573\n",
      "Índice de Saint-Lague:     0.368\n",
      "Índice de D'Hont:          1.026\n",
      "Índice de Cox-Shugart:     1.015\n",
      "#diputados (indepes):      65\n",
      "#diputados (no-indepes):   70\n",
      "#votos     (indepes):      2063361\n",
      "#votos     (no-indepes):   2251391\n"
     ]
    }
   ],
   "source": [
    "# Measures of proportionality\n",
    "d = calculate_disproportionality_indexes(parliament, df_total_votes, include_catalan=True)\n",
    "results[(0, True, True)] = d"
   ]
  },
  {
   "cell_type": "markdown",
   "metadata": {},
   "source": [
    "### Reparto según la legislación vigente si JxC y ERC hubiesen presentado una candidatura conjunta\n",
    "\n",
    "Si, como se suele decir, la ley D'Hont favorece al partido mayoritario, entonces una candidatura conjunta de las dos principales fuerzas independentistas debería salir claramente beneficiada en el reparto de escaños. Los datos no parecen respaldar el tópico. La distribución de escaños hubiese sido exactamente igual a la que finalmente se produjo."
   ]
  },
  {
   "cell_type": "code",
   "execution_count": 46,
   "metadata": {
    "collapsed": false
   },
   "outputs": [
    {
     "name": "stdout",
     "output_type": "stream",
     "text": [
      "Tarragona: {'PSC': 2, \"C's\": 6, 'CatCom\\xc3\\xba-Podem': 1, 'Govern': 9}\n",
      "Girona: {'PSC': 1, \"C's\": 4, 'CUP': 1, 'Govern': 11}\n",
      "Lleida: {'PSC': 1, \"C's\": 3, 'Govern': 11}\n",
      "Barcelona: {'PP': 3, 'CatCom\\xc3\\xba-Podem': 7, 'CUP': 3, 'PSC': 13, 'Govern': 35, \"C's\": 24}\n"
     ]
    },
    {
     "data": {
      "text/html": [
       "<div>\n",
       "<style>\n",
       "    .dataframe thead tr:only-child th {\n",
       "        text-align: right;\n",
       "    }\n",
       "\n",
       "    .dataframe thead th {\n",
       "        text-align: left;\n",
       "    }\n",
       "\n",
       "    .dataframe tbody tr th {\n",
       "        vertical-align: top;\n",
       "    }\n",
       "</style>\n",
       "<table border=\"1\" class=\"dataframe\">\n",
       "  <thead>\n",
       "    <tr style=\"text-align: right;\">\n",
       "      <th></th>\n",
       "      <th>Votes</th>\n",
       "      <th>Seats</th>\n",
       "    </tr>\n",
       "    <tr>\n",
       "      <th>Party</th>\n",
       "      <th></th>\n",
       "      <th></th>\n",
       "    </tr>\n",
       "  </thead>\n",
       "  <tbody>\n",
       "    <tr>\n",
       "      <th>Govern</th>\n",
       "      <td>1870009</td>\n",
       "      <td>66</td>\n",
       "    </tr>\n",
       "    <tr>\n",
       "      <th>C's</th>\n",
       "      <td>1102099</td>\n",
       "      <td>37</td>\n",
       "    </tr>\n",
       "    <tr>\n",
       "      <th>PSC</th>\n",
       "      <td>602969</td>\n",
       "      <td>17</td>\n",
       "    </tr>\n",
       "    <tr>\n",
       "      <th>CatComú-Podem</th>\n",
       "      <td>323695</td>\n",
       "      <td>8</td>\n",
       "    </tr>\n",
       "    <tr>\n",
       "      <th>CUP</th>\n",
       "      <td>193352</td>\n",
       "      <td>4</td>\n",
       "    </tr>\n",
       "    <tr>\n",
       "      <th>PP</th>\n",
       "      <td>184108</td>\n",
       "      <td>3</td>\n",
       "    </tr>\n",
       "  </tbody>\n",
       "</table>\n",
       "</div>"
      ],
      "text/plain": [
       "                 Votes  Seats\n",
       "Party                        \n",
       "Govern         1870009     66\n",
       "C's            1102099     37\n",
       "PSC             602969     17\n",
       "CatComú-Podem   323695      8\n",
       "CUP             193352      4\n",
       "PP              184108      3"
      ]
     },
     "execution_count": 46,
     "metadata": {},
     "output_type": "execute_result"
    }
   ],
   "source": [
    "# ERC + JxC = Govern\n",
    "govern_df = join_govern_parties(df)\n",
    "df_total_votes = govern_df.groupby([OPTION]).sum()\n",
    "parliament = calculate_parliament_by_dhont(govern_df, catalonia_now)\n",
    "parliament"
   ]
  },
  {
   "cell_type": "code",
   "execution_count": 47,
   "metadata": {
    "collapsed": false
   },
   "outputs": [
    {
     "name": "stdout",
     "output_type": "stream",
     "text": [
      "#diputados (indepes):      70\n",
      "#diputados (no-indepes):   65\n",
      "#votos     (indepes):      2063361\n",
      "#votos     (no-indepes):   2212871\n"
     ]
    }
   ],
   "source": [
    "d = calculate_disproportionality_indexes(parliament, df_total_votes, verbose=False, include_catalan=True)\n",
    "print(\"#diputados (indepes):      %d\" % d['indep_s'])\n",
    "print(\"#diputados (no-indepes):   %d\" % d['no_indep_s'])\n",
    "print(\"#votos     (indepes):      %d\" % d['indep_v'])\n",
    "print(\"#votos     (no-indepes):   %d\" % d['no_indep_v'])"
   ]
  },
  {
   "cell_type": "markdown",
   "metadata": {},
   "source": [
    "### Comparativa de indicadores de desproporcionalidad\n",
    "\n",
    "Como era previsible, el escenario que obtiene el valor óptimo de todos los indicadores de desproporcionalidad es aquel que utiliza una circunscripción única y suprime el porcentaje mínimo de voto válido para entrar en el reparto de escaños."
   ]
  },
  {
   "cell_type": "code",
   "execution_count": 48,
   "metadata": {
    "collapsed": false
   },
   "outputs": [
    {
     "data": {
      "text/html": [
       "<div>\n",
       "<style>\n",
       "    .dataframe thead tr:only-child th {\n",
       "        text-align: right;\n",
       "    }\n",
       "\n",
       "    .dataframe thead th {\n",
       "        text-align: left;\n",
       "    }\n",
       "\n",
       "    .dataframe tbody tr th {\n",
       "        vertical-align: top;\n",
       "    }\n",
       "</style>\n",
       "<table border=\"1\" class=\"dataframe\">\n",
       "  <thead>\n",
       "    <tr style=\"text-align: right;\">\n",
       "      <th></th>\n",
       "      <th></th>\n",
       "      <th></th>\n",
       "      <th>indep_s</th>\n",
       "      <th>no_indep_s</th>\n",
       "      <th>indep_v</th>\n",
       "      <th>no_indep_v</th>\n",
       "      <th>rae</th>\n",
       "      <th>loosemore_hanby</th>\n",
       "      <th>gallagher</th>\n",
       "      <th>grofman</th>\n",
       "      <th>lijphart</th>\n",
       "      <th>saint_lague</th>\n",
       "      <th>dhont</th>\n",
       "      <th>cox_shugart</th>\n",
       "    </tr>\n",
       "    <tr>\n",
       "      <th>p_t</th>\n",
       "      <th>s_c</th>\n",
       "      <th>pr</th>\n",
       "      <th></th>\n",
       "      <th></th>\n",
       "      <th></th>\n",
       "      <th></th>\n",
       "      <th></th>\n",
       "      <th></th>\n",
       "      <th></th>\n",
       "      <th></th>\n",
       "      <th></th>\n",
       "      <th></th>\n",
       "      <th></th>\n",
       "      <th></th>\n",
       "    </tr>\n",
       "  </thead>\n",
       "  <tbody>\n",
       "    <tr>\n",
       "      <th rowspan=\"3\" valign=\"top\">0</th>\n",
       "      <th rowspan=\"2\" valign=\"top\">False</th>\n",
       "      <th>False</th>\n",
       "      <td>70</td>\n",
       "      <td>65</td>\n",
       "      <td>2063361</td>\n",
       "      <td>2212871</td>\n",
       "      <td>1.533</td>\n",
       "      <td>7.667</td>\n",
       "      <td>4.069</td>\n",
       "      <td>2.847</td>\n",
       "      <td>3.536</td>\n",
       "      <td>4.011</td>\n",
       "      <td>1.163</td>\n",
       "      <td>1.071</td>\n",
       "    </tr>\n",
       "    <tr>\n",
       "      <th>True</th>\n",
       "      <td>67</td>\n",
       "      <td>68</td>\n",
       "      <td>2063361</td>\n",
       "      <td>2251391</td>\n",
       "      <td>0.980</td>\n",
       "      <td>4.901</td>\n",
       "      <td>2.742</td>\n",
       "      <td>1.820</td>\n",
       "      <td>2.313</td>\n",
       "      <td>1.861</td>\n",
       "      <td>1.108</td>\n",
       "      <td>1.049</td>\n",
       "    </tr>\n",
       "    <tr>\n",
       "      <th>True</th>\n",
       "      <th>True</th>\n",
       "      <td>65</td>\n",
       "      <td>70</td>\n",
       "      <td>2063361</td>\n",
       "      <td>2251391</td>\n",
       "      <td>0.239</td>\n",
       "      <td>1.197</td>\n",
       "      <td>0.725</td>\n",
       "      <td>0.444</td>\n",
       "      <td>0.573</td>\n",
       "      <td>0.368</td>\n",
       "      <td>1.026</td>\n",
       "      <td>1.015</td>\n",
       "    </tr>\n",
       "    <tr>\n",
       "      <th rowspan=\"3\" valign=\"top\">3</th>\n",
       "      <th rowspan=\"2\" valign=\"top\">False</th>\n",
       "      <th>False</th>\n",
       "      <td>70</td>\n",
       "      <td>65</td>\n",
       "      <td>2063361</td>\n",
       "      <td>2212871</td>\n",
       "      <td>1.533</td>\n",
       "      <td>7.667</td>\n",
       "      <td>4.069</td>\n",
       "      <td>2.847</td>\n",
       "      <td>3.536</td>\n",
       "      <td>4.011</td>\n",
       "      <td>1.163</td>\n",
       "      <td>1.071</td>\n",
       "    </tr>\n",
       "    <tr>\n",
       "      <th>True</th>\n",
       "      <td>68</td>\n",
       "      <td>67</td>\n",
       "      <td>2063361</td>\n",
       "      <td>2212871</td>\n",
       "      <td>1.128</td>\n",
       "      <td>5.641</td>\n",
       "      <td>3.025</td>\n",
       "      <td>2.095</td>\n",
       "      <td>2.313</td>\n",
       "      <td>2.839</td>\n",
       "      <td>1.108</td>\n",
       "      <td>1.057</td>\n",
       "    </tr>\n",
       "    <tr>\n",
       "      <th>True</th>\n",
       "      <th>True</th>\n",
       "      <td>66</td>\n",
       "      <td>69</td>\n",
       "      <td>2063361</td>\n",
       "      <td>2212871</td>\n",
       "      <td>0.388</td>\n",
       "      <td>1.938</td>\n",
       "      <td>1.118</td>\n",
       "      <td>0.719</td>\n",
       "      <td>0.887</td>\n",
       "      <td>1.263</td>\n",
       "      <td>1.039</td>\n",
       "      <td>1.024</td>\n",
       "    </tr>\n",
       "  </tbody>\n",
       "</table>\n",
       "</div>"
      ],
      "text/plain": [
       "                 indep_s  no_indep_s  indep_v  no_indep_v    rae  \\\n",
       "p_t s_c   pr                                                       \n",
       "0   False False       70          65  2063361     2212871  1.533   \n",
       "          True        67          68  2063361     2251391  0.980   \n",
       "    True  True        65          70  2063361     2251391  0.239   \n",
       "3   False False       70          65  2063361     2212871  1.533   \n",
       "          True        68          67  2063361     2212871  1.128   \n",
       "    True  True        66          69  2063361     2212871  0.388   \n",
       "\n",
       "                 loosemore_hanby  gallagher  grofman  lijphart  saint_lague  \\\n",
       "p_t s_c   pr                                                                  \n",
       "0   False False            7.667      4.069    2.847     3.536        4.011   \n",
       "          True             4.901      2.742    1.820     2.313        1.861   \n",
       "    True  True             1.197      0.725    0.444     0.573        0.368   \n",
       "3   False False            7.667      4.069    2.847     3.536        4.011   \n",
       "          True             5.641      3.025    2.095     2.313        2.839   \n",
       "    True  True             1.938      1.118    0.719     0.887        1.263   \n",
       "\n",
       "                 dhont  cox_shugart  \n",
       "p_t s_c   pr                         \n",
       "0   False False  1.163        1.071  \n",
       "          True   1.108        1.049  \n",
       "    True  True   1.026        1.015  \n",
       "3   False False  1.163        1.071  \n",
       "          True   1.108        1.057  \n",
       "    True  True   1.039        1.024  "
      ]
     },
     "execution_count": 48,
     "metadata": {},
     "output_type": "execute_result"
    }
   ],
   "source": [
    "# p_t (threshold percentage):         porcentaje minimo de votos en circunscripcion para repartir diputados. \n",
    "#                                     Valores: 0%, 3%\n",
    "# s_c (single constituency):          circunscripcion unica. Valores: True (Si), False (No)\n",
    "# pr  (proportial constituencies):    reparto proporcional de diputados por circunscripcion. \n",
    "#                                     Valores: True (Si), False (No)\n",
    "# indep_s (proindependence seats):    numero de diputados asignados al bloque independentista\n",
    "# no_indep_s (no independence seats): numero de diputados asignados al bloque no-independentista\n",
    "# indep_v (proindependence votes):    numero de votos recibidos por el bloque independentista\n",
    "# no_indep_v (no independence votes): numero de votos recibidos por el bloque no-independentista\n",
    "result_df = pd.DataFrame.from_dict(results, orient='index')\n",
    "result_df.index.names = ['p_t','s_c','pr']\n",
    "result_df[['indep_s', 'no_indep_s', 'indep_v', 'no_indep_v', \n",
    "           'rae', 'loosemore_hanby', 'gallagher', 'grofman', \n",
    "           'lijphart', 'saint_lague', 'dhont', 'cox_shugart']].round(3)"
   ]
  },
  {
   "cell_type": "markdown",
   "metadata": {},
   "source": [
    "## Referencias\n",
    "\n",
    "* [Datos de las elecciones al Parlament de Catalunya 2015](http://www.gencat.cat/governacio/resultatsparlament2015/resu/09AU/DAU09999CM_L1.htm) (accedido 15-dic-2017)\n",
    "* [Datos de las elecciones al Parlament de Catalunya 2017](https://resultats.parlament2017.cat/09AU/DAU09999CM.htm?lang=es) (accedido el 2-ene-2018. Escrutado el 99.89% de los votos. No parece incluir los datos que asignan un escaño adicional al PP)\n",
    "* [Estatuto de Autonomía de Cataluña](https://www.parlament.cat/document/cataleg/48146.pdf)\n",
    "* [Ejemplo de convocatoria electoral al Parlament de Catalunya](https://www.boe.es/buscar/doc.php?id=BOE-A-2017-12330)\n",
    "* [Ley Orgánica 5/1985, de 19 de Junio, del régimen electoral general (LOREG)](http://www.juntaelectoralcentral.es/cs/jec/loreg)\n",
    "* [Población en España por provincias entre 1970 y 1981](http://www.ine.es/daco/daco42/demogra/evo70-80.xls)\n",
    "* [Población en España en 2016 según padrón](http://www.ine.es/dynt3/inebase/index.htm?padre=517)\n",
    "* Lijphart, Arend (1990). [The Political Consequencees of Electoral Laws 1945-85](https://www.jstor.org/stable/1963530) en _The American Political Science Review_, Volume 84, Issue 2, 481-496.\n",
    "* Andrew Gelman, Nate Silver, and Aaron Edlin (2012). [What is the Probability that Your Vote Will Make a Difference?](http://www.stat.columbia.edu/~gelman/research/published/probdecisive2.pdf) _Economic Inquiry_, 50, 321-26.\n",
    "* Lijphart, Arend (2012). _Patterns of Democracy: Government Forms and Performance in Thirty-six Countries_. Yale University Press.\n",
    "* [Caso Reynolds v. Sims](https://supreme.justia.com/cases/federal/us/377/533/), 377 U.S. 533 (1964)"
   ]
  }
 ],
 "metadata": {
  "anaconda-cloud": {},
  "kernelspec": {
   "display_name": "Python [default]",
   "language": "python",
   "name": "python2"
  },
  "language_info": {
   "codemirror_mode": {
    "name": "ipython",
    "version": 2
   },
   "file_extension": ".py",
   "mimetype": "text/x-python",
   "name": "python",
   "nbconvert_exporter": "python",
   "pygments_lexer": "ipython2",
   "version": "2.7.12"
  }
 },
 "nbformat": 4,
 "nbformat_minor": 1
}
