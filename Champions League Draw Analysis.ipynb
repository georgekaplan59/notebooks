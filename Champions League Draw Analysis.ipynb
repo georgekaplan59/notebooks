{
 "cells": [
  {
   "cell_type": "markdown",
   "metadata": {},
   "source": [
    "# Round of 16 draw for 2017-2018 season\n",
    "\n",
    "Nyon - 11 December 2017, 12:00 CET\n",
    "\n",
    "Draw procedure:\n",
    "\n",
    "* Two seeding pots will be formed: one consisting of group winners and the other of runners-up.\n",
    "* No team can play a club from their group or any side from their own association.\n",
    "* Seeded group winners will be away in the round of 16 first legs and at home in the return matches.\n",
    "\n",
    "|         **POT Winners**        |      **POT Runners-up**       |\n",
    "| :----------------------------: | :---------------------------: |\n",
    "| Manchester United (A, England) | Basel (A, Switzerland)        |\n",
    "| PSG (B, France)                | Bayer Munchen (B, Germany)    |\n",
    "| Roma (C, Italy)                | Chelsea (C, England)          |\n",
    "| Barcelona (D, Spain)           | Juventus (D, Italy)           |\n",
    "| Liverpool (E, England)         | Sevilla (E, Spain)            |\n",
    "| Manchester City (F, England)   | Shakhtar Donetsk (F, Ukraine) |\n",
    "| Besiktas (G, Turkey)           | Porto (G, Portugal)           |\n",
    "| Tottenham (H, England)         | Real Madrid (H, Spain)        |\n",
    "\n",
    "Technical explanations for 2016-2017 round of 16 draw by Michael Heselschwerdt (UEFA Head of Club Competitions):\n",
    "\n",
    "> _The draw for the round of 16 of the 2016-17 UEFA Champions League involves all the clubs that qualified from the group stage. This round will be played according to the knockout system... The draw will take place in accordance with the following conditions: group winners will be drawn against the runners-up; clubs from the same association cannot be drawn against each other; group winners must be drawn against runners-up from different group; the runners-up play the first leg at home. Each of the eight pairings will be determined by drawing one of the runners-up first then one of the eligible group winners the eight-balls containing the names of the runners-up are placed in one ball while the balls containing the names of the opponents are picked from the eight different group winner spots and placed into another ball. the computer will indicate after drawing each runner-up which group winners can be drawn in accordance with the conditions explained should we have only one team eligible to be drawn against a particular runner-up there will be no draw and the two teams will be paired. This procedure is repeated for all the eight pairings._\n",
    "\n",
    "Sources:\n",
    "\n",
    "* [UEFA Champions League round of 16 draw](https://www.uefa.com/uefachampionsleague/season=2018/draws/round=2000882/index.html#/)\n",
    "* [UEFA Champions League 2016-2017 round of 16 draw](https://www.youtube.com/watch?v=KhNapmFjM10)"
   ]
  },
  {
   "cell_type": "markdown",
   "metadata": {},
   "source": [
    "## Imports, classes, constants, and functions"
   ]
  },
  {
   "cell_type": "code",
   "execution_count": 1,
   "metadata": {
    "collapsed": true
   },
   "outputs": [],
   "source": [
    "import itertools\n",
    "import numpy as np\n",
    "import networkx as nx\n",
    "from IPython.display import display_html"
   ]
  },
  {
   "cell_type": "code",
   "execution_count": 2,
   "metadata": {
    "collapsed": true
   },
   "outputs": [],
   "source": [
    "class Team:\n",
    "    \"\"\"\n",
    "    Team representation storing club information regarding:\n",
    "        - short name\n",
    "        - association/country to which the club belongs\n",
    "        - group in the previous stage of the Champions League\n",
    "    \"\"\"\n",
    "    def __init__(self, name, country, group):  # Constructor\n",
    "        self.name = name\n",
    "        self.country = country\n",
    "        self.group = group\n",
    "\n",
    "    def __repr__(self):  # String representation of instances\n",
    "        return '{} ({}, {})'.format(self.name, self.group, self.country)\n",
    "\n",
    "    def __hash__(self):  # Required for list.index working\n",
    "        return hash((self.name, self.country, self.group))\n",
    "\n",
    "    def __eq__(self, other):  # Required for list.index working\n",
    "        try:\n",
    "            return (self.name, self.country, self.group) == (other.name, other.country, other.group)\n",
    "        except AttributeError:\n",
    "            return NotImplemented"
   ]
  },
  {
   "cell_type": "code",
   "execution_count": 3,
   "metadata": {
    "collapsed": false
   },
   "outputs": [],
   "source": [
    "def is_valid_draw(fixtures):\n",
    "    \"\"\"\n",
    "    A draw is valid if each game confronts teams belonging to different countries and different groups\n",
    "    \"\"\"\n",
    "    return all([w.group != r.group and w.country != r.country for w, r in fixtures])\n",
    "\n",
    "def filter_winners(runner_up, winners):\n",
    "    return filter(lambda w: w.group != runner_up.group and w.country != runner_up.country, winners)\n",
    "\n",
    "def remove_winners_leading_to_dead_ends(eligible_winners, WINNERS_POT, runner_up, RUNNERS_UP_POT):\n",
    "    \"\"\"\n",
    "    From the list eligible_winners must be removed those clubs leading to dead ends in the draw.\n",
    "    \"\"\"\n",
    "    remaining_runners = RUNNERS_UP_POT[:]\n",
    "    remaining_runners.remove(runner_up)\n",
    "    valid_winners = []\n",
    "    for w in eligible_winners:\n",
    "        remaining_winners = WINNERS_POT[:]\n",
    "        remaining_winners.remove(w)\n",
    "        if exist_maximum_matching(remaining_runners, remaining_winners):\n",
    "            valid_winners.append(w)\n",
    "    return valid_winners\n",
    "\n",
    "def exist_maximum_matching(remaining_runners, remaining_winners):\n",
    "    \"\"\"\n",
    "    A bipartite graph is built using remaining_runners clubs (first class) and \n",
    "    remaining_winners clubs (second class). For each club in the first class, eligible clubs\n",
    "    from the second class are calculated, and for each of these pairs of nodes (1st class, 2nd class)\n",
    "    an edge is built. If the maximum matching for this bipartite graph is exactly the sum of \n",
    "    the sizes of remaining_runners and remaining_winners, then there is no dead ends yet.\n",
    "    \"\"\"\n",
    "    G = nx.Graph()\n",
    "    size = len(remaining_runners)\n",
    "    G.add_nodes_from(range(size), bipartite=0)\n",
    "    G.add_nodes_from(range(size, 2*size), bipartite=1)\n",
    "    for idx, r in enumerate(remaining_runners):\n",
    "        for fw in filter_winners(r, remaining_winners):\n",
    "            w_idx = remaining_winners.index(fw)\n",
    "            G.add_edge(idx, w_idx + size)\n",
    "    max_size = len(nx.algorithms.bipartite.maximum_matching(G))\n",
    "    return max_size == 2 * size\n",
    "\n",
    "def print_html(string):\n",
    "    \"\"\"\n",
    "    Utility function to display HTML in a code cell\n",
    "    \"\"\"\n",
    "    display_html(string, raw=True)\n",
    "\n",
    "def build_html_table(runners_up, winners, probabilities):\n",
    "    html = \"<table>\"\n",
    "    html += \"<tr><td>&nbsp;</td>\"\n",
    "    html += \"<td><b>%s</b></td>\" % (\"</b></td><td><b>\".join([x.name for x in runners_up]))\n",
    "    html += \"<td>CHECK</td></tr>\"\n",
    "\n",
    "    for w_idx in range(len(winners)):\n",
    "        html += \"<tr><td><b>%s</b></td>\" % winners[w_idx].name\n",
    "        html += \"<td>%s</td>\" % \"</td><td>\".join([\"%.1f%%\" % (x) for x in probabilities[w_idx,:]])\n",
    "        html += \"<td>%.1f%%</td></tr>\" % sum(probabilities[w_idx,:])\n",
    "\n",
    "    html += \"<tr><td>CHECK</td>\"\n",
    "    html += \"<td>%s</td><td>&nbsp;</td></tr>\" % (\"</td><td>\".join([\"%.1f%%\" % (sum(probabilities[:,x])) \\\n",
    "                                                                   for x in range(len(runners_up))]))\n",
    "    html += \"</table>\"\n",
    "    return html"
   ]
  },
  {
   "cell_type": "code",
   "execution_count": 4,
   "metadata": {
    "collapsed": false
   },
   "outputs": [],
   "source": [
    "# Winners pot composition\n",
    "WINNERS = [Team('Manchester United', 'England', 'A'), Team('PSG', 'France', 'B'),\n",
    "           Team('Roma', 'Italy', 'C'),                Team('Barcelona', 'Spain', 'D'),\n",
    "           Team('Liverpool', 'England', 'E'),         Team('Manchester City', 'England', 'F'),\n",
    "           Team('Besiktas', 'Turkey', 'G'),           Team('Tottenham', 'England', 'H')]\n",
    "\n",
    "# Runners-up pot composition\n",
    "RUNNERS_UP = [Team('Basel', 'Switzerland', 'A'), Team('Bayer Munchen', 'Germany', 'B'),\n",
    "              Team('Chelsea', 'England', 'C'),   Team('Juventus', 'Italy', 'D'),\n",
    "              Team('Sevilla', 'Spain', 'E'),     Team('Shakhtar Donetsk', 'Ukraine', 'F'),\n",
    "              Team('Porto', 'Portugal', 'G'),    Team('Real Madrid', 'Spain', 'H')]"
   ]
  },
  {
   "cell_type": "markdown",
   "metadata": {},
   "source": [
    "## Draws calculation\n",
    "\n",
    "In this case it is feasible to calculate all the possible outcomes of the draw. In a purely random draw, there would be $8! =40320$. Not all of them will be valid draws. There are two constraints about matches: a valid draw has no two teams from the same country and no two teams from the same group in the previous stage of the competition. After removing these draws from the list, there are still $4238$ valid draws. "
   ]
  },
  {
   "cell_type": "code",
   "execution_count": 5,
   "metadata": {
    "collapsed": false
   },
   "outputs": [
    {
     "name": "stdout",
     "output_type": "stream",
     "text": [
      "Total number of draws: 40320\n",
      "Total number of valid draws: 4238\n"
     ]
    }
   ],
   "source": [
    "draws = [zip(WINNERS, x) for x in itertools.permutations(RUNNERS_UP)]\n",
    "print(\"Total number of draws: %d\" % len(draws))\n",
    "\n",
    "valid_draws = filter(lambda x: is_valid_draw(x), draws)\n",
    "print(\"Total number of valid draws: %d\" % len(valid_draws))"
   ]
  },
  {
   "cell_type": "markdown",
   "metadata": {},
   "source": [
    "## Probabilities calculation assuming an uniform distribution\n",
    "\n",
    "As it was explained below, it is possible to compute all the possible draw outcomes. If we assume that all the outcomes have the same chance to be selected (technically we use an uniform distribution), the probability of a game will be the the ratio of favourable outcomes (valid draws containing that game) to the total number of possible outcomes (total number of valid draws). No Montecarlo simulation is necessary to complete this calculation. But this method ignores the procedure used by UEFA to complete the round of 16 draw in previous seasons of the competition."
   ]
  },
  {
   "cell_type": "code",
   "execution_count": 6,
   "metadata": {
    "collapsed": false
   },
   "outputs": [],
   "source": [
    "total_events = float(len(valid_draws))  # total number of events\n",
    "probabilities = np.full((len(WINNERS), len(RUNNERS_UP)), 0,  dtype=np.float32)  # store the probabilities\n",
    "\n",
    "# Count how many times each pair of teams are matched in a valid draw\n",
    "for draw in valid_draws:\n",
    "    for winner, runner_up in draw:\n",
    "        probabilities[WINNERS.index(winner), RUNNERS_UP.index(runner_up)] += 1\n",
    "\n",
    "# Probability: the percentage of favourable outcomes to the total number of possible outcomes\n",
    "probabilities = 100 * probabilities/total_events"
   ]
  },
  {
   "cell_type": "code",
   "execution_count": 7,
   "metadata": {
    "collapsed": false
   },
   "outputs": [
    {
     "data": {
      "text/html": [
       "<table><tr><td>&nbsp;</td><td><b>Basel</b></td><td><b>Bayer Munchen</b></td><td><b>Chelsea</b></td><td><b>Juventus</b></td><td><b>Sevilla</b></td><td><b>Shakhtar Donetsk</b></td><td><b>Porto</b></td><td><b>Real Madrid</b></td><td>CHECK</td></tr><tr><td><b>Manchester United</b></td><td>0.0%</td><td>14.8%</td><td>0.0%</td><td>18.3%</td><td>18.3%</td><td>15.3%</td><td>14.8%</td><td>18.3%</td><td>100.0%</td></tr><tr><td><b>PSG</b></td><td>11.3%</td><td>0.0%</td><td>28.1%</td><td>12.8%</td><td>12.8%</td><td>11.3%</td><td>10.8%</td><td>12.8%</td><td>100.0%</td></tr><tr><td><b>Roma</b></td><td>15.8%</td><td>15.3%</td><td>0.0%</td><td>0.0%</td><td>18.9%</td><td>15.8%</td><td>15.3%</td><td>18.9%</td><td>100.0%</td></tr><tr><td><b>Barcelona</b></td><td>14.6%</td><td>13.5%</td><td>43.7%</td><td>0.0%</td><td>0.0%</td><td>14.6%</td><td>13.5%</td><td>0.0%</td><td>100.0%</td></tr><tr><td><b>Liverpool</b></td><td>15.8%</td><td>15.3%</td><td>0.0%</td><td>18.9%</td><td>0.0%</td><td>15.8%</td><td>15.3%</td><td>18.9%</td><td>100.0%</td></tr><tr><td><b>Manchester City</b></td><td>15.3%</td><td>14.8%</td><td>0.0%</td><td>18.3%</td><td>18.3%</td><td>0.0%</td><td>14.8%</td><td>18.3%</td><td>100.0%</td></tr><tr><td><b>Besiktas</b></td><td>11.3%</td><td>10.8%</td><td>28.1%</td><td>12.8%</td><td>12.8%</td><td>11.3%</td><td>0.0%</td><td>12.8%</td><td>100.0%</td></tr><tr><td><b>Tottenham</b></td><td>15.8%</td><td>15.3%</td><td>0.0%</td><td>18.9%</td><td>18.9%</td><td>15.8%</td><td>15.3%</td><td>0.0%</td><td>100.0%</td></tr><tr><td>CHECK</td><td>100.0%</td><td>100.0%</td><td>100.0%</td><td>100.0%</td><td>100.0%</td><td>100.0%</td><td>100.0%</td><td>100.0%</td><td>&nbsp;</td></tr></table>"
      ]
     },
     "metadata": {},
     "output_type": "display_data"
    }
   ],
   "source": [
    "# HTML output\n",
    "html = build_html_table(RUNNERS_UP, WINNERS, probabilities)\n",
    "print_html(html)"
   ]
  },
  {
   "cell_type": "markdown",
   "metadata": {},
   "source": [
    "## Probabilities estimated by a naïve Montecarlo simulation\n",
    "\n",
    "Assuming that UEFA will use the same procedure as in the 2016/17 season, the pairings are selected in sequence by the following steps:\n",
    "\n",
    "1. A club from the runners-up pot is selected.\n",
    "2. A club from the winners pot that accomplised the constraints of the draw is selected.\n",
    "\n",
    "The code below is simpler than it should be. In the actual draw, teams from winners pot are selected in order to avoid dead ends. We discard a draw when an dead end is reached and a new draw starts. It is questionable that this doesn't add a bias in the estimation. A more complex `filter_winners` would be better off."
   ]
  },
  {
   "cell_type": "code",
   "execution_count": 8,
   "metadata": {
    "collapsed": false
   },
   "outputs": [],
   "source": [
    "simulations = 1000  # number of simulated draws\n",
    "probabilities = np.full((len(WINNERS), len(RUNNERS_UP)), 0,  dtype=np.float32)  # store the probabilities\n",
    "\n",
    "simulation = 0\n",
    "while simulation < simulations:\n",
    "    WINNERS_POT = WINNERS[:]\n",
    "    RUNNERS_UP_POT = RUNNERS_UP[:]\n",
    "    draw = np.full((len(WINNERS), len(RUNNERS_UP)), 0)  # array storing the results of a simulation\n",
    "    failed = False  # if a simulated doesn't fulfill the constraints, restart the draw procedure\n",
    "    #print(\"Simulation #%d\" % (simulation+1))\n",
    "\n",
    "    while len(RUNNERS_UP_POT) > 0:\n",
    "        # First choose a team from runners-up pot\n",
    "        runner_up = np.random.choice(RUNNERS_UP_POT)\n",
    "        # Eligible teams from winners pot for that runner-up\n",
    "        eligible_winners = filter_winners(runner_up, WINNERS_POT)\n",
    "        #print(\"\\tRunner-up: %s --> %s\" % (runner_up.name, [x.name for x in eligible_winners]))\n",
    "\n",
    "        if len(eligible_winners) > 0:\n",
    "            # Draw a Team from winner pot\n",
    "            winner = np.random.choice(eligible_winners)\n",
    "            #print(\"\\t\\tWinner: %s\" % winner.name)\n",
    "\n",
    "            RUNNERS_UP_POT.remove(runner_up)  # remove the runner-up club from their pot\n",
    "            WINNERS_POT.remove(winner)  # remove the winner club from their pot\n",
    "            draw[WINNERS.index(winner), RUNNERS_UP.index(runner_up)] = 1\n",
    "        else:\n",
    "            #print(\"\\tFailed\")\n",
    "            failed = True\n",
    "            break\n",
    "    if not failed:\n",
    "        probabilities += draw\n",
    "        simulation += 1  # correct simulated draw, process the next simulation\n",
    "probabilities = 100 * probabilities / simulations"
   ]
  },
  {
   "cell_type": "code",
   "execution_count": 9,
   "metadata": {
    "collapsed": false
   },
   "outputs": [
    {
     "data": {
      "text/html": [
       "<table><tr><td>&nbsp;</td><td><b>Basel</b></td><td><b>Bayer Munchen</b></td><td><b>Chelsea</b></td><td><b>Juventus</b></td><td><b>Sevilla</b></td><td><b>Shakhtar Donetsk</b></td><td><b>Porto</b></td><td><b>Real Madrid</b></td><td>CHECK</td></tr><tr><td><b>Manchester United</b></td><td>0.0%</td><td>15.1%</td><td>0.0%</td><td>17.8%</td><td>18.5%</td><td>16.5%</td><td>12.5%</td><td>19.6%</td><td>100.0%</td></tr><tr><td><b>PSG</b></td><td>10.2%</td><td>0.0%</td><td>29.6%</td><td>13.3%</td><td>12.7%</td><td>11.5%</td><td>10.1%</td><td>12.6%</td><td>100.0%</td></tr><tr><td><b>Roma</b></td><td>19.6%</td><td>13.2%</td><td>0.0%</td><td>0.0%</td><td>18.6%</td><td>14.2%</td><td>17.6%</td><td>16.8%</td><td>100.0%</td></tr><tr><td><b>Barcelona</b></td><td>13.9%</td><td>13.5%</td><td>43.8%</td><td>0.0%</td><td>0.0%</td><td>14.9%</td><td>13.9%</td><td>0.0%</td><td>100.0%</td></tr><tr><td><b>Liverpool</b></td><td>15.8%</td><td>16.7%</td><td>0.0%</td><td>18.9%</td><td>0.0%</td><td>15.1%</td><td>15.7%</td><td>17.8%</td><td>100.0%</td></tr><tr><td><b>Manchester City</b></td><td>16.0%</td><td>15.0%</td><td>0.0%</td><td>18.1%</td><td>16.8%</td><td>0.0%</td><td>14.9%</td><td>19.2%</td><td>100.0%</td></tr><tr><td><b>Besiktas</b></td><td>10.7%</td><td>11.1%</td><td>26.6%</td><td>11.3%</td><td>14.6%</td><td>11.7%</td><td>0.0%</td><td>14.0%</td><td>100.0%</td></tr><tr><td><b>Tottenham</b></td><td>13.8%</td><td>15.4%</td><td>0.0%</td><td>20.6%</td><td>18.8%</td><td>16.1%</td><td>15.3%</td><td>0.0%</td><td>100.0%</td></tr><tr><td>CHECK</td><td>100.0%</td><td>100.0%</td><td>100.0%</td><td>100.0%</td><td>100.0%</td><td>100.0%</td><td>100.0%</td><td>100.0%</td><td>&nbsp;</td></tr></table>"
      ]
     },
     "metadata": {},
     "output_type": "display_data"
    }
   ],
   "source": [
    "# HTML output\n",
    "html = build_html_table(RUNNERS_UP, WINNERS, probabilities)\n",
    "print_html(html)"
   ]
  },
  {
   "cell_type": "markdown",
   "metadata": {},
   "source": [
    "The result is consistent with the uniform distribution assumption. Definitely, a more complex `filter_winners` is mandatory."
   ]
  },
  {
   "cell_type": "markdown",
   "metadata": {},
   "source": [
    "## Probabilities estimated by a realistic Montecarlo simulation\n",
    "\n",
    "To reproduce the very same steps of the draw in the Montecarlo simulation, dead ends must be avoided before they occur. This can be achieved by applying an additional filter to the candidates clubs from winners pot. The functions `remove_winners_leading_to_dead_ends` and `exist_maximum_matching` implement this by means of [bipartite graphs](https://networkx.github.io/documentation/networkx-1.10/reference/algorithms.bipartite.html) and [maximum matching algorithm](https://networkx.github.io/documentation/networkx-1.10/reference/algorithms.bipartite.html?highlight=bipartite#module-networkx.algorithms.bipartite.matching) from `networkx` package."
   ]
  },
  {
   "cell_type": "code",
   "execution_count": 10,
   "metadata": {
    "collapsed": false
   },
   "outputs": [
    {
     "name": "stdout",
     "output_type": "stream",
     "text": [
      "Draw simulation...\n",
      "\n",
      "Runner-up: Bayer Munchen\n",
      "\tValid winners: Manchester United, Roma, Barcelona, Liverpool, Manchester City, Besiktas, Tottenham\n",
      "\tEligible winners --> Manchester United, Roma, Barcelona, Liverpool, Manchester City, Besiktas, Tottenham\n",
      "\tWinner drawn: Barcelona\n",
      "Bayer Munchen vs Barcelona\n",
      "\n",
      "Runner-up: Juventus\n",
      "\tValid winners: Manchester United, PSG, Liverpool, Manchester City, Besiktas, Tottenham\n",
      "\tEligible winners --> Manchester United, PSG, Liverpool, Manchester City, Besiktas, Tottenham\n",
      "\tWinner drawn: Manchester City\n",
      "Juventus vs Manchester City\n",
      "\n",
      "Runner-up: Real Madrid\n",
      "\tValid winners: Manchester United, PSG, Roma, Liverpool, Besiktas\n",
      "\tEligible winners --> Manchester United, PSG, Roma, Liverpool, Besiktas\n",
      "\tWinner drawn: Roma\n",
      "Real Madrid vs Roma\n",
      "\n",
      "Runner-up: Basel\n",
      "\tValid winners: PSG, Liverpool, Besiktas, Tottenham\n",
      "\tEligible winners --> PSG, Liverpool, Besiktas, Tottenham\n",
      "\tWinner drawn: Tottenham\n",
      "Basel vs Tottenham\n",
      "\n",
      "Runner-up: Chelsea\n",
      "\tValid winners: PSG, Besiktas\n",
      "\tEligible winners --> PSG, Besiktas\n",
      "\tWinner drawn: PSG\n",
      "Chelsea vs PSG\n",
      "\n",
      "Runner-up: Shakhtar Donetsk\n",
      "\tValid winners: Manchester United, Liverpool, Besiktas\n",
      "\tEligible winners --> Manchester United, Liverpool, Besiktas\n",
      "\tWinner drawn: Besiktas\n",
      "Shakhtar Donetsk vs Besiktas\n",
      "\n",
      "Runner-up: Porto\n",
      "\tValid winners: Manchester United, Liverpool\n",
      "\tEligible winners --> Liverpool\n",
      "\tWinner drawn: Liverpool\n",
      "Porto vs Liverpool\n",
      "\n",
      "Runner-up: Sevilla\n",
      "\tValid winners: Manchester United\n",
      "\tEligible winners --> Manchester United\n",
      "\tWinner drawn: Manchester United\n",
      "Sevilla vs Manchester United\n",
      "\n"
     ]
    }
   ],
   "source": [
    "# A simple execution to check that everything works smoothly\n",
    "WINNERS_POT = WINNERS[:]\n",
    "RUNNERS_UP_POT = RUNNERS_UP[:]\n",
    "\n",
    "print(\"Draw simulation...\\n\")\n",
    "while len(RUNNERS_UP_POT) > 0:\n",
    "    runner_up = np.random.choice(RUNNERS_UP_POT)\n",
    "    eligible_winners = filter_winners(runner_up, WINNERS_POT)\n",
    "    print(\"Runner-up: %s\" % runner_up.name)\n",
    "    print(\"\\tValid winners: %s\" % (', '.join([x.name for x in eligible_winners])))\n",
    "    eligible_winners = remove_winners_leading_to_dead_ends(eligible_winners, WINNERS_POT, \n",
    "                                                           runner_up, RUNNERS_UP_POT)\n",
    "    print(\"\\tEligible winners --> %s\" % (', '.join([x.name for x in eligible_winners])))\n",
    "\n",
    "    if len(eligible_winners) > 0:\n",
    "        # Draw a Team from winner pot\n",
    "        winner = np.random.choice(eligible_winners)\n",
    "        print(\"\\tWinner drawn: %s\" % winner.name)\n",
    "\n",
    "        RUNNERS_UP_POT.remove(runner_up)  # remove the runner-up club from their pot\n",
    "        WINNERS_POT.remove(winner)  # remove the winner club from their pot\n",
    "        print(\"%s vs %s\\n\" % (runner_up.name, winner.name))\n",
    "    else:\n",
    "        print(\"\\tFailed\")\n",
    "        failed = True\n",
    "        break"
   ]
  },
  {
   "cell_type": "code",
   "execution_count": 11,
   "metadata": {
    "collapsed": false
   },
   "outputs": [],
   "source": [
    "simulations = 1000  # number of simulated draws\n",
    "probabilities = np.full((len(WINNERS), len(RUNNERS_UP)), 0,  dtype=np.float32)  # store the probabilities\n",
    "\n",
    "simulation = 0\n",
    "while simulation < simulations:\n",
    "    WINNERS_POT = WINNERS[:]\n",
    "    RUNNERS_UP_POT = RUNNERS_UP[:]\n",
    "\n",
    "    while len(RUNNERS_UP_POT) > 0:\n",
    "        runner_up = np.random.choice(RUNNERS_UP_POT)\n",
    "        eligible_winners = filter_winners(runner_up, WINNERS_POT)\n",
    "        #print(\"\\tRunner-up: %s --> %s\" % (runner_up.name, [x.name for x in eligible_winners]))\n",
    "        eligible_winners = remove_winners_leading_to_dead_ends(eligible_winners, WINNERS_POT, \n",
    "                                                               runner_up, RUNNERS_UP_POT)\n",
    "        #print(\"\\t\\tEffective candidates --> %s\" % ([x.name for x in eligible_winners]))\n",
    "\n",
    "        # Draw a Team from winner pot\n",
    "        winner = np.random.choice(eligible_winners)\n",
    "        #print(\"\\t\\tWinner: %s\" % winner.name)\n",
    "\n",
    "        RUNNERS_UP_POT.remove(runner_up)  # remove the runner-up club from their pot\n",
    "        WINNERS_POT.remove(winner)  # remove the winner club from their pot\n",
    "        probabilities[WINNERS.index(winner), RUNNERS_UP.index(runner_up)] += 1\n",
    "    simulation += 1\n",
    "\n",
    "probabilities = 100 * probabilities / simulations"
   ]
  },
  {
   "cell_type": "code",
   "execution_count": 12,
   "metadata": {
    "collapsed": false
   },
   "outputs": [
    {
     "data": {
      "text/html": [
       "<table><tr><td>&nbsp;</td><td><b>Basel</b></td><td><b>Bayer Munchen</b></td><td><b>Chelsea</b></td><td><b>Juventus</b></td><td><b>Sevilla</b></td><td><b>Shakhtar Donetsk</b></td><td><b>Porto</b></td><td><b>Real Madrid</b></td><td>CHECK</td></tr><tr><td><b>Manchester United</b></td><td>0.0%</td><td>15.2%</td><td>0.0%</td><td>15.3%</td><td>17.8%</td><td>17.4%</td><td>15.3%</td><td>19.0%</td><td>100.0%</td></tr><tr><td><b>PSG</b></td><td>11.6%</td><td>0.0%</td><td>30.8%</td><td>12.3%</td><td>13.8%</td><td>10.5%</td><td>8.4%</td><td>12.6%</td><td>100.0%</td></tr><tr><td><b>Roma</b></td><td>17.8%</td><td>16.1%</td><td>0.0%</td><td>0.0%</td><td>17.1%</td><td>16.2%</td><td>15.6%</td><td>17.2%</td><td>100.0%</td></tr><tr><td><b>Barcelona</b></td><td>15.3%</td><td>15.6%</td><td>39.9%</td><td>0.0%</td><td>0.0%</td><td>13.9%</td><td>15.3%</td><td>0.0%</td><td>100.0%</td></tr><tr><td><b>Liverpool</b></td><td>16.3%</td><td>15.4%</td><td>0.0%</td><td>19.9%</td><td>0.0%</td><td>15.4%</td><td>15.8%</td><td>17.2%</td><td>100.0%</td></tr><tr><td><b>Manchester City</b></td><td>14.2%</td><td>12.8%</td><td>0.0%</td><td>18.2%</td><td>19.4%</td><td>0.0%</td><td>15.6%</td><td>19.8%</td><td>100.0%</td></tr><tr><td><b>Besiktas</b></td><td>8.6%</td><td>10.3%</td><td>29.3%</td><td>13.0%</td><td>13.7%</td><td>10.9%</td><td>0.0%</td><td>14.2%</td><td>100.0%</td></tr><tr><td><b>Tottenham</b></td><td>16.2%</td><td>14.6%</td><td>0.0%</td><td>21.3%</td><td>18.2%</td><td>15.7%</td><td>14.0%</td><td>0.0%</td><td>100.0%</td></tr><tr><td>CHECK</td><td>100.0%</td><td>100.0%</td><td>100.0%</td><td>100.0%</td><td>100.0%</td><td>100.0%</td><td>100.0%</td><td>100.0%</td><td>&nbsp;</td></tr></table>"
      ]
     },
     "metadata": {},
     "output_type": "display_data"
    }
   ],
   "source": [
    "# HTML output\n",
    "html = build_html_table(RUNNERS_UP, WINNERS, probabilities)\n",
    "print_html(html)"
   ]
  },
  {
   "cell_type": "markdown",
   "metadata": {},
   "source": [
    "There are some minor changes in the estimations. As Chelsea is the most constrained club in the draw, their probabilities are the only ones that change significantly with respect to the naïve Montecarlo simulation."
   ]
  }
 ],
 "metadata": {
  "anaconda-cloud": {},
  "kernelspec": {
   "display_name": "Python [default]",
   "language": "python",
   "name": "python2"
  },
  "language_info": {
   "codemirror_mode": {
    "name": "ipython",
    "version": 2
   },
   "file_extension": ".py",
   "mimetype": "text/x-python",
   "name": "python",
   "nbconvert_exporter": "python",
   "pygments_lexer": "ipython2",
   "version": "2.7.12"
  }
 },
 "nbformat": 4,
 "nbformat_minor": 1
}
