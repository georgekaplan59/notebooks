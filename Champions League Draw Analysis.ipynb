{
 "cells": [
  {
   "cell_type": "markdown",
   "metadata": {},
   "source": [
    "# Round of 16 draw for 2017-2018 season\n",
    "\n",
    "Nyon - 11 December 2017, 12:00 CET\n",
    "\n",
    "Draw procedure:\n",
    "\n",
    "* Two seeding pots will be formed: one consisting of group winners and the other of runners-up.\n",
    "* No team can play a club from their group or any side from their own association.\n",
    "* Seeded group winners will be away in the round of 16 first legs and at home in the return matches.\n",
    "\n",
    "|         **POT Winners**        |      **POT Runners-up**       |\n",
    "| :----------------------------: | :---------------------------: |\n",
    "| Manchester United (A, England) | Basel (A, Switzerland)        |\n",
    "| PSG (B, France)                | Bayer Munchen (B, Germany)    |\n",
    "| Roma (C, Italy)                | Chelsea (C, England)          |\n",
    "| Barcelona (D, Spain)           | Juventus (D, Italy)           |\n",
    "| Liverpool (E, England)         | Sevilla (E, Spain)            |\n",
    "| Manchester City (F, England)   | Shakhtar Donetsk (F, Ukraine) |\n",
    "| Besitkas (G, Turkey)           | Porto (G, Portugal)           |\n",
    "| Tottenham (H, England)         | Real Madrid (H, Spain)        |\n",
    "\n",
    "Sources:\n",
    "\n",
    "* [UEFA Champions League round of 16 draw](https://www.uefa.com/uefachampionsleague/season=2018/draws/round=2000882/index.html#/)"
   ]
  },
  {
   "cell_type": "markdown",
   "metadata": {},
   "source": [
    "## Imports, constants and functions"
   ]
  },
  {
   "cell_type": "code",
   "execution_count": 1,
   "metadata": {
    "collapsed": true
   },
   "outputs": [],
   "source": [
    "import itertools\n",
    "import numpy as np\n",
    "from IPython.display import display_html"
   ]
  },
  {
   "cell_type": "code",
   "execution_count": 2,
   "metadata": {
    "collapsed": true
   },
   "outputs": [],
   "source": [
    "class Team:\n",
    "    \"\"\"\n",
    "    Team representation storing club information regarding:\n",
    "        - short name\n",
    "        - association/country to which the club belongs\n",
    "        - group in the previous stage of the Champions League\n",
    "    \"\"\"\n",
    "    def __init__(self, name, country, group):  # Constructor\n",
    "        self.name = name\n",
    "        self.country = country\n",
    "        self.group = group\n",
    "\n",
    "    def __repr__(self):  # String representation of instances\n",
    "        return '{} ({}, {})'.format(self.name, self.group, self.country)\n",
    "\n",
    "    def __hash__(self):  # Required for list.index working\n",
    "        return hash((self.name, self.country, self.group))\n",
    "\n",
    "    def __eq__(self, other):  # Required for list.index working\n",
    "        try:\n",
    "            return (self.name, self.country, self.group) == (other.name, other.country, other.group)\n",
    "        except AttributeError:\n",
    "            return NotImplemented"
   ]
  },
  {
   "cell_type": "code",
   "execution_count": 3,
   "metadata": {
    "collapsed": true
   },
   "outputs": [],
   "source": [
    "def is_valid_draw(fixtures):\n",
    "    \"\"\"\n",
    "    A draw is valid if each game confronts teams belonging to different countries and different groups\n",
    "    \"\"\"\n",
    "    return all([w.group != r.group and w.country != r.country for w, r in fixtures])\n",
    "\n",
    "def print_html(string):\n",
    "    \"\"\"\n",
    "    Utility function to display HTML in a code cell\n",
    "    \"\"\"\n",
    "    display_html(string, raw=True)"
   ]
  },
  {
   "cell_type": "code",
   "execution_count": 4,
   "metadata": {
    "collapsed": false
   },
   "outputs": [],
   "source": [
    "# Winners pot composition\n",
    "WINNERS = [Team('Manchester United', 'England', 'A'), Team('PSG', 'France', 'B'),\n",
    "           Team('Roma', 'Italy', 'C'),                Team('Barcelona', 'Spain', 'D'),\n",
    "           Team('Liverpool', 'England', 'E'),         Team('Manchester City', 'England', 'F'),\n",
    "           Team('Besitkas', 'Turkey', 'G'),           Team('Tottenham', 'England', 'H')]\n",
    "\n",
    "# Runners-up pot composition\n",
    "RUNNERS_UP = [Team('Basel', 'Switzerland', 'A'), Team('Bayer Munchen', 'Germany', 'B'),\n",
    "              Team('Chelsea', 'England', 'C'),   Team('Juventus', 'Italy', 'D'),\n",
    "              Team('Sevilla', 'Spain', 'E'),     Team('Shakhtar Donetsk', 'Ukraine', 'F'),\n",
    "              Team('Porto', 'Portugal', 'G'),    Team('Real Madrid', 'Spain', 'H')]"
   ]
  },
  {
   "cell_type": "markdown",
   "metadata": {},
   "source": [
    "## Draws calculation\n",
    "\n",
    "In this case it is feasible to calculate all the possible outcomes of the draw. In a purely random draw, there would be $8! =40320$. Not all of them will be valid draws. There are two constraints about matches: a valid draw has no two teams from the same country and no two teams from the same group in the previous stage of the competition. After removing these draws from the list, there are still $4238$ valid draws. "
   ]
  },
  {
   "cell_type": "code",
   "execution_count": 5,
   "metadata": {
    "collapsed": false
   },
   "outputs": [
    {
     "name": "stdout",
     "output_type": "stream",
     "text": [
      "Total number of draws: 40320\n",
      "Total number of valid draws: 4238\n"
     ]
    }
   ],
   "source": [
    "draws = [zip(WINNERS, x) for x in itertools.permutations(RUNNERS_UP)]\n",
    "print(\"Total number of draws: %d\" % len(draws))\n",
    "valid_draws = filter(lambda x: is_valid_draw(x), draws)\n",
    "print(\"Total number of valid draws: %d\" % len(valid_draws))"
   ]
  },
  {
   "cell_type": "markdown",
   "metadata": {},
   "source": [
    "## Probability calculation\n",
    "\n",
    "As it was explained below, it is possible to compute all the possible draw outcomes. The probability of a game will be the the ratio of favourable outcomes (valid draws containing that game) to the total number of possible outcomes (total number of valid draws). So, no Montecarlo simulation is necessary."
   ]
  },
  {
   "cell_type": "code",
   "execution_count": 6,
   "metadata": {
    "collapsed": false
   },
   "outputs": [],
   "source": [
    "total_events = float(len(valid_draws))  # total number of events\n",
    "probabilities = np.full((len(WINNERS), len(RUNNERS_UP)), 0,  dtype=np.float32)  # store the probabilities\n",
    "\n",
    "# Count how many times each pair of teams are matched in a valid draw\n",
    "for draw in valid_draws:\n",
    "    for winner, runner_up in draw:\n",
    "        probabilities[WINNERS.index(winner), RUNNERS_UP.index(runner_up)] += 1\n",
    "# Probability: the ratio of favourable outcomes to the total number of possible outcomes\n",
    "probabilities = probabilities/total_events"
   ]
  },
  {
   "cell_type": "code",
   "execution_count": 7,
   "metadata": {
    "collapsed": false
   },
   "outputs": [
    {
     "data": {
      "text/html": [
       "<table><tr><td>&nbsp;</td><td><b>Basel</b></td><td><b>Bayer Munchen</b></td><td><b>Chelsea</b></td><td><b>Juventus</b></td><td><b>Sevilla</b></td><td><b>Shakhtar Donetsk</b></td><td><b>Porto</b></td><td><b>Real Madrid</b></td><td>CHECK</td></tr><tr><td><b>Manchester United</b></td><td>0.0</td><td>0.148</td><td>0.0</td><td>0.183</td><td>0.183</td><td>0.153</td><td>0.148</td><td>0.183</td><td>1.0</td></tr><tr><td><b>PSG</b></td><td>0.113</td><td>0.0</td><td>0.281</td><td>0.128</td><td>0.128</td><td>0.113</td><td>0.108</td><td>0.128</td><td>1.0</td></tr><tr><td><b>Roma</b></td><td>0.158</td><td>0.153</td><td>0.0</td><td>0.0</td><td>0.189</td><td>0.158</td><td>0.153</td><td>0.189</td><td>1.0</td></tr><tr><td><b>Barcelona</b></td><td>0.146</td><td>0.135</td><td>0.437</td><td>0.0</td><td>0.0</td><td>0.146</td><td>0.135</td><td>0.0</td><td>1.0</td></tr><tr><td><b>Liverpool</b></td><td>0.158</td><td>0.153</td><td>0.0</td><td>0.189</td><td>0.0</td><td>0.158</td><td>0.153</td><td>0.189</td><td>1.0</td></tr><tr><td><b>Manchester City</b></td><td>0.153</td><td>0.148</td><td>0.0</td><td>0.183</td><td>0.183</td><td>0.0</td><td>0.148</td><td>0.183</td><td>1.0</td></tr><tr><td><b>Besitkas</b></td><td>0.113</td><td>0.108</td><td>0.281</td><td>0.128</td><td>0.128</td><td>0.113</td><td>0.0</td><td>0.128</td><td>1.0</td></tr><tr><td><b>Tottenham</b></td><td>0.158</td><td>0.153</td><td>0.0</td><td>0.189</td><td>0.189</td><td>0.158</td><td>0.153</td><td>0.0</td><td>1.0</td></tr><tr><td>CHECK</td><td>1.0</td><td>1.0</td><td>1.0</td><td>1.0</td><td>1.0</td><td>1.0</td><td>1.0</td><td>1.0</td><td>&nbsp;</td></tr></table>"
      ]
     },
     "metadata": {},
     "output_type": "display_data"
    }
   ],
   "source": [
    "# HTML output\n",
    "html = \"<table>\"\n",
    "html += \"<tr><td>&nbsp;</td><td><b>%s</b></td><td>CHECK</td></tr>\" % (\"</b></td><td><b>\".join([x.name for x in RUNNERS_UP]))\n",
    "for w_idx in range(len(WINNERS)):\n",
    "    html += \"<tr><td><b>%s</b></td><td>%s</td><td>%.1f</td></tr>\" % (WINNERS[w_idx].name, \\\n",
    "                                                                       \"</td><td>\".join([str(round(x, 3)) \\\n",
    "                                                                          for x in probabilities[w_idx,:]]), \\\n",
    "                                                                     sum(probabilities[w_idx,:]))\n",
    "html += \"<tr><td>CHECK</td><td>%s</td><td>&nbsp;</td></tr>\" % (\"</td><td>\".join([str(round(sum(probabilities[:,x]), 1)) \\\n",
    "                                                                                  for x in range(len(RUNNERS_UP))]))\n",
    "html += \"</table>\"\n",
    "print_html(html)"
   ]
  },
  {
   "cell_type": "markdown",
   "metadata": {},
   "source": [
    "Some remarks:\n",
    "\n",
    "* Barcelona vs Chelsea is the most likely fixture\n",
    "* PSG vs Porto and Besitkas vs Bayer Munchen are the less likely fixtures."
   ]
  }
 ],
 "metadata": {
  "kernelspec": {
   "display_name": "Python [default]",
   "language": "python",
   "name": "python2"
  },
  "language_info": {
   "codemirror_mode": {
    "name": "ipython",
    "version": 2
   },
   "file_extension": ".py",
   "mimetype": "text/x-python",
   "name": "python",
   "nbconvert_exporter": "python",
   "pygments_lexer": "ipython2",
   "version": "2.7.12"
  }
 },
 "nbformat": 4,
 "nbformat_minor": 1
}
