{
 "cells": [
  {
   "cell_type": "markdown",
   "metadata": {},
   "source": [
    "# 2018 World Cup draw procedure and probability estimations"
   ]
  },
  {
   "cell_type": "markdown",
   "metadata": {},
   "source": [
    "## Draw procedure"
   ]
  },
  {
   "cell_type": "markdown",
   "metadata": {},
   "source": [
    "The draw for the 2018 FIFA World Cup will take place on 1 December 2017 at the State Kremlin Palace in Moscow, Russia. It will determine the group in which each of the 32 qualified national teams will play in at the start of the tournament. **The teams will be divided into four pots of eight, with one team selected from each pot to form a group**.\n",
    "\n",
    "Unlike previous editions of the World Cup, all pots will be determined by each national team's [October 2017 FIFA World Ranking](http://www.fifa.com/fifa-world-ranking/ranking-table/men/index.html), with Pot 1 containing the highest-ranked teams, Pot 2 containing the next highest-ranked teams, and so on; in previous editions only one pot containing the highest-ranked teams was determined by rank, with the other three pots determined by continental confederation. **The hosts will continue to be placed in Pot 1 and treated as a seeded team**, therefore, Pot 1 will consist of hosts Russia and the seven highest-ranked teams that qualify for the tournament.\n",
    "\n",
    "As with previous editions, **no group may have more than one team from any continental confederation with the exception of UEFA, which may have no more than two in a group. Eight groups of four teams will be labelled A to H: the four pots will be emptied completely by allocating one of their eight teams to each of the eight groups**.\n",
    "\n",
    "The table below shows the composition of each pot and the continental confederation to which each national team belongs:\n",
    "\n",
    "|      **POT 1**       |      **POT 2**      |        **POT 3**      |     **POT 4**      | \n",
    "| :------------------: | :-----------------: | :-------------------: | :----------------: |\n",
    "| Russia (Hosts, UEFA) | Spain (UEFA)        | Denmark (UEFA)        | Serbia (UEFA)      |\n",
    "| Germany (UEFA)       | Peru (CONMEBOL)     | Iceland (UEFA)        | Nigeria (CAF)      |\n",
    "| Brazil (CONMEBOL)    | Switzerland (UEFA)  | Costa Rica (CONCACAF) | Australia (AFC)    |\n",
    "| Portugal (UEFA)      | England (UEFA)      | Sweden (UEFA)         | Japan (AFC)        |\n",
    "| Argentina (CONMEBOL) | Colombia (CONMEBOL) | Tunisia (CAF)         | Morocco (CAF)      |\n",
    "| Belgium (UEFA)       | Mexico (CONCACAF)   | Egypt (CAF)           | Panama (CONCACAF)  |\n",
    "| Poland (UEFA)        | Uruguay (CONMEBOL)  | Senegal (CAF)         | South Korea (AFC)  |\n",
    "| France (UEFA)        | Croatia (UEFA)      | Iran (AFC)            | Saudi Arabia (AFC) |\n",
    "\n",
    "The four pots will be emptied by drawing the eight teams they each contain one by one and placing them in the eight groups of four teams (Groups A to H). Hosts Russia will occupy the top position in Group A, while the seven other seeds will occupy the top spots in Groups B to H. The positions of all the other teams (from pots 2, 3 and 4) will be decided when they are drawn.   \n",
    "\n",
    "As is customary at Final Draws, a ball will be drawn from the team pots and then another from the group pots to determine the position (not relevant for probability calculation) in which the team in question will play."
   ]
  },
  {
   "cell_type": "markdown",
   "metadata": {},
   "source": [
    "### Sources\n",
    "\n",
    "* [2018 FIFA World Cup seeding](https://en.wikipedia.org/wiki/2018_FIFA_World_Cup_seeding)\n",
    "* [FIFA continental confederations](http://www.fifa.com/associations/index.html)\n",
    "* [Group formation](http://www.fifa.com/about-fifa/news/y=2017/m=9/news=oc-for-fifa-competitions-approves-procedures-for-the-final-draw-of-the-2907924.html)\n",
    "* [Draw procedure](http://www.fifa.com/worldcup/news/y=2017/m=11/news=the-final-draw-how-it-works-2921565.html)\n",
    "* [Draw procedure video](https://www.youtube.com/watch?v=jDkn83FwioA)"
   ]
  },
  {
   "cell_type": "markdown",
   "metadata": {},
   "source": [
    "# Simulator\n",
    "\n",
    "The draw is not completely random. Some constraints must be fulfilled: _no group may have more than one team from any continental confederation with the exception of UEFA, which may have no more than two in a group_. Therefore, an exact calculation of the probabilities for each pair of teams belonging to the same group cannot be done. Nevertheless, these probabilities can be estimated using a simulator. The idea is very simple: to run simulated draws satisfying the required constraints. The probability of two teams belonging to the same group is then the count of the simulated draws pairing both teams in a group divided by the number of simulated draws. The simulator code implemented in Python can be found below."
   ]
  },
  {
   "cell_type": "markdown",
   "metadata": {},
   "source": [
    "## Imports, constants and functions"
   ]
  },
  {
   "cell_type": "code",
   "execution_count": 1,
   "metadata": {
    "collapsed": false
   },
   "outputs": [],
   "source": [
    "import numpy as np\n",
    "from IPython.display import display_html"
   ]
  },
  {
   "cell_type": "code",
   "execution_count": 2,
   "metadata": {
    "collapsed": true
   },
   "outputs": [],
   "source": [
    "TEAMS = [\"Russia\", \"Germany\", \"Brazil\", \"Portugal\", \"Argentina\", \"Belgium\", \"Poland\", \"France\", \n",
    "         \"Spain\", \"Peru\", \"Switzerland\", \"England\", \"Colombia\", \"Mexico\", \"Uruguay\", \"Croatia\", \n",
    "         \"Denmark\", \"Iceland\", \"Costa Rica\", \"Sweden\", \"Tunisia\", \"Egypt\", \"Senegal\", \"Iran\", \n",
    "         \"Serbia\", \"Nigeria\", \"Australia\", \"Japan\", \"Morocco\", \"Panama\", \"South Korea\", \"Saudi Arabia\"]\n",
    "\n",
    "CONFEDERATIONS = [\"UEFA\", \"CONMEBOL\", \"CONCACAF\", \"CAF\", \"AFC\"]\n",
    "\n",
    "TEAM_POTS = [1, 1, 1, 1, 1, 1, 1, 1, \n",
    "             2, 2, 2, 2, 2, 2, 2, 2, \n",
    "             3, 3, 3, 3, 3, 3, 3, 3, \n",
    "             4, 4, 4, 4, 4, 4, 4, 4]\n",
    "\n",
    "TEAM_CONFEDERATIONS = [0, 0, 1, 0, 1, 0, 0, 0, \n",
    "                       0, 1, 0, 0, 1, 2, 1, 0, \n",
    "                       0, 0, 2, 0, 3, 3, 3, 4, \n",
    "                       0, 3, 4, 4, 3, 2, 4, 4]\n",
    "\n",
    "CONSTRAINT_CONFEDERATIONS = [2, 1, 1, 1, 1]\n",
    "\n",
    "GROUPS = 8"
   ]
  },
  {
   "cell_type": "code",
   "execution_count": 3,
   "metadata": {
    "collapsed": false
   },
   "outputs": [],
   "source": [
    "def print_html(string):\n",
    "    display_html(string, raw=True)\n",
    "\n",
    "def team(country_name):\n",
    "    return TEAMS.index(country_name)\n",
    "\n",
    "def confederation(country_name):\n",
    "    return TEAM_CONFEDERATIONS[team(country_name)]\n",
    "\n",
    "def confederation_name(country_name):\n",
    "    return CONFEDERATIONS[country(country_name)]\n",
    "\n",
    "def check_confederation_multiplicity(team, confederation_multiplicity):\n",
    "    confederation = TEAM_CONFEDERATIONS[team]\n",
    "    return (confederation_multiplicity.count(confederation) < CONSTRAINT_CONFEDERATIONS[confederation])\n",
    "\n",
    "def check_group(team, group_composition):\n",
    "    filtered_groups = filter(lambda x: x > -1, group_composition)\n",
    "    confederation_multiplicity = map(lambda x: TEAM_CONFEDERATIONS[x], filtered_groups)\n",
    "    return check_confederation_multiplicity(team, confederation_multiplicity)\n",
    "\n",
    "def filter_teams(teams, confederation_multiplicity):\n",
    "    return filter(lambda team: check_confederation_multiplicity(team, confederation_multiplicity), teams)"
   ]
  },
  {
   "cell_type": "markdown",
   "metadata": {},
   "source": [
    "## Draw simulator"
   ]
  },
  {
   "cell_type": "code",
   "execution_count": 4,
   "metadata": {
    "collapsed": false
   },
   "outputs": [],
   "source": [
    "simulations = 1000000  # number of simulated draws\n",
    "draws = np.full((simulations, GROUPS, 4), -1)  # array storing the results of each simulation\n",
    "\n",
    "simulation = 0\n",
    "while simulation < simulations:\n",
    "    # Teams are coded as integers from 0 to 31\n",
    "    TEAM_POTS = [range(1,8), range(8, 16), range(16, 24), range(24, 32)]  # Pots composition\n",
    "\n",
    "    #print(\"Simulation: %d\" % simulation)\n",
    "    failed = False  # if a simulated doesn't fulfill the constraints, restart the draw procedure\n",
    "\n",
    "    draws[simulation, 0, 0] = 0  # Russia to the first position in Group A\n",
    "\n",
    "    # Draw teams from pot 1, then teams from pot 2 and so on\n",
    "    for pot, teams in enumerate(TEAM_POTS):\n",
    "        #print(\"\\tPot %d\" % (pot+1))\n",
    "        GROUP_POT = range(0 if pot  > 0 else 1, GROUPS)  # Groups available\n",
    "\n",
    "        while len(teams) > 0:\n",
    "            # Draw a Team\n",
    "            chosen = np.random.choice(teams)\n",
    "            #print(\"\\t\\tTeam %s\" % TEAMS[chosen])\n",
    "\n",
    "            # Remove from the group list those that don't satisfy the constraints\n",
    "            groups = filter(lambda x: check_group(chosen, draws[simulation, x, :]), GROUP_POT)\n",
    "            if len(groups) < 1:  # If no group is available, restart the draw procedure\n",
    "                failed = True\n",
    "                break\n",
    "            # Take the first group available\n",
    "            group = groups.pop(0)\n",
    "\n",
    "            GROUP_POT.remove(group)  # remove the group from the list of available groups\n",
    "            teams.remove(chosen)  # remove the team from the list of teams to draw\n",
    "            draws[simulation, group, pot] = chosen  # store the draw result\n",
    "        if failed:\n",
    "            draws[simulation, :, :] = -1  # cancel the current simulated draw and restart it\n",
    "            break\n",
    "    if not failed:\n",
    "        simulation += 1  # correct simulated draw, process the next simulation"
   ]
  },
  {
   "cell_type": "markdown",
   "metadata": {},
   "source": [
    "## Probability estimation"
   ]
  },
  {
   "cell_type": "code",
   "execution_count": 5,
   "metadata": {
    "collapsed": false
   },
   "outputs": [],
   "source": [
    "total_events = float(simulations)  # total number of events\n",
    "estimations = np.full((len(TEAMS), len(TEAMS)), 0,  dtype=np.float32)  # store the probability estimations\n",
    "\n",
    "# For each pair of teams, calculate the probability of belonging to the same group\n",
    "for team in range(32):\n",
    "    pot = int(team / 8)  # Pot to which the current team belongs\n",
    "    rivals = np.array([draws[i,np.where(draws[i,:,:] == team)[0][0],:] for i in range(simulations)])\n",
    "    estimations[team, team] = 1  # each team has a prob=1 of belonging to its own group\n",
    "    for other_pot in filter(lambda x: x <> pot, range(4)):  \n",
    "        probabilities = [float(len(filter(lambda y: y == x, rivals[:, other_pot])))/total_events \\\n",
    "                         for x in range(8 * other_pot, 8 * other_pot + 8)]\n",
    "        for x in range(8):\n",
    "            estimations[team, x + 8 * other_pot] = probabilities[x]"
   ]
  },
  {
   "cell_type": "markdown",
   "metadata": {},
   "source": [
    "## Results after 1,000,000 simulations\n",
    "\n",
    "After simulating 1,000,000 draws, we can accurately estimate the likelihood of two teams belonging to the same group. \n",
    "\n",
    "**How to interpret the numbers in the table below?** The number in each cell represents the estimated probability that its row team and its column team belong to the same group. Probabilities are values from 0 (impossibility) to 1 (certainty). In order to be interpreted as a percentage, the probability value should be multiplied by 100.\n",
    "\n",
    "Obviously, the diagonal just contains 1.0, because each team has a probability equals to 1 (100%) of belonging to its own group. Likewise, the probability for two teams in the same pot playing in the same group is 0 (0%). \n",
    "\n",
    "Spain, for instance, has six European prospect rivals and two South American ones in the first pot. In a fully random draw, all the eight prospect rivals would have the same probability (0.125 or 12.5%) of facing Spain in the group phase of the tournament. However, the World Cup draw constraints assign to a feature Spain vs South American a probability of 0.41 (41%) when in a fully random draw this likelihood would be 0.25 (25%).\n",
    "\n",
    "Some surprising (or not, Iran is the only AFC team in the Pot 3 and Serbia the only UEFA team in the Pot 4) probabilities:\n",
    "\n",
    "- Iran and Nigeria belonging to the same group: 29%.\n",
    "- Iran and Morocco belonging to the same group: 29%.\n",
    "- Mexico and Serbia belonging to the same group: 27%.\n",
    "- Serbia joining Denmark, Iceland or Sweden: 9.6%."
   ]
  },
  {
   "cell_type": "code",
   "execution_count": 6,
   "metadata": {
    "collapsed": false
   },
   "outputs": [
    {
     "data": {
      "text/html": [
       "<table><tr><td>&nbsp;</td><td><b>Russia</b></td><td><b>Germany</b></td><td><b>Brazil</b></td><td><b>Portugal</b></td><td><b>Argentina</b></td><td><b>Belgium</b></td><td><b>Poland</b></td><td><b>France</b></td><td><b>Spain</b></td><td><b>Peru</b></td><td><b>Switzerland</b></td><td><b>England</b></td><td><b>Colombia</b></td><td><b>Mexico</b></td><td><b>Uruguay</b></td><td><b>Croatia</b></td><td><b>Denmark</b></td><td><b>Iceland</b></td><td><b>Costa Rica</b></td><td><b>Sweden</b></td><td><b>Tunisia</b></td><td><b>Egypt</b></td><td><b>Senegal</b></td><td><b>Iran</b></td><td><b>Serbia</b></td><td><b>Nigeria</b></td><td><b>Australia</b></td><td><b>Japan</b></td><td><b>Morocco</b></td><td><b>Panama</b></td><td><b>South Korea</b></td><td><b>Saudi Arabia</b></td></tr><tr><td><b>Russia</b></td><td>1.0</td><td>0.0</td><td>0.0</td><td>0.0</td><td>0.0</td><td>0.0</td><td>0.0</td><td>0.0</td><td>0.129</td><td>0.121</td><td>0.13</td><td>0.13</td><td>0.121</td><td>0.118</td><td>0.121</td><td>0.13</td><td>0.068</td><td>0.067</td><td>0.143</td><td>0.068</td><td>0.163</td><td>0.162</td><td>0.163</td><td>0.166</td><td>0.061</td><td>0.108</td><td>0.145</td><td>0.144</td><td>0.107</td><td>0.145</td><td>0.145</td><td>0.145</td></tr><tr><td><b>Germany</b></td><td>0.0</td><td>1.0</td><td>0.0</td><td>0.0</td><td>0.0</td><td>0.0</td><td>0.0</td><td>0.0</td><td>0.093</td><td>0.176</td><td>0.092</td><td>0.092</td><td>0.175</td><td>0.103</td><td>0.176</td><td>0.093</td><td>0.11</td><td>0.11</td><td>0.138</td><td>0.11</td><td>0.133</td><td>0.133</td><td>0.133</td><td>0.132</td><td>0.103</td><td>0.127</td><td>0.128</td><td>0.129</td><td>0.127</td><td>0.13</td><td>0.128</td><td>0.129</td></tr><tr><td><b>Brazil</b></td><td>0.0</td><td>0.0</td><td>1.0</td><td>0.0</td><td>0.0</td><td>0.0</td><td>0.0</td><td>0.0</td><td>0.204</td><td>0.0</td><td>0.204</td><td>0.204</td><td>0.0</td><td>0.184</td><td>0.0</td><td>0.204</td><td>0.191</td><td>0.191</td><td>0.083</td><td>0.191</td><td>0.086</td><td>0.086</td><td>0.086</td><td>0.086</td><td>0.213</td><td>0.128</td><td>0.106</td><td>0.107</td><td>0.129</td><td>0.103</td><td>0.106</td><td>0.107</td></tr><tr><td><b>Portugal</b></td><td>0.0</td><td>0.0</td><td>0.0</td><td>1.0</td><td>0.0</td><td>0.0</td><td>0.0</td><td>0.0</td><td>0.092</td><td>0.176</td><td>0.092</td><td>0.092</td><td>0.176</td><td>0.102</td><td>0.176</td><td>0.092</td><td>0.11</td><td>0.11</td><td>0.138</td><td>0.11</td><td>0.133</td><td>0.133</td><td>0.133</td><td>0.132</td><td>0.103</td><td>0.127</td><td>0.129</td><td>0.128</td><td>0.127</td><td>0.13</td><td>0.128</td><td>0.128</td></tr><tr><td><b>Argentina</b></td><td>0.0</td><td>0.0</td><td>0.0</td><td>0.0</td><td>1.0</td><td>0.0</td><td>0.0</td><td>0.0</td><td>0.204</td><td>0.0</td><td>0.204</td><td>0.204</td><td>0.0</td><td>0.184</td><td>0.0</td><td>0.204</td><td>0.191</td><td>0.19</td><td>0.083</td><td>0.191</td><td>0.086</td><td>0.086</td><td>0.086</td><td>0.087</td><td>0.212</td><td>0.129</td><td>0.107</td><td>0.107</td><td>0.129</td><td>0.103</td><td>0.107</td><td>0.106</td></tr><tr><td><b>Belgium</b></td><td>0.0</td><td>0.0</td><td>0.0</td><td>0.0</td><td>0.0</td><td>1.0</td><td>0.0</td><td>0.0</td><td>0.092</td><td>0.175</td><td>0.092</td><td>0.093</td><td>0.176</td><td>0.103</td><td>0.176</td><td>0.093</td><td>0.11</td><td>0.111</td><td>0.138</td><td>0.11</td><td>0.133</td><td>0.133</td><td>0.132</td><td>0.132</td><td>0.102</td><td>0.127</td><td>0.128</td><td>0.128</td><td>0.127</td><td>0.13</td><td>0.128</td><td>0.128</td></tr><tr><td><b>Poland</b></td><td>0.0</td><td>0.0</td><td>0.0</td><td>0.0</td><td>0.0</td><td>0.0</td><td>1.0</td><td>0.0</td><td>0.092</td><td>0.176</td><td>0.092</td><td>0.093</td><td>0.175</td><td>0.103</td><td>0.176</td><td>0.093</td><td>0.11</td><td>0.11</td><td>0.138</td><td>0.11</td><td>0.133</td><td>0.134</td><td>0.133</td><td>0.132</td><td>0.102</td><td>0.127</td><td>0.128</td><td>0.128</td><td>0.127</td><td>0.13</td><td>0.129</td><td>0.128</td></tr><tr><td><b>France</b></td><td>0.0</td><td>0.0</td><td>0.0</td><td>0.0</td><td>0.0</td><td>0.0</td><td>0.0</td><td>1.0</td><td>0.093</td><td>0.175</td><td>0.092</td><td>0.092</td><td>0.176</td><td>0.103</td><td>0.176</td><td>0.092</td><td>0.11</td><td>0.11</td><td>0.138</td><td>0.11</td><td>0.133</td><td>0.133</td><td>0.133</td><td>0.132</td><td>0.103</td><td>0.127</td><td>0.128</td><td>0.128</td><td>0.127</td><td>0.13</td><td>0.128</td><td>0.128</td></tr><tr><td><b>Spain</b></td><td>0.129</td><td>0.093</td><td>0.204</td><td>0.092</td><td>0.204</td><td>0.092</td><td>0.092</td><td>0.093</td><td>1.0</td><td>0.0</td><td>0.0</td><td>0.0</td><td>0.0</td><td>0.0</td><td>0.0</td><td>0.0</td><td>0.074</td><td>0.074</td><td>0.169</td><td>0.074</td><td>0.153</td><td>0.152</td><td>0.152</td><td>0.152</td><td>0.066</td><td>0.123</td><td>0.134</td><td>0.134</td><td>0.123</td><td>0.155</td><td>0.133</td><td>0.134</td></tr><tr><td><b>Peru</b></td><td>0.121</td><td>0.176</td><td>0.0</td><td>0.176</td><td>0.0</td><td>0.175</td><td>0.176</td><td>0.175</td><td>0.0</td><td>1.0</td><td>0.0</td><td>0.0</td><td>0.0</td><td>0.0</td><td>0.0</td><td>0.0</td><td>0.168</td><td>0.167</td><td>0.109</td><td>0.167</td><td>0.097</td><td>0.097</td><td>0.097</td><td>0.097</td><td>0.157</td><td>0.126</td><td>0.116</td><td>0.115</td><td>0.126</td><td>0.128</td><td>0.115</td><td>0.116</td></tr><tr><td><b>Switzerland</b></td><td>0.13</td><td>0.092</td><td>0.204</td><td>0.092</td><td>0.204</td><td>0.092</td><td>0.092</td><td>0.092</td><td>0.0</td><td>0.0</td><td>1.0</td><td>0.0</td><td>0.0</td><td>0.0</td><td>0.0</td><td>0.0</td><td>0.074</td><td>0.074</td><td>0.168</td><td>0.074</td><td>0.152</td><td>0.153</td><td>0.153</td><td>0.152</td><td>0.066</td><td>0.122</td><td>0.133</td><td>0.134</td><td>0.122</td><td>0.154</td><td>0.134</td><td>0.134</td></tr><tr><td><b>England</b></td><td>0.13</td><td>0.092</td><td>0.204</td><td>0.092</td><td>0.204</td><td>0.093</td><td>0.093</td><td>0.092</td><td>0.0</td><td>0.0</td><td>0.0</td><td>1.0</td><td>0.0</td><td>0.0</td><td>0.0</td><td>0.0</td><td>0.074</td><td>0.074</td><td>0.168</td><td>0.074</td><td>0.153</td><td>0.153</td><td>0.152</td><td>0.153</td><td>0.066</td><td>0.122</td><td>0.134</td><td>0.133</td><td>0.123</td><td>0.154</td><td>0.134</td><td>0.133</td></tr><tr><td><b>Colombia</b></td><td>0.121</td><td>0.175</td><td>0.0</td><td>0.176</td><td>0.0</td><td>0.176</td><td>0.175</td><td>0.176</td><td>0.0</td><td>0.0</td><td>0.0</td><td>0.0</td><td>1.0</td><td>0.0</td><td>0.0</td><td>0.0</td><td>0.167</td><td>0.167</td><td>0.109</td><td>0.167</td><td>0.098</td><td>0.097</td><td>0.097</td><td>0.097</td><td>0.157</td><td>0.126</td><td>0.115</td><td>0.116</td><td>0.127</td><td>0.128</td><td>0.116</td><td>0.116</td></tr><tr><td><b>Mexico</b></td><td>0.118</td><td>0.103</td><td>0.184</td><td>0.102</td><td>0.184</td><td>0.103</td><td>0.103</td><td>0.103</td><td>0.0</td><td>0.0</td><td>0.0</td><td>0.0</td><td>0.0</td><td>1.0</td><td>0.0</td><td>0.0</td><td>0.202</td><td>0.203</td><td>0.0</td><td>0.203</td><td>0.098</td><td>0.098</td><td>0.099</td><td>0.097</td><td>0.266</td><td>0.131</td><td>0.118</td><td>0.118</td><td>0.131</td><td>0.0</td><td>0.118</td><td>0.118</td></tr><tr><td><b>Uruguay</b></td><td>0.121</td><td>0.176</td><td>0.0</td><td>0.176</td><td>0.0</td><td>0.176</td><td>0.176</td><td>0.176</td><td>0.0</td><td>0.0</td><td>0.0</td><td>0.0</td><td>0.0</td><td>0.0</td><td>1.0</td><td>0.0</td><td>0.167</td><td>0.168</td><td>0.109</td><td>0.167</td><td>0.098</td><td>0.097</td><td>0.097</td><td>0.098</td><td>0.158</td><td>0.127</td><td>0.116</td><td>0.116</td><td>0.126</td><td>0.127</td><td>0.116</td><td>0.115</td></tr><tr><td><b>Croatia</b></td><td>0.13</td><td>0.093</td><td>0.204</td><td>0.092</td><td>0.204</td><td>0.093</td><td>0.093</td><td>0.092</td><td>0.0</td><td>0.0</td><td>0.0</td><td>0.0</td><td>0.0</td><td>0.0</td><td>0.0</td><td>1.0</td><td>0.074</td><td>0.073</td><td>0.168</td><td>0.074</td><td>0.152</td><td>0.153</td><td>0.153</td><td>0.153</td><td>0.065</td><td>0.122</td><td>0.134</td><td>0.134</td><td>0.123</td><td>0.153</td><td>0.134</td><td>0.134</td></tr><tr><td><b>Denmark</b></td><td>0.068</td><td>0.11</td><td>0.191</td><td>0.11</td><td>0.191</td><td>0.11</td><td>0.11</td><td>0.11</td><td>0.074</td><td>0.168</td><td>0.074</td><td>0.074</td><td>0.167</td><td>0.202</td><td>0.167</td><td>0.074</td><td>1.0</td><td>0.0</td><td>0.0</td><td>0.0</td><td>0.0</td><td>0.0</td><td>0.0</td><td>0.0</td><td>0.032</td><td>0.179</td><td>0.125</td><td>0.126</td><td>0.178</td><td>0.109</td><td>0.125</td><td>0.125</td></tr><tr><td><b>Iceland</b></td><td>0.067</td><td>0.11</td><td>0.191</td><td>0.11</td><td>0.19</td><td>0.111</td><td>0.11</td><td>0.11</td><td>0.074</td><td>0.167</td><td>0.074</td><td>0.074</td><td>0.167</td><td>0.203</td><td>0.168</td><td>0.073</td><td>0.0</td><td>1.0</td><td>0.0</td><td>0.0</td><td>0.0</td><td>0.0</td><td>0.0</td><td>0.0</td><td>0.032</td><td>0.178</td><td>0.125</td><td>0.126</td><td>0.179</td><td>0.109</td><td>0.126</td><td>0.126</td></tr><tr><td><b>Costa Rica</b></td><td>0.143</td><td>0.138</td><td>0.083</td><td>0.138</td><td>0.083</td><td>0.138</td><td>0.138</td><td>0.138</td><td>0.169</td><td>0.109</td><td>0.168</td><td>0.168</td><td>0.109</td><td>0.0</td><td>0.109</td><td>0.168</td><td>0.0</td><td>0.0</td><td>1.0</td><td>0.0</td><td>0.0</td><td>0.0</td><td>0.0</td><td>0.0</td><td>0.139</td><td>0.173</td><td>0.129</td><td>0.129</td><td>0.173</td><td>0.0</td><td>0.129</td><td>0.128</td></tr><tr><td><b>Sweden</b></td><td>0.068</td><td>0.11</td><td>0.191</td><td>0.11</td><td>0.191</td><td>0.11</td><td>0.11</td><td>0.11</td><td>0.074</td><td>0.167</td><td>0.074</td><td>0.074</td><td>0.167</td><td>0.203</td><td>0.167</td><td>0.074</td><td>0.0</td><td>0.0</td><td>0.0</td><td>1.0</td><td>0.0</td><td>0.0</td><td>0.0</td><td>0.0</td><td>0.032</td><td>0.178</td><td>0.126</td><td>0.126</td><td>0.178</td><td>0.109</td><td>0.125</td><td>0.126</td></tr><tr><td><b>Tunisia</b></td><td>0.163</td><td>0.133</td><td>0.086</td><td>0.133</td><td>0.086</td><td>0.133</td><td>0.133</td><td>0.133</td><td>0.153</td><td>0.097</td><td>0.152</td><td>0.153</td><td>0.098</td><td>0.098</td><td>0.098</td><td>0.152</td><td>0.0</td><td>0.0</td><td>0.0</td><td>0.0</td><td>1.0</td><td>0.0</td><td>0.0</td><td>0.0</td><td>0.184</td><td>0.0</td><td>0.165</td><td>0.165</td><td>0.0</td><td>0.157</td><td>0.165</td><td>0.165</td></tr><tr><td><b>Egypt</b></td><td>0.162</td><td>0.133</td><td>0.086</td><td>0.133</td><td>0.086</td><td>0.133</td><td>0.134</td><td>0.133</td><td>0.152</td><td>0.097</td><td>0.153</td><td>0.153</td><td>0.097</td><td>0.098</td><td>0.097</td><td>0.153</td><td>0.0</td><td>0.0</td><td>0.0</td><td>0.0</td><td>0.0</td><td>1.0</td><td>0.0</td><td>0.0</td><td>0.185</td><td>0.0</td><td>0.164</td><td>0.164</td><td>0.0</td><td>0.156</td><td>0.165</td><td>0.165</td></tr><tr><td><b>Senegal</b></td><td>0.163</td><td>0.133</td><td>0.086</td><td>0.133</td><td>0.086</td><td>0.132</td><td>0.133</td><td>0.133</td><td>0.152</td><td>0.097</td><td>0.153</td><td>0.152</td><td>0.097</td><td>0.099</td><td>0.097</td><td>0.153</td><td>0.0</td><td>0.0</td><td>0.0</td><td>0.0</td><td>0.0</td><td>0.0</td><td>1.0</td><td>0.0</td><td>0.185</td><td>0.0</td><td>0.165</td><td>0.165</td><td>0.0</td><td>0.156</td><td>0.165</td><td>0.165</td></tr><tr><td><b>Iran</b></td><td>0.166</td><td>0.132</td><td>0.086</td><td>0.132</td><td>0.087</td><td>0.132</td><td>0.132</td><td>0.132</td><td>0.152</td><td>0.097</td><td>0.152</td><td>0.153</td><td>0.097</td><td>0.097</td><td>0.098</td><td>0.153</td><td>0.0</td><td>0.0</td><td>0.0</td><td>0.0</td><td>0.0</td><td>0.0</td><td>0.0</td><td>1.0</td><td>0.212</td><td>0.292</td><td>0.0</td><td>0.0</td><td>0.292</td><td>0.204</td><td>0.0</td><td>0.0</td></tr><tr><td><b>Serbia</b></td><td>0.061</td><td>0.103</td><td>0.213</td><td>0.103</td><td>0.212</td><td>0.102</td><td>0.102</td><td>0.103</td><td>0.066</td><td>0.157</td><td>0.066</td><td>0.066</td><td>0.157</td><td>0.266</td><td>0.158</td><td>0.065</td><td>0.032</td><td>0.032</td><td>0.139</td><td>0.032</td><td>0.184</td><td>0.185</td><td>0.185</td><td>0.212</td><td>1.0</td><td>0.0</td><td>0.0</td><td>0.0</td><td>0.0</td><td>0.0</td><td>0.0</td><td>0.0</td></tr><tr><td><b>Nigeria</b></td><td>0.108</td><td>0.127</td><td>0.128</td><td>0.127</td><td>0.129</td><td>0.127</td><td>0.127</td><td>0.127</td><td>0.123</td><td>0.126</td><td>0.122</td><td>0.122</td><td>0.126</td><td>0.131</td><td>0.127</td><td>0.122</td><td>0.179</td><td>0.178</td><td>0.173</td><td>0.178</td><td>0.0</td><td>0.0</td><td>0.0</td><td>0.292</td><td>0.0</td><td>1.0</td><td>0.0</td><td>0.0</td><td>0.0</td><td>0.0</td><td>0.0</td><td>0.0</td></tr><tr><td><b>Australia</b></td><td>0.145</td><td>0.128</td><td>0.106</td><td>0.129</td><td>0.107</td><td>0.128</td><td>0.128</td><td>0.128</td><td>0.134</td><td>0.116</td><td>0.133</td><td>0.134</td><td>0.115</td><td>0.118</td><td>0.116</td><td>0.134</td><td>0.125</td><td>0.125</td><td>0.129</td><td>0.126</td><td>0.165</td><td>0.164</td><td>0.165</td><td>0.0</td><td>0.0</td><td>0.0</td><td>1.0</td><td>0.0</td><td>0.0</td><td>0.0</td><td>0.0</td><td>0.0</td></tr><tr><td><b>Japan</b></td><td>0.144</td><td>0.129</td><td>0.107</td><td>0.128</td><td>0.107</td><td>0.128</td><td>0.128</td><td>0.128</td><td>0.134</td><td>0.115</td><td>0.134</td><td>0.133</td><td>0.116</td><td>0.118</td><td>0.116</td><td>0.134</td><td>0.126</td><td>0.126</td><td>0.129</td><td>0.126</td><td>0.165</td><td>0.164</td><td>0.165</td><td>0.0</td><td>0.0</td><td>0.0</td><td>0.0</td><td>1.0</td><td>0.0</td><td>0.0</td><td>0.0</td><td>0.0</td></tr><tr><td><b>Morocco</b></td><td>0.107</td><td>0.127</td><td>0.129</td><td>0.127</td><td>0.129</td><td>0.127</td><td>0.127</td><td>0.127</td><td>0.123</td><td>0.126</td><td>0.122</td><td>0.123</td><td>0.127</td><td>0.131</td><td>0.126</td><td>0.123</td><td>0.178</td><td>0.179</td><td>0.173</td><td>0.178</td><td>0.0</td><td>0.0</td><td>0.0</td><td>0.292</td><td>0.0</td><td>0.0</td><td>0.0</td><td>0.0</td><td>1.0</td><td>0.0</td><td>0.0</td><td>0.0</td></tr><tr><td><b>Panama</b></td><td>0.145</td><td>0.13</td><td>0.103</td><td>0.13</td><td>0.103</td><td>0.13</td><td>0.13</td><td>0.13</td><td>0.155</td><td>0.128</td><td>0.154</td><td>0.154</td><td>0.128</td><td>0.0</td><td>0.127</td><td>0.153</td><td>0.109</td><td>0.109</td><td>0.0</td><td>0.109</td><td>0.157</td><td>0.156</td><td>0.156</td><td>0.204</td><td>0.0</td><td>0.0</td><td>0.0</td><td>0.0</td><td>0.0</td><td>1.0</td><td>0.0</td><td>0.0</td></tr><tr><td><b>South Korea</b></td><td>0.145</td><td>0.128</td><td>0.106</td><td>0.128</td><td>0.107</td><td>0.128</td><td>0.129</td><td>0.128</td><td>0.133</td><td>0.115</td><td>0.134</td><td>0.134</td><td>0.116</td><td>0.118</td><td>0.116</td><td>0.134</td><td>0.125</td><td>0.126</td><td>0.129</td><td>0.125</td><td>0.165</td><td>0.165</td><td>0.165</td><td>0.0</td><td>0.0</td><td>0.0</td><td>0.0</td><td>0.0</td><td>0.0</td><td>0.0</td><td>1.0</td><td>0.0</td></tr><tr><td><b>Saudi Arabia</b></td><td>0.145</td><td>0.129</td><td>0.107</td><td>0.128</td><td>0.106</td><td>0.128</td><td>0.128</td><td>0.128</td><td>0.134</td><td>0.116</td><td>0.134</td><td>0.133</td><td>0.116</td><td>0.118</td><td>0.115</td><td>0.134</td><td>0.125</td><td>0.126</td><td>0.128</td><td>0.126</td><td>0.165</td><td>0.165</td><td>0.165</td><td>0.0</td><td>0.0</td><td>0.0</td><td>0.0</td><td>0.0</td><td>0.0</td><td>0.0</td><td>0.0</td><td>1.0</td></tr></table>"
      ]
     },
     "metadata": {},
     "output_type": "display_data"
    }
   ],
   "source": [
    "# HTML output\n",
    "html = \"<table>\"\n",
    "html += \"<tr><td>&nbsp;</td><td><b>%s</b></td></tr>\" % (\"</b></td><td><b>\".join(TEAMS))\n",
    "for team in range(len(TEAMS)):\n",
    "    html += \"<tr><td><b>%s</b></td><td>%s</td></tr>\" % (TEAMS[team], \n",
    "                                                        \"</td><td>\".join([str(round(x, 3)) \\\n",
    "                                                                          for x in estimations[team,:]]))\n",
    "html += \"</table>\"\n",
    "print_html(html)"
   ]
  },
  {
   "cell_type": "markdown",
   "metadata": {},
   "source": [
    "## Most likely rivals for each team and from each pot\n",
    "\n",
    "The table below shows the most likely rival per pot for each team. In the Brazil case, the most likely rival from pot 2 is Spain (with the same probability for England, Switzerland and Croatia), from pot 3 is Sweden (but with the same odds for Denmark and Iceland) and from pot 4 is Serbia. This doesn't represent a valid group composition, because the World Cup constraints are not fulfilled. Just two UEFA teams maximum are allowed in the same group."
   ]
  },
  {
   "cell_type": "code",
   "execution_count": 7,
   "metadata": {
    "collapsed": false
   },
   "outputs": [
    {
     "data": {
      "text/html": [
       "<table><tr><td><b>TEAM</b></td><td colspan='3'><b>RIVALS</b></td></tr><tr><td><b>Russia</b></td><td>Croatia</td><td>Iran</td><td>Saudi Arabia</td></tr><tr><td><b>Germany</b></td><td>Peru</td><td>Costa Rica</td><td>Panama</td></tr><tr><td><b>Brazil</b></td><td>Spain</td><td>Sweden</td><td>Serbia</td></tr><tr><td><b>Portugal</b></td><td>Peru</td><td>Costa Rica</td><td>Panama</td></tr><tr><td><b>Argentina</b></td><td>Switzerland</td><td>Denmark</td><td>Serbia</td></tr><tr><td><b>Belgium</b></td><td>Colombia</td><td>Costa Rica</td><td>Panama</td></tr><tr><td><b>Poland</b></td><td>Peru</td><td>Costa Rica</td><td>Panama</td></tr><tr><td><b>France</b></td><td>Colombia</td><td>Costa Rica</td><td>Panama</td></tr><tr><td><b>Spain</b></td><td>Brazil</td><td>Costa Rica</td><td>Panama</td></tr><tr><td><b>Peru</b></td><td>Portugal</td><td>Denmark</td><td>Serbia</td></tr><tr><td><b>Switzerland</b></td><td>Brazil</td><td>Costa Rica</td><td>Panama</td></tr><tr><td><b>England</b></td><td>Argentina</td><td>Costa Rica</td><td>Panama</td></tr><tr><td><b>Colombia</b></td><td>Portugal</td><td>Denmark</td><td>Serbia</td></tr><tr><td><b>Mexico</b></td><td>Argentina</td><td>Sweden</td><td>Serbia</td></tr><tr><td><b>Uruguay</b></td><td>Portugal</td><td>Iceland</td><td>Serbia</td></tr><tr><td><b>Croatia</b></td><td>Brazil</td><td>Costa Rica</td><td>Panama</td></tr><tr><td><b>Denmark</b></td><td>Argentina</td><td>Mexico</td><td>Nigeria</td></tr><tr><td><b>Iceland</b></td><td>Brazil</td><td>Mexico</td><td>Morocco</td></tr><tr><td><b>Costa Rica</b></td><td>Russia</td><td>Spain</td><td>Morocco</td></tr><tr><td><b>Sweden</b></td><td>Argentina</td><td>Mexico</td><td>Morocco</td></tr><tr><td><b>Tunisia</b></td><td>Russia</td><td>Spain</td><td>Serbia</td></tr><tr><td><b>Egypt</b></td><td>Russia</td><td>Switzerland</td><td>Serbia</td></tr><tr><td><b>Senegal</b></td><td>Russia</td><td>Croatia</td><td>Serbia</td></tr><tr><td><b>Iran</b></td><td>Russia</td><td>England</td><td>Morocco</td></tr><tr><td><b>Serbia</b></td><td>Brazil</td><td>Mexico</td><td>Iran</td></tr><tr><td><b>Nigeria</b></td><td>Argentina</td><td>Mexico</td><td>Iran</td></tr><tr><td><b>Australia</b></td><td>Russia</td><td>Croatia</td><td>Senegal</td></tr><tr><td><b>Japan</b></td><td>Russia</td><td>Switzerland</td><td>Tunisia</td></tr><tr><td><b>Morocco</b></td><td>Argentina</td><td>Mexico</td><td>Iran</td></tr><tr><td><b>Panama</b></td><td>Russia</td><td>Spain</td><td>Iran</td></tr><tr><td><b>South Korea</b></td><td>Russia</td><td>Croatia</td><td>Egypt</td></tr><tr><td><b>Saudi Arabia</b></td><td>Russia</td><td>Switzerland</td><td>Egypt</td></tr></table>"
      ]
     },
     "metadata": {},
     "output_type": "display_data"
    }
   ],
   "source": [
    "# This can lead to inconsistent group compositions\n",
    "TEAM_POTS = [range(8), range(8, 16), range(16, 24), range(24, 32)]\n",
    "html = \"<table><tr><td><b>TEAM</b></td><td colspan='3'><b>RIVALS</b></td></tr>\"\n",
    "for team in range(32):\n",
    "    rivals = []\n",
    "    for pot_idx, group_range in enumerate(TEAM_POTS):\n",
    "        relative_idx = np.argmax(estimations[team, group_range])\n",
    "        rivals.append(TEAMS[relative_idx + pot_idx * 8])\n",
    "    rivals.remove(TEAMS[team])\n",
    "    html += \"<tr><td><b>%s</b></td><td>%s</td><td>%s</td><td>%s</td></tr>\" % (TEAMS[team], \n",
    "                                                                              rivals[0], \n",
    "                                                                              rivals[1], \n",
    "                                                                              rivals[2])\n",
    "html += \"</table>\"\n",
    "print_html(html)"
   ]
  }
 ],
 "metadata": {
  "anaconda-cloud": {},
  "kernelspec": {
   "display_name": "Python [default]",
   "language": "python",
   "name": "python2"
  },
  "language_info": {
   "codemirror_mode": {
    "name": "ipython",
    "version": 2
   },
   "file_extension": ".py",
   "mimetype": "text/x-python",
   "name": "python",
   "nbconvert_exporter": "python",
   "pygments_lexer": "ipython2",
   "version": "2.7.12"
  }
 },
 "nbformat": 4,
 "nbformat_minor": 1
}
